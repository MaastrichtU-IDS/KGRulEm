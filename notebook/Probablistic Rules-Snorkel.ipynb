{
 "cells": [
  {
   "cell_type": "code",
   "execution_count": 1,
   "metadata": {},
   "outputs": [],
   "source": [
    "import pandas as pd\n",
    "\n",
    "\n",
    "DISPLAY_ALL_TEXT = False\n",
    "\n",
    "pd.set_option(\"display.max_colwidth\", 0 if DISPLAY_ALL_TEXT else 50)"
   ]
  },
  {
   "cell_type": "code",
   "execution_count": 42,
   "metadata": {},
   "outputs": [],
   "source": [
    "### Dataset contains text and disease and drug mentions which were extracted from the DailyMed drug lables"
   ]
  },
  {
   "cell_type": "code",
   "execution_count": 43,
   "metadata": {},
   "outputs": [
    {
     "data": {
      "text/plain": [
       "54040"
      ]
     },
     "execution_count": 43,
     "metadata": {},
     "output_type": "execute_result"
    }
   ],
   "source": [
    "\n",
    "unlabeled_df  = pd.read_csv('../data/input/raw_cleaned.csv.zip',  compression='zip')\n",
    "unlabeled_df = unlabeled_df[['DB_ID', 'DO_ID','disease', 'Label_ID', 'DrugName', 'Context','Section' ]]\n",
    "len(unlabeled_df)"
   ]
  },
  {
   "cell_type": "code",
   "execution_count": 44,
   "metadata": {},
   "outputs": [
    {
     "data": {
      "text/plain": [
       "39810"
      ]
     },
     "execution_count": 44,
     "metadata": {},
     "output_type": "execute_result"
    }
   ],
   "source": [
    "unlabeled_df= unlabeled_df.rename(columns={'DrugName':'Drug_name'})\n",
    "unlabeled_df.drop_duplicates(subset=['Context','DO_ID'], keep='first', inplace=True)\n",
    "len(unlabeled_df)"
   ]
  },
  {
   "cell_type": "code",
   "execution_count": 45,
   "metadata": {},
   "outputs": [],
   "source": [
    "unlabeled_df.DB_ID= 'Compound::'+unlabeled_df.DB_ID"
   ]
  },
  {
   "cell_type": "code",
   "execution_count": 47,
   "metadata": {},
   "outputs": [],
   "source": [
    "unlabeled_df.DO_ID= 'Disease::DOID:'+unlabeled_df.DO_ID.str[5:]"
   ]
  },
  {
   "cell_type": "code",
   "execution_count": 52,
   "metadata": {},
   "outputs": [
    {
     "data": {
      "text/html": [
       "<div>\n",
       "<style scoped>\n",
       "    .dataframe tbody tr th:only-of-type {\n",
       "        vertical-align: middle;\n",
       "    }\n",
       "\n",
       "    .dataframe tbody tr th {\n",
       "        vertical-align: top;\n",
       "    }\n",
       "\n",
       "    .dataframe thead th {\n",
       "        text-align: right;\n",
       "    }\n",
       "</style>\n",
       "<table border=\"1\" class=\"dataframe\">\n",
       "  <thead>\n",
       "    <tr style=\"text-align: right;\">\n",
       "      <th></th>\n",
       "      <th>DB_ID</th>\n",
       "      <th>DO_ID</th>\n",
       "      <th>disease</th>\n",
       "      <th>Label_ID</th>\n",
       "      <th>Drug_name</th>\n",
       "      <th>Context</th>\n",
       "      <th>Section</th>\n",
       "    </tr>\n",
       "  </thead>\n",
       "  <tbody>\n",
       "    <tr>\n",
       "      <th>0</th>\n",
       "      <td>Compound::DB00752</td>\n",
       "      <td>Disease::DOID:0050773</td>\n",
       "      <td>paraganglioma</td>\n",
       "      <td>9f3ad5aa-8e9d-4512-88a5-15cfd50293f9.xml</td>\n",
       "      <td>TRANYLCYPROMINE</td>\n",
       "      <td>concomitant use or use in rapid succession wit...</td>\n",
       "      <td>Contraindication</td>\n",
       "    </tr>\n",
       "    <tr>\n",
       "      <th>1</th>\n",
       "      <td>Compound::DB00752</td>\n",
       "      <td>Disease::DOID:225</td>\n",
       "      <td>syndrome</td>\n",
       "      <td>9f3ad5aa-8e9d-4512-88a5-15cfd50293f9.xml</td>\n",
       "      <td>TRANYLCYPROMINE</td>\n",
       "      <td>concomitant use or use in rapid succession wit...</td>\n",
       "      <td>Contraindication</td>\n",
       "    </tr>\n",
       "    <tr>\n",
       "      <th>2</th>\n",
       "      <td>Compound::DB00752</td>\n",
       "      <td>Disease::DOID:4481</td>\n",
       "      <td>hay fever</td>\n",
       "      <td>9f3ad5aa-8e9d-4512-88a5-15cfd50293f9.xml</td>\n",
       "      <td>TRANYLCYPROMINE</td>\n",
       "      <td>concomitant use or use in rapid succession wit...</td>\n",
       "      <td>Contraindication</td>\n",
       "    </tr>\n",
       "    <tr>\n",
       "      <th>3</th>\n",
       "      <td>Compound::DB00752</td>\n",
       "      <td>Disease::DOID:0050773</td>\n",
       "      <td>paraganglioma</td>\n",
       "      <td>4de045ff-f76c-48dd-9e5f-4a4f859eec8f.xml</td>\n",
       "      <td>TRANYLCYPROMINE</td>\n",
       "      <td>concomitant use or use in rapid succession wit...</td>\n",
       "      <td>Contraindication</td>\n",
       "    </tr>\n",
       "    <tr>\n",
       "      <th>4</th>\n",
       "      <td>Compound::DB00752</td>\n",
       "      <td>Disease::DOID:225</td>\n",
       "      <td>syndrome</td>\n",
       "      <td>4de045ff-f76c-48dd-9e5f-4a4f859eec8f.xml</td>\n",
       "      <td>TRANYLCYPROMINE</td>\n",
       "      <td>concomitant use or use in rapid succession wit...</td>\n",
       "      <td>Contraindication</td>\n",
       "    </tr>\n",
       "  </tbody>\n",
       "</table>\n",
       "</div>"
      ],
      "text/plain": [
       "               DB_ID                  DO_ID        disease  \\\n",
       "0  Compound::DB00752  Disease::DOID:0050773  paraganglioma   \n",
       "1  Compound::DB00752      Disease::DOID:225       syndrome   \n",
       "2  Compound::DB00752     Disease::DOID:4481      hay fever   \n",
       "3  Compound::DB00752  Disease::DOID:0050773  paraganglioma   \n",
       "4  Compound::DB00752      Disease::DOID:225       syndrome   \n",
       "\n",
       "                                   Label_ID        Drug_name  \\\n",
       "0  9f3ad5aa-8e9d-4512-88a5-15cfd50293f9.xml  TRANYLCYPROMINE   \n",
       "1  9f3ad5aa-8e9d-4512-88a5-15cfd50293f9.xml  TRANYLCYPROMINE   \n",
       "2  9f3ad5aa-8e9d-4512-88a5-15cfd50293f9.xml  TRANYLCYPROMINE   \n",
       "3  4de045ff-f76c-48dd-9e5f-4a4f859eec8f.xml  TRANYLCYPROMINE   \n",
       "4  4de045ff-f76c-48dd-9e5f-4a4f859eec8f.xml  TRANYLCYPROMINE   \n",
       "\n",
       "                                             Context           Section  \n",
       "0  concomitant use or use in rapid succession wit...  Contraindication  \n",
       "1  concomitant use or use in rapid succession wit...  Contraindication  \n",
       "2  concomitant use or use in rapid succession wit...  Contraindication  \n",
       "3  concomitant use or use in rapid succession wit...  Contraindication  \n",
       "4  concomitant use or use in rapid succession wit...  Contraindication  "
      ]
     },
     "execution_count": 52,
     "metadata": {},
     "output_type": "execute_result"
    }
   ],
   "source": [
    "unlabeled_df.head()"
   ]
  },
  {
   "cell_type": "markdown",
   "metadata": {},
   "source": [
    "### Dataset labelled by experts to be used as test data"
   ]
  },
  {
   "cell_type": "code",
   "execution_count": 77,
   "metadata": {},
   "outputs": [
    {
     "data": {
      "text/html": [
       "<div>\n",
       "<style scoped>\n",
       "    .dataframe tbody tr th:only-of-type {\n",
       "        vertical-align: middle;\n",
       "    }\n",
       "\n",
       "    .dataframe tbody tr th {\n",
       "        vertical-align: top;\n",
       "    }\n",
       "\n",
       "    .dataframe thead th {\n",
       "        text-align: right;\n",
       "    }\n",
       "</style>\n",
       "<table border=\"1\" class=\"dataframe\">\n",
       "  <thead>\n",
       "    <tr style=\"text-align: right;\">\n",
       "      <th></th>\n",
       "      <th>#</th>\n",
       "      <th>context</th>\n",
       "      <th>disease_name</th>\n",
       "      <th>drug_name</th>\n",
       "      <th>workers_answers</th>\n",
       "      <th>medical_expert1</th>\n",
       "      <th>medical_expert2</th>\n",
       "      <th>medical_expert3</th>\n",
       "      <th>do_id</th>\n",
       "      <th>drug_brand_name</th>\n",
       "      <th>drug_id</th>\n",
       "      <th>label_id</th>\n",
       "      <th>sheet</th>\n",
       "      <th>expert_consensus</th>\n",
       "      <th>inter_agree_experts</th>\n",
       "      <th>medical_expert4</th>\n",
       "      <th>Final \\n(closest option)</th>\n",
       "    </tr>\n",
       "  </thead>\n",
       "  <tbody>\n",
       "    <tr>\n",
       "      <th>66</th>\n",
       "      <td>74.0</td>\n",
       "      <td>Levobunolol HCl ophthalmic solution has been s...</td>\n",
       "      <td>OCULAR HYPERTENSION</td>\n",
       "      <td>levobunolol</td>\n",
       "      <td>indication_treatment\\nindication_treatment\\nin...</td>\n",
       "      <td>Indication: Treatment</td>\n",
       "      <td>Indication: Treatment</td>\n",
       "      <td>Indication: Treatment</td>\n",
       "      <td>DOID_9282</td>\n",
       "      <td>NaN</td>\n",
       "      <td>DB01210</td>\n",
       "      <td>8df5bfb3-75d7-4030-b5cb-29ec9ebac0b2.xml</td>\n",
       "      <td>Indication_treatment</td>\n",
       "      <td>Indication: Treatment</td>\n",
       "      <td>3</td>\n",
       "      <td>NaN</td>\n",
       "      <td>NaN</td>\n",
       "    </tr>\n",
       "  </tbody>\n",
       "</table>\n",
       "</div>"
      ],
      "text/plain": [
       "       #                                            context  \\\n",
       "66  74.0  Levobunolol HCl ophthalmic solution has been s...   \n",
       "\n",
       "           disease_name    drug_name  \\\n",
       "66  OCULAR HYPERTENSION  levobunolol   \n",
       "\n",
       "                                      workers_answers        medical_expert1  \\\n",
       "66  indication_treatment\\nindication_treatment\\nin...  Indication: Treatment   \n",
       "\n",
       "          medical_expert2        medical_expert3      do_id drug_brand_name  \\\n",
       "66  Indication: Treatment  Indication: Treatment  DOID_9282             NaN   \n",
       "\n",
       "    drug_id                                  label_id                 sheet  \\\n",
       "66  DB01210  8df5bfb3-75d7-4030-b5cb-29ec9ebac0b2.xml  Indication_treatment   \n",
       "\n",
       "         expert_consensus  inter_agree_experts medical_expert4  \\\n",
       "66  Indication: Treatment                    3             NaN   \n",
       "\n",
       "   Final \\n(closest option)  \n",
       "66                      NaN  "
      ]
     },
     "execution_count": 77,
     "metadata": {},
     "output_type": "execute_result"
    }
   ],
   "source": [
    "experts = pd.read_csv('../data/input/expert_resolved_all.csv')\n",
    "experts.sample()"
   ]
  },
  {
   "cell_type": "code",
   "execution_count": 78,
   "metadata": {},
   "outputs": [],
   "source": [
    "experts = experts.rename(columns={'drug_name':'Drug_name',\n",
    "                        'disease_name':'disease', 'context':'Context',\n",
    "                        'do_id':'DO_ID','drug_id':'DB_ID',\n",
    "                        'label_id':'Label_ID', 'expert_consensus':'relation'})\n",
    "#experts[['DB_ID', 'DO_ID','disease', 'Label_ID', 'Set_ID','relation', 'Drug_name', 'Context','Section']]\n"
   ]
  },
  {
   "cell_type": "code",
   "execution_count": 79,
   "metadata": {},
   "outputs": [],
   "source": [
    "experts.DB_ID='Compound::'+experts.DB_ID\n",
    "experts.DO_ID= 'Disease::DOID:'+experts.DO_ID.str[5:]"
   ]
  },
  {
   "cell_type": "code",
   "execution_count": 80,
   "metadata": {},
   "outputs": [
    {
     "data": {
      "text/html": [
       "<div>\n",
       "<style scoped>\n",
       "    .dataframe tbody tr th:only-of-type {\n",
       "        vertical-align: middle;\n",
       "    }\n",
       "\n",
       "    .dataframe tbody tr th {\n",
       "        vertical-align: top;\n",
       "    }\n",
       "\n",
       "    .dataframe thead th {\n",
       "        text-align: right;\n",
       "    }\n",
       "</style>\n",
       "<table border=\"1\" class=\"dataframe\">\n",
       "  <thead>\n",
       "    <tr style=\"text-align: right;\">\n",
       "      <th></th>\n",
       "      <th>#</th>\n",
       "      <th>Context</th>\n",
       "      <th>disease</th>\n",
       "      <th>Drug_name</th>\n",
       "      <th>workers_answers</th>\n",
       "      <th>medical_expert1</th>\n",
       "      <th>medical_expert2</th>\n",
       "      <th>medical_expert3</th>\n",
       "      <th>DO_ID</th>\n",
       "      <th>drug_brand_name</th>\n",
       "      <th>DB_ID</th>\n",
       "      <th>Label_ID</th>\n",
       "      <th>sheet</th>\n",
       "      <th>relation</th>\n",
       "      <th>inter_agree_experts</th>\n",
       "      <th>medical_expert4</th>\n",
       "      <th>Final \\n(closest option)</th>\n",
       "    </tr>\n",
       "  </thead>\n",
       "  <tbody>\n",
       "    <tr>\n",
       "      <th>0</th>\n",
       "      <td>1.0</td>\n",
       "      <td>Nisoldipine extended-release tablets are indic...</td>\n",
       "      <td>HYPERTENSION</td>\n",
       "      <td>NISOLDIPINE</td>\n",
       "      <td>indication_treatment\\nindication_treatment\\nin...</td>\n",
       "      <td>Indication: Treatment</td>\n",
       "      <td>Indication: Treatment</td>\n",
       "      <td>Indication: Treatment</td>\n",
       "      <td>Disease::DOID:10763</td>\n",
       "      <td>NaN</td>\n",
       "      <td>Compound::DB00401</td>\n",
       "      <td>ce733b39-7857-4538-92d6-1c68a4e4eb75.xml</td>\n",
       "      <td>Indication_treatment</td>\n",
       "      <td>Indication: Treatment</td>\n",
       "      <td>3</td>\n",
       "      <td>NaN</td>\n",
       "      <td>NaN</td>\n",
       "    </tr>\n",
       "    <tr>\n",
       "      <th>1</th>\n",
       "      <td>2.0</td>\n",
       "      <td>[None, 'Bisoprolol fumarate tablets, USP are i...</td>\n",
       "      <td>HYPERTENSION</td>\n",
       "      <td>BISOPROLOL</td>\n",
       "      <td>indication_treatment\\nindication_treatment\\nin...</td>\n",
       "      <td>Indication: Treatment</td>\n",
       "      <td>Indication: Treatment</td>\n",
       "      <td>Indication: Treatment</td>\n",
       "      <td>Disease::DOID:10763</td>\n",
       "      <td>NaN</td>\n",
       "      <td>Compound::DB00612</td>\n",
       "      <td>c818c38d-ee37-4ceb-b078-611483b4f743.xml</td>\n",
       "      <td>Indication_treatment</td>\n",
       "      <td>Indication: Treatment</td>\n",
       "      <td>3</td>\n",
       "      <td>NaN</td>\n",
       "      <td>NaN</td>\n",
       "    </tr>\n",
       "    <tr>\n",
       "      <th>2</th>\n",
       "      <td>3.0</td>\n",
       "      <td>Pindolol tablets are indicated in the manageme...</td>\n",
       "      <td>HYPERTENSION</td>\n",
       "      <td>PINDOLOL</td>\n",
       "      <td>indication_treatment\\nindication_treatment\\nin...</td>\n",
       "      <td>Indication: Treatment</td>\n",
       "      <td>Indication: Treatment</td>\n",
       "      <td>Indication: Treatment</td>\n",
       "      <td>Disease::DOID:10763</td>\n",
       "      <td>NaN</td>\n",
       "      <td>Compound::DB00960</td>\n",
       "      <td>d4078b63-30ad-435b-a081-4d90562962b5.xml</td>\n",
       "      <td>Indication_treatment</td>\n",
       "      <td>Indication: Treatment</td>\n",
       "      <td>3</td>\n",
       "      <td>NaN</td>\n",
       "      <td>NaN</td>\n",
       "    </tr>\n",
       "    <tr>\n",
       "      <th>3</th>\n",
       "      <td>4.0</td>\n",
       "      <td>Eprosartan mesylate tablets are indicated for ...</td>\n",
       "      <td>HYPERTENSION</td>\n",
       "      <td>EPROSARTAN</td>\n",
       "      <td>indication_treatment\\nindication_treatment\\nin...</td>\n",
       "      <td>Indication: Treatment</td>\n",
       "      <td>Indication: Treatment</td>\n",
       "      <td>Indication: Treatment</td>\n",
       "      <td>Disease::DOID:10763</td>\n",
       "      <td>NaN</td>\n",
       "      <td>Compound::DB00876</td>\n",
       "      <td>ab531d28-345b-4113-9fde-00cd63ad5b1a.xml</td>\n",
       "      <td>Indication_treatment</td>\n",
       "      <td>Indication: Treatment</td>\n",
       "      <td>3</td>\n",
       "      <td>NaN</td>\n",
       "      <td>NaN</td>\n",
       "    </tr>\n",
       "    <tr>\n",
       "      <th>4</th>\n",
       "      <td>5.0</td>\n",
       "      <td>[None, 'Labetalol hydrochloride tablets, USP a...</td>\n",
       "      <td>HYPERTENSION</td>\n",
       "      <td>LABETALOL</td>\n",
       "      <td>indication_treatment\\nindication_treatment\\nin...</td>\n",
       "      <td>Indication: Treatment</td>\n",
       "      <td>Indication: Treatment</td>\n",
       "      <td>Indication: Treatment</td>\n",
       "      <td>Disease::DOID:10763</td>\n",
       "      <td>NaN</td>\n",
       "      <td>Compound::DB00598</td>\n",
       "      <td>78765cc3-27dc-0373-e053-2991aa0a7fe1.xml</td>\n",
       "      <td>Indication_treatment</td>\n",
       "      <td>Indication: Treatment</td>\n",
       "      <td>3</td>\n",
       "      <td>NaN</td>\n",
       "      <td>NaN</td>\n",
       "    </tr>\n",
       "  </tbody>\n",
       "</table>\n",
       "</div>"
      ],
      "text/plain": [
       "     #                                            Context       disease  \\\n",
       "0  1.0  Nisoldipine extended-release tablets are indic...  HYPERTENSION   \n",
       "1  2.0  [None, 'Bisoprolol fumarate tablets, USP are i...  HYPERTENSION   \n",
       "2  3.0  Pindolol tablets are indicated in the manageme...  HYPERTENSION   \n",
       "3  4.0  Eprosartan mesylate tablets are indicated for ...  HYPERTENSION   \n",
       "4  5.0  [None, 'Labetalol hydrochloride tablets, USP a...  HYPERTENSION   \n",
       "\n",
       "     Drug_name                                    workers_answers  \\\n",
       "0  NISOLDIPINE  indication_treatment\\nindication_treatment\\nin...   \n",
       "1   BISOPROLOL  indication_treatment\\nindication_treatment\\nin...   \n",
       "2     PINDOLOL  indication_treatment\\nindication_treatment\\nin...   \n",
       "3   EPROSARTAN  indication_treatment\\nindication_treatment\\nin...   \n",
       "4    LABETALOL  indication_treatment\\nindication_treatment\\nin...   \n",
       "\n",
       "         medical_expert1        medical_expert2        medical_expert3  \\\n",
       "0  Indication: Treatment  Indication: Treatment  Indication: Treatment   \n",
       "1  Indication: Treatment  Indication: Treatment  Indication: Treatment   \n",
       "2  Indication: Treatment  Indication: Treatment  Indication: Treatment   \n",
       "3  Indication: Treatment  Indication: Treatment  Indication: Treatment   \n",
       "4  Indication: Treatment  Indication: Treatment  Indication: Treatment   \n",
       "\n",
       "                 DO_ID drug_brand_name              DB_ID  \\\n",
       "0  Disease::DOID:10763             NaN  Compound::DB00401   \n",
       "1  Disease::DOID:10763             NaN  Compound::DB00612   \n",
       "2  Disease::DOID:10763             NaN  Compound::DB00960   \n",
       "3  Disease::DOID:10763             NaN  Compound::DB00876   \n",
       "4  Disease::DOID:10763             NaN  Compound::DB00598   \n",
       "\n",
       "                                   Label_ID                 sheet  \\\n",
       "0  ce733b39-7857-4538-92d6-1c68a4e4eb75.xml  Indication_treatment   \n",
       "1  c818c38d-ee37-4ceb-b078-611483b4f743.xml  Indication_treatment   \n",
       "2  d4078b63-30ad-435b-a081-4d90562962b5.xml  Indication_treatment   \n",
       "3  ab531d28-345b-4113-9fde-00cd63ad5b1a.xml  Indication_treatment   \n",
       "4  78765cc3-27dc-0373-e053-2991aa0a7fe1.xml  Indication_treatment   \n",
       "\n",
       "                relation  inter_agree_experts medical_expert4  \\\n",
       "0  Indication: Treatment                    3             NaN   \n",
       "1  Indication: Treatment                    3             NaN   \n",
       "2  Indication: Treatment                    3             NaN   \n",
       "3  Indication: Treatment                    3             NaN   \n",
       "4  Indication: Treatment                    3             NaN   \n",
       "\n",
       "  Final \\n(closest option)  \n",
       "0                      NaN  \n",
       "1                      NaN  \n",
       "2                      NaN  \n",
       "3                      NaN  \n",
       "4                      NaN  "
      ]
     },
     "execution_count": 80,
     "metadata": {},
     "output_type": "execute_result"
    }
   ],
   "source": [
    "experts.head()"
   ]
  },
  {
   "cell_type": "code",
   "execution_count": 82,
   "metadata": {},
   "outputs": [],
   "source": [
    "experts.relation = experts.relation =='Indication: Treatment'"
   ]
  },
  {
   "cell_type": "code",
   "execution_count": 83,
   "metadata": {},
   "outputs": [
    {
     "data": {
      "text/plain": [
       "109"
      ]
     },
     "execution_count": 83,
     "metadata": {},
     "output_type": "execute_result"
    }
   ],
   "source": [
    "experts.relation.sum()"
   ]
  },
  {
   "cell_type": "code",
   "execution_count": 67,
   "metadata": {},
   "outputs": [],
   "source": [
    "df_het = pd.read_csv('../data/input/hetionet_ground_truth.csv')"
   ]
  },
  {
   "cell_type": "code",
   "execution_count": 68,
   "metadata": {},
   "outputs": [
    {
     "data": {
      "text/html": [
       "<div>\n",
       "<style scoped>\n",
       "    .dataframe tbody tr th:only-of-type {\n",
       "        vertical-align: middle;\n",
       "    }\n",
       "\n",
       "    .dataframe tbody tr th {\n",
       "        vertical-align: top;\n",
       "    }\n",
       "\n",
       "    .dataframe thead th {\n",
       "        text-align: right;\n",
       "    }\n",
       "</style>\n",
       "<table border=\"1\" class=\"dataframe\">\n",
       "  <thead>\n",
       "    <tr style=\"text-align: right;\">\n",
       "      <th></th>\n",
       "      <th>DB_ID</th>\n",
       "      <th>DO_ID</th>\n",
       "    </tr>\n",
       "  </thead>\n",
       "  <tbody>\n",
       "    <tr>\n",
       "      <th>0</th>\n",
       "      <td>Compound::DB08906</td>\n",
       "      <td>Disease::DOID:2841</td>\n",
       "    </tr>\n",
       "    <tr>\n",
       "      <th>1</th>\n",
       "      <td>Compound::DB00282</td>\n",
       "      <td>Disease::DOID:11476</td>\n",
       "    </tr>\n",
       "    <tr>\n",
       "      <th>2</th>\n",
       "      <td>Compound::DB00958</td>\n",
       "      <td>Disease::DOID:184</td>\n",
       "    </tr>\n",
       "    <tr>\n",
       "      <th>3</th>\n",
       "      <td>Compound::DB00970</td>\n",
       "      <td>Disease::DOID:363</td>\n",
       "    </tr>\n",
       "    <tr>\n",
       "      <th>4</th>\n",
       "      <td>Compound::DB00530</td>\n",
       "      <td>Disease::DOID:1324</td>\n",
       "    </tr>\n",
       "  </tbody>\n",
       "</table>\n",
       "</div>"
      ],
      "text/plain": [
       "               DB_ID                DO_ID\n",
       "0  Compound::DB08906   Disease::DOID:2841\n",
       "1  Compound::DB00282  Disease::DOID:11476\n",
       "2  Compound::DB00958    Disease::DOID:184\n",
       "3  Compound::DB00970    Disease::DOID:363\n",
       "4  Compound::DB00530   Disease::DOID:1324"
      ]
     },
     "execution_count": 68,
     "metadata": {},
     "output_type": "execute_result"
    }
   ],
   "source": [
    "#df_het= df_het.append(experts[['DB_ID','DO_ID']])\n",
    "df_het.DB_ID='Compound::'+df_het.DB_ID\n",
    "df_het.DO_ID= 'Disease::'+df_het.DO_ID\n",
    "df_het.head()"
   ]
  },
  {
   "cell_type": "code",
   "execution_count": 28,
   "metadata": {},
   "outputs": [
    {
     "data": {
      "text/plain": [
       "1036"
      ]
     },
     "execution_count": 28,
     "metadata": {},
     "output_type": "execute_result"
    }
   ],
   "source": [
    "indications_het =set()\n",
    "for i,row in df_het.iterrows():\n",
    "    #print (row['a'], row['b'])\n",
    "    indications_het.add((str(row['DB_ID']),str(row['DO_ID'])))\n",
    "    #break\n",
    "len(indications_het)"
   ]
  },
  {
   "cell_type": "code",
   "execution_count": 29,
   "metadata": {},
   "outputs": [
    {
     "data": {
      "text/plain": [
       "True"
      ]
     },
     "execution_count": 29,
     "metadata": {},
     "output_type": "execute_result"
    }
   ],
   "source": [
    "('Compound::DB08906', 'Disease::DOID:2841') in indications_het"
   ]
  },
  {
   "cell_type": "markdown",
   "metadata": {},
   "source": [
    "### Defininig a rule as a SPARQL query\n",
    "\n",
    "If drug ?a treats disease ?f and disease ?f and ?b, then drug ?a can treat disease ?b.\n",
    "```\n",
    "Rule : ?a CtD ?f ^ ?f DrD ?b => ?a CtD ?b \n",
    "```\n",
    "\n",
    "```\n",
    "SELECT DISTINCT ?a ?b where \n",
    "{ \n",
    "    ?a <http://bio2rdf.org/hetionet:CtD> ?f .\n",
    "    ?f <http://bio2rdf.org/hetionet:DrD> ?b .\n",
    "    MINUS { ?a  <http://bio2rdf.org/hetionet:CtD>  ?b .\n",
    "}\n",
    "\n",
    "```"
   ]
  },
  {
   "cell_type": "code",
   "execution_count": 183,
   "metadata": {},
   "outputs": [
    {
     "data": {
      "text/plain": [
       "755"
      ]
     },
     "execution_count": 183,
     "metadata": {},
     "output_type": "execute_result"
    }
   ],
   "source": [
    "indications_het =set()\n",
    "for row in qres:\n",
    "    #print (row['a'], row['b'])\n",
    "    indications_het.add((str(row['a']),str(row['b'])))\n",
    "    #break\n",
    "len(indications_het)"
   ]
  },
  {
   "cell_type": "code",
   "execution_count": 184,
   "metadata": {},
   "outputs": [
    {
     "data": {
      "text/plain": [
       "False"
      ]
     },
     "execution_count": 184,
     "metadata": {},
     "output_type": "execute_result"
    }
   ],
   "source": [
    "('http://bio2rdf.org/drugbank:DB00858', 'http://bio2rdf.org/doid:1612') in indications_het"
   ]
  },
  {
   "cell_type": "markdown",
   "metadata": {},
   "source": [
    "### Define KG Rules as Labeling Functions in Snorkel\n",
    "Snorkel is data labeling framework where multiple heuristic and programatic rules can be combined to assign a label to training data "
   ]
  },
  {
   "cell_type": "code",
   "execution_count": 37,
   "metadata": {},
   "outputs": [],
   "source": [
    "# Labels to be assigned \n",
    "POSITIVE = 1 # positive that the drug indication is recommendable\n",
    "NEGATIVE = 0 # negative that the drug indication is recommendable\n",
    "ABSTAIN = -1 # not sure whether the drug indication is recommendable or not\n"
   ]
  },
  {
   "cell_type": "markdown",
   "metadata": {},
   "source": [
    "### Embedding"
   ]
  },
  {
   "cell_type": "code",
   "execution_count": 33,
   "metadata": {},
   "outputs": [],
   "source": [
    "from gensim.models import KeyedVectors"
   ]
  },
  {
   "cell_type": "markdown",
   "metadata": {},
   "source": [
    "### RDF2VEC Emebdding"
   ]
  },
  {
   "cell_type": "code",
   "execution_count": 58,
   "metadata": {},
   "outputs": [],
   "source": [
    "word_vectors = KeyedVectors.load_word2vec_format('../embeddings/vectors/rdf2vec_vectors.txt', binary=False)"
   ]
  },
  {
   "cell_type": "code",
   "execution_count": 59,
   "metadata": {},
   "outputs": [
    {
     "data": {
      "text/plain": [
       "[('Disease::DOID:2377', 0.8737117648124695),\n",
       " ('Disease::DOID:3393', 0.8596231937408447),\n",
       " ('Disease::DOID:3310', 0.8522949814796448),\n",
       " ('Disease::DOID:9074', 0.8518651127815247),\n",
       " ('Disease::DOID:12306', 0.8517076373100281),\n",
       " ('Disease::DOID:9744', 0.8457461595535278),\n",
       " ('Disease::DOID:4481', 0.845740556716919),\n",
       " ('Disease::DOID:1936', 0.8415306806564331),\n",
       " ('Disease::DOID:8398', 0.8410624265670776),\n",
       " ('Disease::DOID:1686', 0.8366205096244812)]"
      ]
     },
     "execution_count": 59,
     "metadata": {},
     "output_type": "execute_result"
    }
   ],
   "source": [
    "word_vectors.most_similar('Disease::DOID:2841')"
   ]
  },
  {
   "cell_type": "code",
   "execution_count": 36,
   "metadata": {},
   "outputs": [],
   "source": [
    "# Use Embedding model in the labeling function  "
   ]
  },
  {
   "cell_type": "code",
   "execution_count": 85,
   "metadata": {},
   "outputs": [],
   "source": [
    "import numpy as np\n",
    "import csv\n",
    "from sklearn.metrics.pairwise import cosine_similarity"
   ]
  },
  {
   "cell_type": "markdown",
   "metadata": {},
   "source": [
    "### TransE Embeddings (Pre-Trained)"
   ]
  },
  {
   "cell_type": "code",
   "execution_count": 86,
   "metadata": {},
   "outputs": [
    {
     "name": "stdout",
     "output_type": "stream",
     "text": [
      "(97238, 400)\n",
      "(107, 400)\n"
     ]
    }
   ],
   "source": [
    "node_emb = np.load('../embed/DRKG_TransE_l2_entity.npy')\n",
    "relation_emb = np.load('../embed/DRKG_TransE_l2_relation.npy')\n",
    "\n",
    "print(node_emb.shape)\n",
    "print(relation_emb.shape)"
   ]
  },
  {
   "cell_type": "code",
   "execution_count": 87,
   "metadata": {},
   "outputs": [
    {
     "name": "stdout",
     "output_type": "stream",
     "text": [
      "Number of entities: 97238\n"
     ]
    }
   ],
   "source": [
    "entity2id = {}\n",
    "id2entity = {}\n",
    "with open(\"../embed/entities.tsv\", newline='', encoding='utf-8') as csvfile:\n",
    "    reader = csv.DictReader(csvfile, delimiter='\\t', fieldnames=['entity','id'])\n",
    "    for row_val in reader:\n",
    "        id = row_val['id']\n",
    "        entity = row_val['entity']\n",
    "\n",
    "        entity2id[entity] = int(id)\n",
    "        id2entity[int(id)] = entity\n",
    "\n",
    "print(\"Number of entities: {}\".format(len(entity2id)))"
   ]
  },
  {
   "cell_type": "code",
   "execution_count": 88,
   "metadata": {},
   "outputs": [
    {
     "name": "stdout",
     "output_type": "stream",
     "text": [
      "Number of relations: 107\n"
     ]
    }
   ],
   "source": [
    "relation2id = {}\n",
    "id2relation = {}\n",
    "with open(\"../embed/relations.tsv\", newline='', encoding='utf-8') as csvfile:\n",
    "    reader = csv.DictReader(csvfile, delimiter='\\t', fieldnames=['relation','id'])\n",
    "    for row_val in reader:\n",
    "        id = row_val['id']\n",
    "        relation = row_val['relation']\n",
    "        #print (relation, id)\n",
    "        relation2id[relation] = int(id)\n",
    "        id2relation[int(id)] = relation\n",
    "\n",
    "print(\"Number of relations: {}\".format(len(relation2id)))"
   ]
  },
  {
   "cell_type": "code",
   "execution_count": 122,
   "metadata": {},
   "outputs": [],
   "source": [
    "import torch.nn.functional as fn\n",
    "import torch as th"
   ]
  },
  {
   "cell_type": "code",
   "execution_count": 102,
   "metadata": {},
   "outputs": [],
   "source": [
    "#node_emb[entity2id['Compound::DB00970']]"
   ]
  },
  {
   "cell_type": "markdown",
   "metadata": {},
   "source": [
    "### A probablistic rule is a rule that contains uncertainty about reasoning\n",
    "Based on the guilt-by-association principle (e.g. Barabasi et al., 2011;\n",
    "Chiang and Butte, 2009), new disease–drug relationships can be inferred\n",
    "through existing relationships between similar diseases and similar drugs.\n",
    "#### Example: If drug ${dr}$ treats disease ${ds}$ and disease ${ds}$ is similar to disease ${ds'}$ then drug ${dr}$ treats disease ${ds'}$\n",
    "*  ${?dr}$ CtD ${?ds}$  ^ mostSim(${?ds}$,  ${?ds'}$)  => ${?dr}$ CtD ${?ds'}$"
   ]
  },
  {
   "cell_type": "code",
   "execution_count": 140,
   "metadata": {},
   "outputs": [],
   "source": [
    "from snorkel.labeling import labeling_function\n",
    "@labeling_function()\n",
    "def similar_diseases(x):\n",
    "    drug= x.DB_ID\n",
    "    disease = x.DO_ID\n",
    "    #print (drug, disease)\n",
    "    for (dr, ds) in indications_het:\n",
    "        if dr == drug and ds in word_vectors:\n",
    "            similarDiseases = word_vectors.most_similar(ds,topn=20)\n",
    "            for en,sim in similarDiseases:\n",
    "                if en == disease:\n",
    "                    return POSITIVE\n",
    "    return ABSTAIN \n",
    "\n",
    "\n",
    "@labeling_function()\n",
    "def similar_drugs(x):\n",
    "    drug= x.DB_ID\n",
    "    disease = x.DO_ID\n",
    "    #print (drug, disease)\n",
    "    # search all indications treating the same disease\n",
    "    # if the drug that is similar to the one in the known indication,\n",
    "    # return 'INDICATION' \n",
    "    for (dr, ds) in indications_het:\n",
    "        if ds == f and dr in word_vectors:\n",
    "            similarDrugs = word_vectors.most_similar(dr,topn=20)\n",
    "            for en,sim in similarDrugs:\n",
    "                if en == drug:\n",
    "                    return POSITIVE\n",
    "    return ABSTAIN \n",
    "\n"
   ]
  },
  {
   "cell_type": "markdown",
   "metadata": {},
   "source": [
    "## Drug Repurposing Based on Edge Score\n",
    "We use following algorithm to calculate the edge score. Note, here we use logsigmiod to make all scores < 0. The larger the score is, the stronger the $h$ will have $r$ with $t$.\n",
    "\n",
    "$\\mathbf{d} = \\gamma - ||\\mathbf{h}+\\mathbf{r}-\\mathbf{t}||_{2}$\n",
    "\n",
    "$\\mathbf{score} = \\log\\left(\\frac{1}{1+\\exp(\\mathbf{-d})}\\right)$\n",
    "\n",
    "When doing drug repurposing, we only use the treatment related relations."
   ]
  },
  {
   "cell_type": "code",
   "execution_count": null,
   "metadata": {},
   "outputs": [],
   "source": [
    "gamma = 12.0\n",
    "def transE_l2(head, rel, tail):\n",
    "    score = head + rel - tail\n",
    "    return gamma - th.norm(score, p=2, dim=-1)\n",
    "\n",
    "@labeling_function()\n",
    "def transe_l2(x):\n",
    "    drug= x.DB_ID\n",
    "    disease = x.DO_ID\n",
    "    #print (drug, disease)\n",
    "    # search all indications treating the same disease\n",
    "    # if the drug that is similar to the one in the known indication,\n",
    "    # return 'INDICATION' \n",
    "    score = 0.0\n",
    "    if drug in entity2id and disease in entity2id:\n",
    "        drug_id = entity2id[drug]\n",
    "        disease_id = entity2id[disease]\n",
    "        r_id = relation2id['Hetionet::CtD::Compound:Disease']\n",
    "        drug_emb = th.tensor(node_emb[drug_id])\n",
    "        treatment_emb =  th.tensor(relation_emb[r_id])\n",
    "        disease_emb =  th.tensor(node_emb[disease_id])\n",
    "        score = fn.logsigmoid(transE_l2(drug_emb, treatment_emb, disease_emb))\n",
    "        #print (score)\n",
    "        if score < -0.1:\n",
    "            return POSITIVE\n",
    "    return ABSTAIN \n"
   ]
  },
  {
   "cell_type": "markdown",
   "metadata": {},
   "source": [
    "### Translation based probablistic rule as labeling function\n",
    "$if (h, r, t) => h + r = t  $, vector norm of difference between head entity plus relation and tail entity in embedding space should be zero\n",
    "* we can simply assess the correctness of a triple (h, r, t) by\n",
    "checking the plausibility score of the embedding vectors of h, r and t."
   ]
  },
  {
   "cell_type": "code",
   "execution_count": 145,
   "metadata": {},
   "outputs": [],
   "source": [
    "@labeling_function()\n",
    "def transe_sim(x):\n",
    "    drug= x.DB_ID\n",
    "    disease = x.DO_ID\n",
    "    #print (drug, disease)\n",
    "    # search all indications treating the same disease\n",
    "    # if the drug that is similar to the one in the known indication,\n",
    "    # return 'INDICATION' \n",
    "    score = 0.0\n",
    "    if drug in entity2id and disease in entity2id:\n",
    "        dr_idx = entity2id[drug]\n",
    "        ds_idx = entity2id[disease]\n",
    "        sim = cosine_similarity((node_emb[dr_idx] + relation_emb[relation2id['Hetionet::CtD::Compound:Disease']]).reshape(1,-1), node_emb[ds_idx].reshape(1,-1))\n",
    "        score= sim[0][0]\n",
    "        #print (score)\n",
    "        if score > 0.65:\n",
    "            return POSITIVE\n",
    "    return ABSTAIN "
   ]
  },
  {
   "cell_type": "code",
   "execution_count": 150,
   "metadata": {},
   "outputs": [
    {
     "data": {
      "text/plain": [
       "{'bioarx::HumGenHumGen:Gene:Gene': 0,\n",
       " 'bioarx::VirGenHumGen:Gene:Gene': 1,\n",
       " 'bioarx::DrugVirGen:Compound:Gene': 2,\n",
       " 'bioarx::DrugHumGen:Compound:Gene': 3,\n",
       " 'bioarx::Covid2_acc_host_gene::Disease:Gene': 4,\n",
       " 'bioarx::Coronavirus_ass_host_gene::Disease:Gene': 5,\n",
       " 'DGIDB::INHIBITOR::Gene:Compound': 6,\n",
       " 'DGIDB::ANTAGONIST::Gene:Compound': 7,\n",
       " 'DGIDB::OTHER::Gene:Compound': 8,\n",
       " 'DGIDB::AGONIST::Gene:Compound': 9,\n",
       " 'DGIDB::BINDER::Gene:Compound': 10,\n",
       " 'DGIDB::MODULATOR::Gene:Compound': 11,\n",
       " 'DGIDB::BLOCKER::Gene:Compound': 12,\n",
       " 'DGIDB::CHANNEL BLOCKER::Gene:Compound': 13,\n",
       " 'DGIDB::ANTIBODY::Gene:Compound': 14,\n",
       " 'DGIDB::POSITIVE ALLOSTERIC MODULATOR::Gene:Compound': 15,\n",
       " 'DGIDB::ALLOSTERIC MODULATOR::Gene:Compound': 16,\n",
       " 'DGIDB::ACTIVATOR::Gene:Compound': 17,\n",
       " 'DGIDB::PARTIAL AGONIST::Gene:Compound': 18,\n",
       " 'DRUGBANK::x-atc::Compound:Atc': 19,\n",
       " 'DRUGBANK::ddi-interactor-in::Compound:Compound': 20,\n",
       " 'DRUGBANK::target::Compound:Gene': 21,\n",
       " 'DRUGBANK::enzyme::Compound:Gene': 22,\n",
       " 'DRUGBANK::carrier::Compound:Gene': 23,\n",
       " 'DRUGBANK::treats::Compound:Disease': 24,\n",
       " 'GNBR::E::Compound:Gene': 25,\n",
       " 'GNBR::A+::Compound:Gene': 26,\n",
       " 'GNBR::N::Compound:Gene': 27,\n",
       " 'GNBR::K::Compound:Gene': 28,\n",
       " 'GNBR::A-::Compound:Gene': 29,\n",
       " 'GNBR::E+::Compound:Gene': 30,\n",
       " 'GNBR::B::Compound:Gene': 31,\n",
       " 'GNBR::E-::Compound:Gene': 32,\n",
       " 'GNBR::O::Compound:Gene': 33,\n",
       " 'GNBR::Z::Compound:Gene': 34,\n",
       " 'GNBR::T::Compound:Disease': 35,\n",
       " 'GNBR::C::Compound:Disease': 36,\n",
       " 'GNBR::Sa::Compound:Disease': 37,\n",
       " 'GNBR::Pa::Compound:Disease': 38,\n",
       " 'GNBR::Mp::Compound:Disease': 39,\n",
       " 'GNBR::Pr::Compound:Disease': 40,\n",
       " 'GNBR::J::Compound:Disease': 41,\n",
       " 'GNBR::L::Gene:Disease': 42,\n",
       " 'GNBR::U::Gene:Disease': 43,\n",
       " 'GNBR::Y::Gene:Disease': 44,\n",
       " 'GNBR::J::Gene:Disease': 45,\n",
       " 'GNBR::Te::Gene:Disease': 46,\n",
       " 'GNBR::Md::Gene:Disease': 47,\n",
       " 'GNBR::G::Gene:Disease': 48,\n",
       " 'GNBR::D::Gene:Disease': 49,\n",
       " 'GNBR::X::Gene:Disease': 50,\n",
       " 'GNBR::Ud::Gene:Disease': 51,\n",
       " 'GNBR::V+::Gene:Gene': 52,\n",
       " 'GNBR::Q::Gene:Gene': 53,\n",
       " 'GNBR::Rg::Gene:Gene': 54,\n",
       " 'GNBR::B::Gene:Gene': 55,\n",
       " 'GNBR::I::Gene:Gene': 56,\n",
       " 'GNBR::E+::Gene:Gene': 57,\n",
       " 'GNBR::H::Gene:Gene': 58,\n",
       " 'GNBR::W::Gene:Gene': 59,\n",
       " 'GNBR::E::Gene:Gene': 60,\n",
       " 'GNBR::in_tax::Gene:Tax': 61,\n",
       " 'Hetionet::GpBP::Gene:Biological Process': 62,\n",
       " 'Hetionet::GiG::Gene:Gene': 63,\n",
       " 'Hetionet::CrC::Compound:Compound': 64,\n",
       " 'Hetionet::DdG::Disease:Gene': 65,\n",
       " 'Hetionet::DpS::Disease:Symptom': 66,\n",
       " 'Hetionet::DlA::Disease:Anatomy': 67,\n",
       " 'Hetionet::CtD::Compound:Disease': 68,\n",
       " 'Hetionet::CbG::Compound:Gene': 69,\n",
       " 'Hetionet::CuG::Compound:Gene': 70,\n",
       " 'Hetionet::DrD::Disease:Disease': 71,\n",
       " 'Hetionet::DaG::Disease:Gene': 72,\n",
       " 'Hetionet::CpD::Compound:Disease': 73,\n",
       " 'Hetionet::AdG::Anatomy:Gene': 74,\n",
       " 'Hetionet::AuG::Anatomy:Gene': 75,\n",
       " 'Hetionet::GcG::Gene:Gene': 76,\n",
       " 'Hetionet::GpMF::Gene:Molecular Function': 77,\n",
       " 'Hetionet::PCiC::Pharmacologic Class:Compound': 78,\n",
       " 'Hetionet::GpCC::Gene:Cellular Component': 79,\n",
       " 'Hetionet::Gr>G::Gene:Gene': 80,\n",
       " 'Hetionet::CdG::Compound:Gene': 81,\n",
       " 'Hetionet::DuG::Disease:Gene': 82,\n",
       " 'Hetionet::GpPW::Gene:Pathway': 83,\n",
       " 'Hetionet::CcSE::Compound:Side Effect': 84,\n",
       " 'Hetionet::AeG::Anatomy:Gene': 85,\n",
       " 'INTACT::PHYSICAL ASSOCIATION::Compound:Gene': 86,\n",
       " 'INTACT::DIRECT INTERACTION::Compound:Gene': 87,\n",
       " 'INTACT::ASSOCIATION::Compound:Gene': 88,\n",
       " 'INTACT::ASSOCIATION::Gene:Gene': 89,\n",
       " 'INTACT::PHYSICAL ASSOCIATION::Gene:Gene': 90,\n",
       " 'INTACT::COLOCALIZATION::Gene:Gene': 91,\n",
       " 'INTACT::DEPHOSPHORYLATION REACTION::Gene:Gene': 92,\n",
       " 'INTACT::CLEAVAGE REACTION::Gene:Gene': 93,\n",
       " 'INTACT::DIRECT INTERACTION::Gene:Gene': 94,\n",
       " 'INTACT::PHOSPHORYLATION REACTION::Gene:Gene': 95,\n",
       " 'INTACT::ADP RIBOSYLATION REACTION::Gene:Gene': 96,\n",
       " 'INTACT::UBIQUITINATION REACTION::Gene:Gene': 97,\n",
       " 'INTACT::PROTEIN CLEAVAGE::Gene:Gene': 98,\n",
       " 'STRING::REACTION::Gene:Gene': 99,\n",
       " 'STRING::CATALYSIS::Gene:Gene': 100,\n",
       " 'STRING::ACTIVATION::Gene:Gene': 101,\n",
       " 'STRING::INHIBITION::Gene:Gene': 102,\n",
       " 'STRING::OTHER::Gene:Gene': 103,\n",
       " 'STRING::BINDING::Gene:Gene': 104,\n",
       " 'STRING::PTMOD::Gene:Gene': 105,\n",
       " 'STRING::EXPRESSION::Gene:Gene': 106}"
      ]
     },
     "execution_count": 150,
     "metadata": {},
     "output_type": "execute_result"
    }
   ],
   "source": [
    "relation2id"
   ]
  },
  {
   "cell_type": "markdown",
   "metadata": {},
   "source": [
    "### Probablistic Rule using TransE Embedding:\n",
    "#### Rule1: \n",
    "If drug $?dr$ treats disease $?f$ and disease $?f$ resembles disease $?ds$ then drug $?dr$  treats  $?ds$  \n",
    "\n",
    "$$dr + r1 = f,   f + r2 = ds  => dr + r1 + r2 = ds, $$\n",
    "$$r1= treats , r2= resembles,  cosine (dr, ds) =~ 0 $$\n",
    "\n"
   ]
  },
  {
   "cell_type": "code",
   "execution_count": 183,
   "metadata": {},
   "outputs": [],
   "source": [
    "@labeling_function()\n",
    "def rule1_transe_sim(x):\n",
    "    drug= x.DB_ID\n",
    "    disease = x.DO_ID\n",
    "    #print (drug, disease)\n",
    "    # search all indications treating the same disease\n",
    "    # if the drug that is similar to the one in the known indication,\n",
    "    # return 'INDICATION' \n",
    "    score = 0.0\n",
    "    if drug in entity2id and disease in entity2id:\n",
    "        dr_idx = entity2id[drug]\n",
    "        ds_idx = entity2id[disease]\n",
    "        r1 = relation_emb[relation2id['Hetionet::CtD::Compound:Disease']]\n",
    "        r2 = relation_emb[relation2id['Hetionet::DrD::Disease:Disease']]\n",
    "        a = node_emb[dr_idx]\n",
    "        b = node_emb[ds_idx]\n",
    "        sim = cosine_similarity((a + r1 + r2).reshape(1,-1), b.reshape(1,-1))\n",
    "        score= sim[0][0]\n",
    "        #print (score)\n",
    "        if score > 0.65:\n",
    "            return POSITIVE\n",
    "    return ABSTAIN "
   ]
  },
  {
   "cell_type": "markdown",
   "metadata": {},
   "source": [
    "#### Rule 2:\n",
    "If drug $?dr$ binds gene $?g$ and disease $?ds$ associates gene $?g$ then drug $?dr$  treats  $?ds$  \n",
    " Compound–binds–Gene–associates–Disease => Compound–treats–Disease"
   ]
  },
  {
   "cell_type": "code",
   "execution_count": 184,
   "metadata": {},
   "outputs": [],
   "source": [
    "@labeling_function()\n",
    "def rule2_transe_sim(x):\n",
    "    drug= x.DB_ID\n",
    "    disease = x.DO_ID\n",
    "    #print (drug, disease)\n",
    "    # search all indications treating the same disease\n",
    "    # if the drug that is similar to the one in the known indication,\n",
    "    # return 'INDICATION' \n",
    "    score = 0.0\n",
    "    if drug in entity2id and disease in entity2id:\n",
    "        dr_idx = entity2id[drug]\n",
    "        ds_idx = entity2id[disease]\n",
    "        r1 = relation_emb[relation2id['Hetionet::CbG::Compound:Gene']]\n",
    "        r2 = relation_emb[relation2id['Hetionet::DaG::Disease:Gene']]\n",
    "        sim = cosine_similarity((node_emb[dr_idx] + r1 -r2).reshape(1,-1), (node_emb[ds_idx]).reshape(1,-1))\n",
    "        score= sim[0][0]\n",
    "        #print (score)\n",
    "        if score > 0.3:\n",
    "            return POSITIVE\n",
    "    return ABSTAIN "
   ]
  },
  {
   "cell_type": "code",
   "execution_count": 185,
   "metadata": {},
   "outputs": [
    {
     "name": "stderr",
     "output_type": "stream",
     "text": [
      "/opt/conda/lib/python3.7/site-packages/tqdm/std.py:666: FutureWarning: The Panel class is removed from pandas. Accessing it from the top-level namespace will also be removed in the next version\n",
      "  from pandas import Panel\n",
      "100%|██████████| 755/755 [00:07<00:00, 99.66it/s] \n"
     ]
    }
   ],
   "source": [
    "from snorkel.labeling import PandasLFApplier, LFAnalysis\n",
    "\n",
    "lfs = [similar_drugs, similar_diseases, transe_l2, transe_sim, rule1_transe_sim, rule2_transe_sim]\n",
    "\n",
    "applier = PandasLFApplier(lfs=lfs)\n",
    "L_train = applier.apply(df=df_het)"
   ]
  },
  {
   "cell_type": "code",
   "execution_count": 186,
   "metadata": {},
   "outputs": [
    {
     "name": "stdout",
     "output_type": "stream",
     "text": [
      "check_out similar_drugs: 68.1%\n",
      "check similar_diseases: 51.4%\n",
      "check trans_e_l2: 68.5%\n",
      "check trans_e_sim: 25.2%\n",
      "check rule1_transe_sim: 15.9%\n",
      "check rule2_transe_sim: 35.2%\n"
     ]
    }
   ],
   "source": [
    "coverage_similar_drugs, coverage_similar_diseases, coverage_trans_e_l2, \\\n",
    "coverage_transe_sim, coverage_rule1_transe_sim, coverage_rule2_transe_sim = (L_train != ABSTAIN).mean(axis=0)\n",
    "print(f\"check_out similar_drugs: {coverage_similar_drugs * 100:.1f}%\")\n",
    "print(f\"check similar_diseases: {coverage_similar_diseases * 100:.1f}%\")\n",
    "print(f\"check trans_e_l2: {coverage_trans_e_l2 * 100:.1f}%\")\n",
    "print(f\"check trans_e_sim: {coverage_transe_sim * 100:.1f}%\")\n",
    "print(f\"check rule1_transe_sim: {coverage_rule1_transe_sim * 100:.1f}%\")\n",
    "print(f\"check rule2_transe_sim: {coverage_rule2_transe_sim * 100:.1f}%\")"
   ]
  },
  {
   "cell_type": "code",
   "execution_count": 187,
   "metadata": {},
   "outputs": [
    {
     "name": "stderr",
     "output_type": "stream",
     "text": [
      "/opt/conda/lib/python3.7/site-packages/tqdm/std.py:666: FutureWarning: The Panel class is removed from pandas. Accessing it from the top-level namespace will also be removed in the next version\n",
      "  from pandas import Panel\n",
      "100%|██████████| 281/281 [00:01<00:00, 233.64it/s]\n"
     ]
    },
    {
     "data": {
      "text/html": [
       "<div>\n",
       "<style scoped>\n",
       "    .dataframe tbody tr th:only-of-type {\n",
       "        vertical-align: middle;\n",
       "    }\n",
       "\n",
       "    .dataframe tbody tr th {\n",
       "        vertical-align: top;\n",
       "    }\n",
       "\n",
       "    .dataframe thead th {\n",
       "        text-align: right;\n",
       "    }\n",
       "</style>\n",
       "<table border=\"1\" class=\"dataframe\">\n",
       "  <thead>\n",
       "    <tr style=\"text-align: right;\">\n",
       "      <th></th>\n",
       "      <th>j</th>\n",
       "      <th>Polarity</th>\n",
       "      <th>Coverage</th>\n",
       "      <th>Overlaps</th>\n",
       "      <th>Conflicts</th>\n",
       "      <th>Correct</th>\n",
       "      <th>Incorrect</th>\n",
       "      <th>Emp. Acc.</th>\n",
       "    </tr>\n",
       "  </thead>\n",
       "  <tbody>\n",
       "    <tr>\n",
       "      <th>similar_drugs</th>\n",
       "      <td>0</td>\n",
       "      <td>[1]</td>\n",
       "      <td>0.177936</td>\n",
       "      <td>0.177936</td>\n",
       "      <td>0.0</td>\n",
       "      <td>42</td>\n",
       "      <td>8</td>\n",
       "      <td>0.840000</td>\n",
       "    </tr>\n",
       "    <tr>\n",
       "      <th>similar_diseases</th>\n",
       "      <td>1</td>\n",
       "      <td>[1]</td>\n",
       "      <td>0.081851</td>\n",
       "      <td>0.078292</td>\n",
       "      <td>0.0</td>\n",
       "      <td>13</td>\n",
       "      <td>10</td>\n",
       "      <td>0.565217</td>\n",
       "    </tr>\n",
       "    <tr>\n",
       "      <th>transe_l2</th>\n",
       "      <td>2</td>\n",
       "      <td>[1]</td>\n",
       "      <td>0.352313</td>\n",
       "      <td>0.195730</td>\n",
       "      <td>0.0</td>\n",
       "      <td>48</td>\n",
       "      <td>51</td>\n",
       "      <td>0.484848</td>\n",
       "    </tr>\n",
       "    <tr>\n",
       "      <th>transe_sim</th>\n",
       "      <td>3</td>\n",
       "      <td>[1]</td>\n",
       "      <td>0.074733</td>\n",
       "      <td>0.074733</td>\n",
       "      <td>0.0</td>\n",
       "      <td>20</td>\n",
       "      <td>1</td>\n",
       "      <td>0.952381</td>\n",
       "    </tr>\n",
       "    <tr>\n",
       "      <th>rule1_transe_sim</th>\n",
       "      <td>4</td>\n",
       "      <td>[1]</td>\n",
       "      <td>0.088968</td>\n",
       "      <td>0.088968</td>\n",
       "      <td>0.0</td>\n",
       "      <td>23</td>\n",
       "      <td>2</td>\n",
       "      <td>0.920000</td>\n",
       "    </tr>\n",
       "    <tr>\n",
       "      <th>rule2_transe_sim</th>\n",
       "      <td>5</td>\n",
       "      <td>[1]</td>\n",
       "      <td>0.124555</td>\n",
       "      <td>0.124555</td>\n",
       "      <td>0.0</td>\n",
       "      <td>30</td>\n",
       "      <td>5</td>\n",
       "      <td>0.857143</td>\n",
       "    </tr>\n",
       "  </tbody>\n",
       "</table>\n",
       "</div>"
      ],
      "text/plain": [
       "                  j Polarity  Coverage  Overlaps  Conflicts  Correct  \\\n",
       "similar_drugs     0      [1]  0.177936  0.177936        0.0       42   \n",
       "similar_diseases  1      [1]  0.081851  0.078292        0.0       13   \n",
       "transe_l2         2      [1]  0.352313  0.195730        0.0       48   \n",
       "transe_sim        3      [1]  0.074733  0.074733        0.0       20   \n",
       "rule1_transe_sim  4      [1]  0.088968  0.088968        0.0       23   \n",
       "rule2_transe_sim  5      [1]  0.124555  0.124555        0.0       30   \n",
       "\n",
       "                  Incorrect  Emp. Acc.  \n",
       "similar_drugs             8   0.840000  \n",
       "similar_diseases         10   0.565217  \n",
       "transe_l2                51   0.484848  \n",
       "transe_sim                1   0.952381  \n",
       "rule1_transe_sim          2   0.920000  \n",
       "rule2_transe_sim          5   0.857143  "
      ]
     },
     "execution_count": 187,
     "metadata": {},
     "output_type": "execute_result"
    }
   ],
   "source": [
    "from snorkel.labeling import PandasLFApplier, LFAnalysis\n",
    "applier = PandasLFApplier(lfs)\n",
    "L_dev = applier.apply(experts)\n",
    "LFAnalysis(L_dev, lfs).lf_summary(experts.relation.values)"
   ]
  },
  {
   "cell_type": "code",
   "execution_count": null,
   "metadata": {},
   "outputs": [],
   "source": []
  }
 ],
 "metadata": {
  "kernelspec": {
   "display_name": "Python 3",
   "language": "python",
   "name": "python3"
  },
  "language_info": {
   "codemirror_mode": {
    "name": "ipython",
    "version": 3
   },
   "file_extension": ".py",
   "mimetype": "text/x-python",
   "name": "python",
   "nbconvert_exporter": "python",
   "pygments_lexer": "ipython3",
   "version": "3.7.6"
  }
 },
 "nbformat": 4,
 "nbformat_minor": 5
}
