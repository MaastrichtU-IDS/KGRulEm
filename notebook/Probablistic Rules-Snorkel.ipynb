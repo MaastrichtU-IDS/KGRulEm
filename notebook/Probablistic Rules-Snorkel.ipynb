{
 "cells": [
  {
   "cell_type": "code",
   "execution_count": 1,
   "metadata": {},
   "outputs": [],
   "source": [
    "import pandas as pd\n",
    "\n",
    "\n",
    "DISPLAY_ALL_TEXT = False\n",
    "\n",
    "pd.set_option(\"display.max_colwidth\", 0 if DISPLAY_ALL_TEXT else 50)"
   ]
  },
  {
   "cell_type": "code",
   "execution_count": 2,
   "metadata": {},
   "outputs": [],
   "source": [
    "### Dataset contains text and disease and drug mentions which were extracted from the DailyMed drug lables"
   ]
  },
  {
   "cell_type": "code",
   "execution_count": 3,
   "metadata": {},
   "outputs": [
    {
     "data": {
      "text/plain": [
       "54040"
      ]
     },
     "execution_count": 3,
     "metadata": {},
     "output_type": "execute_result"
    }
   ],
   "source": [
    "\n",
    "unlabeled_df  = pd.read_csv('../data/input/raw_cleaned.csv.zip',  compression='zip')\n",
    "unlabeled_df = unlabeled_df[['DB_ID', 'DO_ID','disease', 'Label_ID', 'DrugName', 'Context','Section' ]]\n",
    "len(unlabeled_df)"
   ]
  },
  {
   "cell_type": "code",
   "execution_count": 4,
   "metadata": {},
   "outputs": [
    {
     "data": {
      "text/plain": [
       "39810"
      ]
     },
     "execution_count": 4,
     "metadata": {},
     "output_type": "execute_result"
    }
   ],
   "source": [
    "unlabeled_df= unlabeled_df.rename(columns={'DrugName':'Drug_name'})\n",
    "unlabeled_df.drop_duplicates(subset=['Context','DO_ID'], keep='first', inplace=True)\n",
    "len(unlabeled_df)"
   ]
  },
  {
   "cell_type": "code",
   "execution_count": 5,
   "metadata": {},
   "outputs": [],
   "source": [
    "unlabeled_df.DB_ID= 'Compound::'+unlabeled_df.DB_ID"
   ]
  },
  {
   "cell_type": "code",
   "execution_count": 6,
   "metadata": {},
   "outputs": [],
   "source": [
    "unlabeled_df.DO_ID= 'Disease::DOID:'+unlabeled_df.DO_ID.str[5:]"
   ]
  },
  {
   "cell_type": "code",
   "execution_count": 7,
   "metadata": {},
   "outputs": [
    {
     "data": {
      "text/html": [
       "<div>\n",
       "<style scoped>\n",
       "    .dataframe tbody tr th:only-of-type {\n",
       "        vertical-align: middle;\n",
       "    }\n",
       "\n",
       "    .dataframe tbody tr th {\n",
       "        vertical-align: top;\n",
       "    }\n",
       "\n",
       "    .dataframe thead th {\n",
       "        text-align: right;\n",
       "    }\n",
       "</style>\n",
       "<table border=\"1\" class=\"dataframe\">\n",
       "  <thead>\n",
       "    <tr style=\"text-align: right;\">\n",
       "      <th></th>\n",
       "      <th>DB_ID</th>\n",
       "      <th>DO_ID</th>\n",
       "      <th>disease</th>\n",
       "      <th>Label_ID</th>\n",
       "      <th>Drug_name</th>\n",
       "      <th>Context</th>\n",
       "      <th>Section</th>\n",
       "    </tr>\n",
       "  </thead>\n",
       "  <tbody>\n",
       "    <tr>\n",
       "      <th>0</th>\n",
       "      <td>Compound::DB00752</td>\n",
       "      <td>Disease::DOID:0050773</td>\n",
       "      <td>paraganglioma</td>\n",
       "      <td>9f3ad5aa-8e9d-4512-88a5-15cfd50293f9.xml</td>\n",
       "      <td>TRANYLCYPROMINE</td>\n",
       "      <td>concomitant use or use in rapid succession wit...</td>\n",
       "      <td>Contraindication</td>\n",
       "    </tr>\n",
       "    <tr>\n",
       "      <th>1</th>\n",
       "      <td>Compound::DB00752</td>\n",
       "      <td>Disease::DOID:225</td>\n",
       "      <td>syndrome</td>\n",
       "      <td>9f3ad5aa-8e9d-4512-88a5-15cfd50293f9.xml</td>\n",
       "      <td>TRANYLCYPROMINE</td>\n",
       "      <td>concomitant use or use in rapid succession wit...</td>\n",
       "      <td>Contraindication</td>\n",
       "    </tr>\n",
       "    <tr>\n",
       "      <th>2</th>\n",
       "      <td>Compound::DB00752</td>\n",
       "      <td>Disease::DOID:4481</td>\n",
       "      <td>hay fever</td>\n",
       "      <td>9f3ad5aa-8e9d-4512-88a5-15cfd50293f9.xml</td>\n",
       "      <td>TRANYLCYPROMINE</td>\n",
       "      <td>concomitant use or use in rapid succession wit...</td>\n",
       "      <td>Contraindication</td>\n",
       "    </tr>\n",
       "    <tr>\n",
       "      <th>3</th>\n",
       "      <td>Compound::DB00752</td>\n",
       "      <td>Disease::DOID:0050773</td>\n",
       "      <td>paraganglioma</td>\n",
       "      <td>4de045ff-f76c-48dd-9e5f-4a4f859eec8f.xml</td>\n",
       "      <td>TRANYLCYPROMINE</td>\n",
       "      <td>concomitant use or use in rapid succession wit...</td>\n",
       "      <td>Contraindication</td>\n",
       "    </tr>\n",
       "    <tr>\n",
       "      <th>4</th>\n",
       "      <td>Compound::DB00752</td>\n",
       "      <td>Disease::DOID:225</td>\n",
       "      <td>syndrome</td>\n",
       "      <td>4de045ff-f76c-48dd-9e5f-4a4f859eec8f.xml</td>\n",
       "      <td>TRANYLCYPROMINE</td>\n",
       "      <td>concomitant use or use in rapid succession wit...</td>\n",
       "      <td>Contraindication</td>\n",
       "    </tr>\n",
       "  </tbody>\n",
       "</table>\n",
       "</div>"
      ],
      "text/plain": [
       "               DB_ID                  DO_ID        disease  \\\n",
       "0  Compound::DB00752  Disease::DOID:0050773  paraganglioma   \n",
       "1  Compound::DB00752      Disease::DOID:225       syndrome   \n",
       "2  Compound::DB00752     Disease::DOID:4481      hay fever   \n",
       "3  Compound::DB00752  Disease::DOID:0050773  paraganglioma   \n",
       "4  Compound::DB00752      Disease::DOID:225       syndrome   \n",
       "\n",
       "                                   Label_ID        Drug_name  \\\n",
       "0  9f3ad5aa-8e9d-4512-88a5-15cfd50293f9.xml  TRANYLCYPROMINE   \n",
       "1  9f3ad5aa-8e9d-4512-88a5-15cfd50293f9.xml  TRANYLCYPROMINE   \n",
       "2  9f3ad5aa-8e9d-4512-88a5-15cfd50293f9.xml  TRANYLCYPROMINE   \n",
       "3  4de045ff-f76c-48dd-9e5f-4a4f859eec8f.xml  TRANYLCYPROMINE   \n",
       "4  4de045ff-f76c-48dd-9e5f-4a4f859eec8f.xml  TRANYLCYPROMINE   \n",
       "\n",
       "                                             Context           Section  \n",
       "0  concomitant use or use in rapid succession wit...  Contraindication  \n",
       "1  concomitant use or use in rapid succession wit...  Contraindication  \n",
       "2  concomitant use or use in rapid succession wit...  Contraindication  \n",
       "3  concomitant use or use in rapid succession wit...  Contraindication  \n",
       "4  concomitant use or use in rapid succession wit...  Contraindication  "
      ]
     },
     "execution_count": 7,
     "metadata": {},
     "output_type": "execute_result"
    }
   ],
   "source": [
    "unlabeled_df.head()"
   ]
  },
  {
   "cell_type": "markdown",
   "metadata": {},
   "source": [
    "### Dataset labelled by experts to be used as test data"
   ]
  },
  {
   "cell_type": "code",
   "execution_count": 8,
   "metadata": {},
   "outputs": [
    {
     "data": {
      "text/html": [
       "<div>\n",
       "<style scoped>\n",
       "    .dataframe tbody tr th:only-of-type {\n",
       "        vertical-align: middle;\n",
       "    }\n",
       "\n",
       "    .dataframe tbody tr th {\n",
       "        vertical-align: top;\n",
       "    }\n",
       "\n",
       "    .dataframe thead th {\n",
       "        text-align: right;\n",
       "    }\n",
       "</style>\n",
       "<table border=\"1\" class=\"dataframe\">\n",
       "  <thead>\n",
       "    <tr style=\"text-align: right;\">\n",
       "      <th></th>\n",
       "      <th>#</th>\n",
       "      <th>context</th>\n",
       "      <th>disease_name</th>\n",
       "      <th>drug_name</th>\n",
       "      <th>workers_answers</th>\n",
       "      <th>medical_expert1</th>\n",
       "      <th>medical_expert2</th>\n",
       "      <th>medical_expert3</th>\n",
       "      <th>do_id</th>\n",
       "      <th>drug_brand_name</th>\n",
       "      <th>drug_id</th>\n",
       "      <th>label_id</th>\n",
       "      <th>sheet</th>\n",
       "      <th>expert_consensus</th>\n",
       "      <th>inter_agree_experts</th>\n",
       "      <th>medical_expert4</th>\n",
       "      <th>Final \\n(closest option)</th>\n",
       "    </tr>\n",
       "  </thead>\n",
       "  <tbody>\n",
       "    <tr>\n",
       "      <th>97</th>\n",
       "      <td>8.0</td>\n",
       "      <td>NaN</td>\n",
       "      <td>PARALYSIS AGITANS</td>\n",
       "      <td>CARBIDOPA ANHYDROUS</td>\n",
       "      <td>indication_symptomatic_relief\\nindication_symp...</td>\n",
       "      <td>Indication: Treatment</td>\n",
       "      <td>Indication: Treatment</td>\n",
       "      <td>Indication: Treatment</td>\n",
       "      <td>DOID_14330</td>\n",
       "      <td>NaN</td>\n",
       "      <td>DB00190</td>\n",
       "      <td>272d12b4-b3bc-4891-9da5-189d0c961ae4.xml</td>\n",
       "      <td>indication_symptomatic_relief</td>\n",
       "      <td>Indication: Treatment</td>\n",
       "      <td>3</td>\n",
       "      <td>NaN</td>\n",
       "      <td>NaN</td>\n",
       "    </tr>\n",
       "  </tbody>\n",
       "</table>\n",
       "</div>"
      ],
      "text/plain": [
       "      # context       disease_name            drug_name  \\\n",
       "97  8.0     NaN  PARALYSIS AGITANS  CARBIDOPA ANHYDROUS   \n",
       "\n",
       "                                      workers_answers        medical_expert1  \\\n",
       "97  indication_symptomatic_relief\\nindication_symp...  Indication: Treatment   \n",
       "\n",
       "          medical_expert2        medical_expert3       do_id drug_brand_name  \\\n",
       "97  Indication: Treatment  Indication: Treatment  DOID_14330             NaN   \n",
       "\n",
       "    drug_id                                  label_id  \\\n",
       "97  DB00190  272d12b4-b3bc-4891-9da5-189d0c961ae4.xml   \n",
       "\n",
       "                            sheet       expert_consensus  inter_agree_experts  \\\n",
       "97  indication_symptomatic_relief  Indication: Treatment                    3   \n",
       "\n",
       "   medical_expert4 Final \\n(closest option)  \n",
       "97             NaN                      NaN  "
      ]
     },
     "execution_count": 8,
     "metadata": {},
     "output_type": "execute_result"
    }
   ],
   "source": [
    "experts = pd.read_csv('../data/input/expert_resolved_all.csv')\n",
    "experts.sample()"
   ]
  },
  {
   "cell_type": "code",
   "execution_count": 9,
   "metadata": {},
   "outputs": [],
   "source": [
    "experts = experts.rename(columns={'drug_name':'Drug_name',\n",
    "                        'disease_name':'disease', 'context':'Context',\n",
    "                        'do_id':'DO_ID','drug_id':'DB_ID',\n",
    "                        'label_id':'Label_ID', 'expert_consensus':'relation'})\n",
    "#experts[['DB_ID', 'DO_ID','disease', 'Label_ID', 'Set_ID','relation', 'Drug_name', 'Context','Section']]\n"
   ]
  },
  {
   "cell_type": "code",
   "execution_count": 11,
   "metadata": {},
   "outputs": [],
   "source": [
    "experts.DB_ID='Compound::'+experts.DB_ID\n",
    "experts.DO_ID= 'Disease::DOID:'+experts.DO_ID.str[5:]"
   ]
  },
  {
   "cell_type": "code",
   "execution_count": 12,
   "metadata": {},
   "outputs": [
    {
     "data": {
      "text/html": [
       "<div>\n",
       "<style scoped>\n",
       "    .dataframe tbody tr th:only-of-type {\n",
       "        vertical-align: middle;\n",
       "    }\n",
       "\n",
       "    .dataframe tbody tr th {\n",
       "        vertical-align: top;\n",
       "    }\n",
       "\n",
       "    .dataframe thead th {\n",
       "        text-align: right;\n",
       "    }\n",
       "</style>\n",
       "<table border=\"1\" class=\"dataframe\">\n",
       "  <thead>\n",
       "    <tr style=\"text-align: right;\">\n",
       "      <th></th>\n",
       "      <th>#</th>\n",
       "      <th>Context</th>\n",
       "      <th>disease</th>\n",
       "      <th>Drug_name</th>\n",
       "      <th>workers_answers</th>\n",
       "      <th>medical_expert1</th>\n",
       "      <th>medical_expert2</th>\n",
       "      <th>medical_expert3</th>\n",
       "      <th>DO_ID</th>\n",
       "      <th>drug_brand_name</th>\n",
       "      <th>DB_ID</th>\n",
       "      <th>Label_ID</th>\n",
       "      <th>sheet</th>\n",
       "      <th>relation</th>\n",
       "      <th>inter_agree_experts</th>\n",
       "      <th>medical_expert4</th>\n",
       "      <th>Final \\n(closest option)</th>\n",
       "    </tr>\n",
       "  </thead>\n",
       "  <tbody>\n",
       "    <tr>\n",
       "      <th>0</th>\n",
       "      <td>1.0</td>\n",
       "      <td>Nisoldipine extended-release tablets are indic...</td>\n",
       "      <td>HYPERTENSION</td>\n",
       "      <td>NISOLDIPINE</td>\n",
       "      <td>indication_treatment\\nindication_treatment\\nin...</td>\n",
       "      <td>Indication: Treatment</td>\n",
       "      <td>Indication: Treatment</td>\n",
       "      <td>Indication: Treatment</td>\n",
       "      <td>Disease::DOID:se::DOID:10763</td>\n",
       "      <td>NaN</td>\n",
       "      <td>Compound::Compound::DB00401</td>\n",
       "      <td>ce733b39-7857-4538-92d6-1c68a4e4eb75.xml</td>\n",
       "      <td>Indication_treatment</td>\n",
       "      <td>Indication: Treatment</td>\n",
       "      <td>3</td>\n",
       "      <td>NaN</td>\n",
       "      <td>NaN</td>\n",
       "    </tr>\n",
       "    <tr>\n",
       "      <th>1</th>\n",
       "      <td>2.0</td>\n",
       "      <td>[None, 'Bisoprolol fumarate tablets, USP are i...</td>\n",
       "      <td>HYPERTENSION</td>\n",
       "      <td>BISOPROLOL</td>\n",
       "      <td>indication_treatment\\nindication_treatment\\nin...</td>\n",
       "      <td>Indication: Treatment</td>\n",
       "      <td>Indication: Treatment</td>\n",
       "      <td>Indication: Treatment</td>\n",
       "      <td>Disease::DOID:se::DOID:10763</td>\n",
       "      <td>NaN</td>\n",
       "      <td>Compound::Compound::DB00612</td>\n",
       "      <td>c818c38d-ee37-4ceb-b078-611483b4f743.xml</td>\n",
       "      <td>Indication_treatment</td>\n",
       "      <td>Indication: Treatment</td>\n",
       "      <td>3</td>\n",
       "      <td>NaN</td>\n",
       "      <td>NaN</td>\n",
       "    </tr>\n",
       "    <tr>\n",
       "      <th>2</th>\n",
       "      <td>3.0</td>\n",
       "      <td>Pindolol tablets are indicated in the manageme...</td>\n",
       "      <td>HYPERTENSION</td>\n",
       "      <td>PINDOLOL</td>\n",
       "      <td>indication_treatment\\nindication_treatment\\nin...</td>\n",
       "      <td>Indication: Treatment</td>\n",
       "      <td>Indication: Treatment</td>\n",
       "      <td>Indication: Treatment</td>\n",
       "      <td>Disease::DOID:se::DOID:10763</td>\n",
       "      <td>NaN</td>\n",
       "      <td>Compound::Compound::DB00960</td>\n",
       "      <td>d4078b63-30ad-435b-a081-4d90562962b5.xml</td>\n",
       "      <td>Indication_treatment</td>\n",
       "      <td>Indication: Treatment</td>\n",
       "      <td>3</td>\n",
       "      <td>NaN</td>\n",
       "      <td>NaN</td>\n",
       "    </tr>\n",
       "    <tr>\n",
       "      <th>3</th>\n",
       "      <td>4.0</td>\n",
       "      <td>Eprosartan mesylate tablets are indicated for ...</td>\n",
       "      <td>HYPERTENSION</td>\n",
       "      <td>EPROSARTAN</td>\n",
       "      <td>indication_treatment\\nindication_treatment\\nin...</td>\n",
       "      <td>Indication: Treatment</td>\n",
       "      <td>Indication: Treatment</td>\n",
       "      <td>Indication: Treatment</td>\n",
       "      <td>Disease::DOID:se::DOID:10763</td>\n",
       "      <td>NaN</td>\n",
       "      <td>Compound::Compound::DB00876</td>\n",
       "      <td>ab531d28-345b-4113-9fde-00cd63ad5b1a.xml</td>\n",
       "      <td>Indication_treatment</td>\n",
       "      <td>Indication: Treatment</td>\n",
       "      <td>3</td>\n",
       "      <td>NaN</td>\n",
       "      <td>NaN</td>\n",
       "    </tr>\n",
       "    <tr>\n",
       "      <th>4</th>\n",
       "      <td>5.0</td>\n",
       "      <td>[None, 'Labetalol hydrochloride tablets, USP a...</td>\n",
       "      <td>HYPERTENSION</td>\n",
       "      <td>LABETALOL</td>\n",
       "      <td>indication_treatment\\nindication_treatment\\nin...</td>\n",
       "      <td>Indication: Treatment</td>\n",
       "      <td>Indication: Treatment</td>\n",
       "      <td>Indication: Treatment</td>\n",
       "      <td>Disease::DOID:se::DOID:10763</td>\n",
       "      <td>NaN</td>\n",
       "      <td>Compound::Compound::DB00598</td>\n",
       "      <td>78765cc3-27dc-0373-e053-2991aa0a7fe1.xml</td>\n",
       "      <td>Indication_treatment</td>\n",
       "      <td>Indication: Treatment</td>\n",
       "      <td>3</td>\n",
       "      <td>NaN</td>\n",
       "      <td>NaN</td>\n",
       "    </tr>\n",
       "  </tbody>\n",
       "</table>\n",
       "</div>"
      ],
      "text/plain": [
       "     #                                            Context       disease  \\\n",
       "0  1.0  Nisoldipine extended-release tablets are indic...  HYPERTENSION   \n",
       "1  2.0  [None, 'Bisoprolol fumarate tablets, USP are i...  HYPERTENSION   \n",
       "2  3.0  Pindolol tablets are indicated in the manageme...  HYPERTENSION   \n",
       "3  4.0  Eprosartan mesylate tablets are indicated for ...  HYPERTENSION   \n",
       "4  5.0  [None, 'Labetalol hydrochloride tablets, USP a...  HYPERTENSION   \n",
       "\n",
       "     Drug_name                                    workers_answers  \\\n",
       "0  NISOLDIPINE  indication_treatment\\nindication_treatment\\nin...   \n",
       "1   BISOPROLOL  indication_treatment\\nindication_treatment\\nin...   \n",
       "2     PINDOLOL  indication_treatment\\nindication_treatment\\nin...   \n",
       "3   EPROSARTAN  indication_treatment\\nindication_treatment\\nin...   \n",
       "4    LABETALOL  indication_treatment\\nindication_treatment\\nin...   \n",
       "\n",
       "         medical_expert1        medical_expert2        medical_expert3  \\\n",
       "0  Indication: Treatment  Indication: Treatment  Indication: Treatment   \n",
       "1  Indication: Treatment  Indication: Treatment  Indication: Treatment   \n",
       "2  Indication: Treatment  Indication: Treatment  Indication: Treatment   \n",
       "3  Indication: Treatment  Indication: Treatment  Indication: Treatment   \n",
       "4  Indication: Treatment  Indication: Treatment  Indication: Treatment   \n",
       "\n",
       "                          DO_ID drug_brand_name                        DB_ID  \\\n",
       "0  Disease::DOID:se::DOID:10763             NaN  Compound::Compound::DB00401   \n",
       "1  Disease::DOID:se::DOID:10763             NaN  Compound::Compound::DB00612   \n",
       "2  Disease::DOID:se::DOID:10763             NaN  Compound::Compound::DB00960   \n",
       "3  Disease::DOID:se::DOID:10763             NaN  Compound::Compound::DB00876   \n",
       "4  Disease::DOID:se::DOID:10763             NaN  Compound::Compound::DB00598   \n",
       "\n",
       "                                   Label_ID                 sheet  \\\n",
       "0  ce733b39-7857-4538-92d6-1c68a4e4eb75.xml  Indication_treatment   \n",
       "1  c818c38d-ee37-4ceb-b078-611483b4f743.xml  Indication_treatment   \n",
       "2  d4078b63-30ad-435b-a081-4d90562962b5.xml  Indication_treatment   \n",
       "3  ab531d28-345b-4113-9fde-00cd63ad5b1a.xml  Indication_treatment   \n",
       "4  78765cc3-27dc-0373-e053-2991aa0a7fe1.xml  Indication_treatment   \n",
       "\n",
       "                relation  inter_agree_experts medical_expert4  \\\n",
       "0  Indication: Treatment                    3             NaN   \n",
       "1  Indication: Treatment                    3             NaN   \n",
       "2  Indication: Treatment                    3             NaN   \n",
       "3  Indication: Treatment                    3             NaN   \n",
       "4  Indication: Treatment                    3             NaN   \n",
       "\n",
       "  Final \\n(closest option)  \n",
       "0                      NaN  \n",
       "1                      NaN  \n",
       "2                      NaN  \n",
       "3                      NaN  \n",
       "4                      NaN  "
      ]
     },
     "execution_count": 12,
     "metadata": {},
     "output_type": "execute_result"
    }
   ],
   "source": [
    "experts.head()"
   ]
  },
  {
   "cell_type": "code",
   "execution_count": 13,
   "metadata": {},
   "outputs": [],
   "source": [
    "experts.relation = experts.relation =='Indication: Treatment'"
   ]
  },
  {
   "cell_type": "code",
   "execution_count": 14,
   "metadata": {},
   "outputs": [
    {
     "data": {
      "text/plain": [
       "109"
      ]
     },
     "execution_count": 14,
     "metadata": {},
     "output_type": "execute_result"
    }
   ],
   "source": [
    "experts.relation.sum()"
   ]
  },
  {
   "cell_type": "code",
   "execution_count": 15,
   "metadata": {},
   "outputs": [],
   "source": [
    "df_het = pd.read_csv('../data/input/hetionet_ground_truth.csv')"
   ]
  },
  {
   "cell_type": "code",
   "execution_count": 16,
   "metadata": {},
   "outputs": [
    {
     "data": {
      "text/html": [
       "<div>\n",
       "<style scoped>\n",
       "    .dataframe tbody tr th:only-of-type {\n",
       "        vertical-align: middle;\n",
       "    }\n",
       "\n",
       "    .dataframe tbody tr th {\n",
       "        vertical-align: top;\n",
       "    }\n",
       "\n",
       "    .dataframe thead th {\n",
       "        text-align: right;\n",
       "    }\n",
       "</style>\n",
       "<table border=\"1\" class=\"dataframe\">\n",
       "  <thead>\n",
       "    <tr style=\"text-align: right;\">\n",
       "      <th></th>\n",
       "      <th>DB_ID</th>\n",
       "      <th>DO_ID</th>\n",
       "    </tr>\n",
       "  </thead>\n",
       "  <tbody>\n",
       "    <tr>\n",
       "      <th>0</th>\n",
       "      <td>Compound::DB08906</td>\n",
       "      <td>Disease::DOID:2841</td>\n",
       "    </tr>\n",
       "    <tr>\n",
       "      <th>1</th>\n",
       "      <td>Compound::DB00282</td>\n",
       "      <td>Disease::DOID:11476</td>\n",
       "    </tr>\n",
       "    <tr>\n",
       "      <th>2</th>\n",
       "      <td>Compound::DB00958</td>\n",
       "      <td>Disease::DOID:184</td>\n",
       "    </tr>\n",
       "    <tr>\n",
       "      <th>3</th>\n",
       "      <td>Compound::DB00970</td>\n",
       "      <td>Disease::DOID:363</td>\n",
       "    </tr>\n",
       "    <tr>\n",
       "      <th>4</th>\n",
       "      <td>Compound::DB00530</td>\n",
       "      <td>Disease::DOID:1324</td>\n",
       "    </tr>\n",
       "  </tbody>\n",
       "</table>\n",
       "</div>"
      ],
      "text/plain": [
       "               DB_ID                DO_ID\n",
       "0  Compound::DB08906   Disease::DOID:2841\n",
       "1  Compound::DB00282  Disease::DOID:11476\n",
       "2  Compound::DB00958    Disease::DOID:184\n",
       "3  Compound::DB00970    Disease::DOID:363\n",
       "4  Compound::DB00530   Disease::DOID:1324"
      ]
     },
     "execution_count": 16,
     "metadata": {},
     "output_type": "execute_result"
    }
   ],
   "source": [
    "#df_het= df_het.append(experts[['DB_ID','DO_ID']])\n",
    "df_het.DB_ID='Compound::'+df_het.DB_ID\n",
    "df_het.DO_ID= 'Disease::'+df_het.DO_ID\n",
    "df_het.head()"
   ]
  },
  {
   "cell_type": "code",
   "execution_count": 17,
   "metadata": {},
   "outputs": [
    {
     "data": {
      "text/plain": [
       "755"
      ]
     },
     "execution_count": 17,
     "metadata": {},
     "output_type": "execute_result"
    }
   ],
   "source": [
    "indications_het =set()\n",
    "for i,row in df_het.iterrows():\n",
    "    #print (row['a'], row['b'])\n",
    "    indications_het.add((str(row['DB_ID']),str(row['DO_ID'])))\n",
    "    #break\n",
    "len(indications_het)"
   ]
  },
  {
   "cell_type": "code",
   "execution_count": 18,
   "metadata": {},
   "outputs": [
    {
     "data": {
      "text/plain": [
       "True"
      ]
     },
     "execution_count": 18,
     "metadata": {},
     "output_type": "execute_result"
    }
   ],
   "source": [
    "('Compound::DB08906', 'Disease::DOID:2841') in indications_het"
   ]
  },
  {
   "cell_type": "markdown",
   "metadata": {},
   "source": [
    "### Defininig a rule as a SPARQL query\n",
    "\n",
    "If drug ?a treats disease ?f and disease ?f and ?b, then drug ?a can treat disease ?b.\n",
    "```\n",
    "Rule : ?a CtD ?f ^ ?f DrD ?b => ?a CtD ?b \n",
    "```\n",
    "\n",
    "```\n",
    "SELECT DISTINCT ?a ?b where \n",
    "{ \n",
    "    ?a <http://bio2rdf.org/hetionet:CtD> ?f .\n",
    "    ?f <http://bio2rdf.org/hetionet:DrD> ?b .\n",
    "    MINUS { ?a  <http://bio2rdf.org/hetionet:CtD>  ?b .\n",
    "}\n",
    "\n",
    "```"
   ]
  },
  {
   "cell_type": "markdown",
   "metadata": {},
   "source": [
    "### Define KG Rules as Labeling Functions in Snorkel\n",
    "Snorkel is data labeling framework where multiple heuristic and programatic rules can be combined to assign a label to training data "
   ]
  },
  {
   "cell_type": "code",
   "execution_count": 19,
   "metadata": {},
   "outputs": [],
   "source": [
    "# Labels to be assigned \n",
    "POSITIVE = 1 # positive that the drug indication is recommendable\n",
    "NEGATIVE = 0 # negative that the drug indication is recommendable\n",
    "ABSTAIN = -1 # not sure whether the drug indication is recommendable or not\n"
   ]
  },
  {
   "cell_type": "markdown",
   "metadata": {},
   "source": [
    "### Embedding"
   ]
  },
  {
   "cell_type": "code",
   "execution_count": 20,
   "metadata": {},
   "outputs": [],
   "source": [
    "from gensim.models import KeyedVectors"
   ]
  },
  {
   "cell_type": "markdown",
   "metadata": {},
   "source": [
    "### RDF2VEC Emebdding"
   ]
  },
  {
   "cell_type": "code",
   "execution_count": 21,
   "metadata": {},
   "outputs": [],
   "source": [
    "word_vectors = KeyedVectors.load_word2vec_format('../embeddings/vectors/rdf2vec_vectors.txt', binary=False)"
   ]
  },
  {
   "cell_type": "code",
   "execution_count": 22,
   "metadata": {},
   "outputs": [
    {
     "data": {
      "text/plain": [
       "[('Disease::DOID:2377', 0.8737117648124695),\n",
       " ('Disease::DOID:3393', 0.8596231937408447),\n",
       " ('Disease::DOID:3310', 0.8522949814796448),\n",
       " ('Disease::DOID:9074', 0.8518651127815247),\n",
       " ('Disease::DOID:12306', 0.8517076373100281),\n",
       " ('Disease::DOID:9744', 0.8457461595535278),\n",
       " ('Disease::DOID:4481', 0.845740556716919),\n",
       " ('Disease::DOID:1936', 0.8415306806564331),\n",
       " ('Disease::DOID:8398', 0.8410624265670776),\n",
       " ('Disease::DOID:1686', 0.8366205096244812)]"
      ]
     },
     "execution_count": 22,
     "metadata": {},
     "output_type": "execute_result"
    }
   ],
   "source": [
    "word_vectors.most_similar('Disease::DOID:2841')"
   ]
  },
  {
   "cell_type": "code",
   "execution_count": 23,
   "metadata": {},
   "outputs": [],
   "source": [
    "# Use Embedding model in the labeling function  "
   ]
  },
  {
   "cell_type": "code",
   "execution_count": 24,
   "metadata": {},
   "outputs": [],
   "source": [
    "import numpy as np\n",
    "import csv\n",
    "from sklearn.metrics.pairwise import cosine_similarity"
   ]
  },
  {
   "cell_type": "markdown",
   "metadata": {},
   "source": [
    "### TransE Embeddings (Pre-Trained)"
   ]
  },
  {
   "cell_type": "code",
   "execution_count": 27,
   "metadata": {},
   "outputs": [
    {
     "name": "stdout",
     "output_type": "stream",
     "text": [
      "(97238, 400)\n",
      "(107, 400)\n"
     ]
    }
   ],
   "source": [
    "node_emb = np.load('../embed/DRKG_TransE_l2_entity.npy')\n",
    "relation_emb = np.load('../embed/DRKG_TransE_l2_relation.npy')\n",
    "\n",
    "print(node_emb.shape)\n",
    "print(relation_emb.shape)"
   ]
  },
  {
   "cell_type": "code",
   "execution_count": 28,
   "metadata": {},
   "outputs": [
    {
     "name": "stdout",
     "output_type": "stream",
     "text": [
      "Number of entities: 97238\n"
     ]
    }
   ],
   "source": [
    "entity2id = {}\n",
    "id2entity = {}\n",
    "with open(\"../embed/entities.tsv\", newline='', encoding='utf-8') as csvfile:\n",
    "    reader = csv.DictReader(csvfile, delimiter='\\t', fieldnames=['entity','id'])\n",
    "    for row_val in reader:\n",
    "        id = row_val['id']\n",
    "        entity = row_val['entity']\n",
    "\n",
    "        entity2id[entity] = int(id)\n",
    "        id2entity[int(id)] = entity\n",
    "\n",
    "print(\"Number of entities: {}\".format(len(entity2id)))"
   ]
  },
  {
   "cell_type": "code",
   "execution_count": 29,
   "metadata": {},
   "outputs": [
    {
     "name": "stdout",
     "output_type": "stream",
     "text": [
      "Number of relations: 107\n"
     ]
    }
   ],
   "source": [
    "relation2id = {}\n",
    "id2relation = {}\n",
    "with open(\"../embed/relations.tsv\", newline='', encoding='utf-8') as csvfile:\n",
    "    reader = csv.DictReader(csvfile, delimiter='\\t', fieldnames=['relation','id'])\n",
    "    for row_val in reader:\n",
    "        id = row_val['id']\n",
    "        relation = row_val['relation']\n",
    "        #print (relation, id)\n",
    "        relation2id[relation] = int(id)\n",
    "        id2relation[int(id)] = relation\n",
    "\n",
    "print(\"Number of relations: {}\".format(len(relation2id)))"
   ]
  },
  {
   "cell_type": "code",
   "execution_count": 30,
   "metadata": {},
   "outputs": [],
   "source": [
    "import torch.nn.functional as fn\n",
    "import torch as th"
   ]
  },
  {
   "cell_type": "code",
   "execution_count": 31,
   "metadata": {},
   "outputs": [
    {
     "data": {
      "text/plain": [
       "array([-0.40771222, -0.5394161 , -0.05413219, -0.4154125 , -0.2909808 ,\n",
       "       -0.37861708,  0.5271472 , -0.4764343 , -0.68072844,  0.80214214,\n",
       "        0.29676926,  0.2642561 ,  0.07567198, -0.27956468,  0.48484233,\n",
       "        0.52737844,  0.2848344 , -0.46604964,  0.41138992, -0.3139036 ,\n",
       "        0.38695377,  0.3984596 ,  0.4747681 , -0.32046735, -0.41916734,\n",
       "       -0.6351781 ,  0.08896089,  0.00344996, -0.27854195,  0.05071943,\n",
       "        0.29545194, -0.2802152 , -0.41423956, -0.3153198 , -0.02869434,\n",
       "        0.55263186, -0.07740632,  0.7308025 ,  0.7054492 , -0.34579787,\n",
       "       -0.56784195,  0.27212843,  0.25437596, -0.2750168 , -0.5890561 ,\n",
       "        0.5731685 ,  0.48770437, -0.7069844 , -0.01463582, -0.42030263,\n",
       "       -0.24429004, -0.75742525, -0.74557006,  0.5093746 ,  0.07192644,\n",
       "       -0.35541627, -0.33127332,  0.7841414 ,  0.49211726, -0.55842805,\n",
       "       -0.43712705,  0.26408243,  0.37985572, -0.12887463, -0.28161   ,\n",
       "        0.44058546,  0.15158483, -0.5892285 ,  0.52138203, -0.7053283 ,\n",
       "       -0.25743306, -0.42050403, -0.3935491 ,  0.54488814, -0.67373365,\n",
       "        0.31512398,  0.33479485, -0.7167553 , -0.8145909 , -0.46261632,\n",
       "        0.5892779 ,  0.17597826,  0.10628676,  0.6780339 ,  0.24430865,\n",
       "       -0.39007974,  0.12431557, -0.46802413,  0.36118096, -0.73184747,\n",
       "        0.27114534,  0.17227128, -0.14745209,  0.11617979,  0.18352921,\n",
       "        0.22105192,  0.42056692, -0.02546639,  0.14920017,  0.4487386 ,\n",
       "        0.3918385 ,  0.15476793, -0.45543465,  0.08646324, -0.6064225 ,\n",
       "        0.5560839 ,  0.2520587 ,  0.26259145,  0.4285436 ,  0.71244067,\n",
       "        0.30639508, -0.20993604, -0.33768424, -0.2904214 ,  0.56267637,\n",
       "        0.22176453, -0.6748749 ,  0.4875191 ,  0.3629715 ,  0.43940803,\n",
       "       -0.18645798, -0.34826562, -0.04881578,  0.5351259 ,  0.52581394,\n",
       "       -0.12531248, -0.18134066, -0.5715217 ,  0.31621537,  0.18071726,\n",
       "       -0.01492516, -0.00806994,  0.67959833,  0.2969652 ,  0.6354139 ,\n",
       "        0.29553363, -0.5775523 , -0.8136567 ,  0.52348995,  0.44964093,\n",
       "       -0.7193906 , -0.43445426,  0.6370544 ,  0.53394574,  0.08674414,\n",
       "        0.33860102,  0.36573777,  0.40772063, -0.47439566,  0.41486436,\n",
       "        0.09668858, -0.47551712, -0.07672949, -0.34661198,  0.6998643 ,\n",
       "       -0.32065943, -0.5240795 , -0.15928634,  0.00949137, -0.1877767 ,\n",
       "        0.613342  ,  0.48770893,  0.17792146, -0.27318078, -0.06996769,\n",
       "        0.3715796 , -0.7127781 , -0.43813607,  0.08588218, -0.12429967,\n",
       "       -0.10786099, -0.24646857, -0.7293819 ,  0.568962  ,  0.5792137 ,\n",
       "       -0.5475065 ,  0.3182449 ,  0.5017083 ,  0.53162396,  0.40310827,\n",
       "        0.4350563 , -0.01092472,  0.58148444, -0.12515941,  0.58940536,\n",
       "        0.5122683 ,  0.05331014, -0.37099373,  0.17482467, -0.56037915,\n",
       "        0.28888845,  0.13681047, -0.59881365, -0.1855669 ,  0.608293  ,\n",
       "        0.31547254, -0.20580074,  0.07367556, -0.466656  , -0.6789133 ,\n",
       "        0.03592579, -0.25132108,  0.43531966,  0.33801904, -0.40396014,\n",
       "        0.32859504,  0.15404625,  0.75546163,  0.812926  ,  0.00542112,\n",
       "       -0.3104362 , -0.5955469 , -0.33538672,  0.37011006, -0.6981005 ,\n",
       "        0.26046658, -0.40479076, -0.13330334, -0.4967285 , -0.7567197 ,\n",
       "        0.49633542,  0.2993917 ,  0.37837806,  0.26179323,  0.1883158 ,\n",
       "        0.34529674,  0.51279587, -0.4076837 ,  0.28017995, -0.15955013,\n",
       "        0.32623836, -0.70657974,  0.5037702 ,  0.6056934 ,  0.71657455,\n",
       "        0.76862633,  0.15179472, -0.515348  ,  0.5964942 ,  0.26599097,\n",
       "       -0.70677155, -0.5899642 , -0.6865281 ,  0.11811461,  0.53598875,\n",
       "       -0.7545118 ,  0.34101406,  0.5334757 , -0.4892587 , -0.41141716,\n",
       "       -0.512559  , -0.37835306,  0.14161256, -0.7604281 , -0.3953623 ,\n",
       "        0.16478677,  0.75903946, -0.32828403,  0.28928086,  0.89357305,\n",
       "        0.81623584, -0.6268106 , -0.62825966, -0.32380658,  0.7421284 ,\n",
       "        0.4385313 ,  0.26668015, -0.4114663 , -0.5464301 ,  0.3467608 ,\n",
       "       -0.32973248,  0.27168012,  0.53210676,  0.2741429 ,  0.591181  ,\n",
       "       -0.10037965, -0.6332438 , -0.14907862, -0.3457453 ,  0.6229977 ,\n",
       "        0.4270695 ,  0.37035158,  0.5030797 , -0.14403304, -0.35733825,\n",
       "        0.5689769 , -0.37248984, -0.5959378 ,  0.6459674 , -0.49936515,\n",
       "        0.6007318 , -0.51196283, -0.5470723 , -0.60788584,  0.30977947,\n",
       "       -0.2496864 ,  0.63286394, -0.5019642 ,  0.5814495 ,  0.5435708 ,\n",
       "        0.01584779,  0.66205126, -0.4253395 , -0.613933  , -0.1385337 ,\n",
       "       -0.22474495, -0.2279401 , -0.03978265,  0.6170465 , -0.03232499,\n",
       "        0.4440085 ,  0.11895609, -0.34320027, -0.00685862,  0.3190727 ,\n",
       "       -0.13107888,  0.24399337,  0.71009296,  0.47141072,  0.4465201 ,\n",
       "        0.47661656, -0.39171046, -0.6553117 , -0.64203393, -0.59228486,\n",
       "        0.25746655, -0.37408555, -0.13408904, -0.2485118 , -0.02938469,\n",
       "        0.15333441,  0.00126566,  0.69278497, -0.07402661,  0.43764743,\n",
       "       -0.5670298 , -0.28253624, -0.20419559,  0.23681122, -0.5431991 ,\n",
       "       -0.05555692, -0.22762737,  0.48065278, -0.7217515 ,  0.06421729,\n",
       "       -0.3757298 , -0.33435455, -0.7034721 , -0.41189864, -0.38395807,\n",
       "       -0.37398034,  0.39662433, -0.40868846, -0.20926026, -0.53017163,\n",
       "       -0.30123317,  0.06742258,  0.0305584 , -0.3768433 ,  0.61999035,\n",
       "       -0.72300535,  0.39638457,  0.4291418 ,  0.13051066, -0.3956946 ,\n",
       "       -0.16019435,  0.2801424 , -0.40321976, -0.5197091 , -0.27030098,\n",
       "        0.662857  ,  0.63556916,  0.82616043, -0.10877426,  0.310896  ,\n",
       "       -0.7035568 , -0.02679736, -0.5054772 , -0.6059044 , -0.02491014,\n",
       "        0.6047096 , -0.28088078, -0.3550654 ,  0.6722559 , -0.2375795 ,\n",
       "        0.16565771, -0.02027283,  0.5476918 ,  0.46210292, -0.25154722,\n",
       "        0.24111114,  0.20398779,  0.13812067,  0.6362629 ,  0.29572845,\n",
       "       -0.05293305, -0.00848054,  0.20574124, -0.39288047, -0.5922257 ],\n",
       "      dtype=float32)"
      ]
     },
     "execution_count": 31,
     "metadata": {},
     "output_type": "execute_result"
    }
   ],
   "source": [
    "node_emb[entity2id['Compound::DB00970']]"
   ]
  },
  {
   "cell_type": "markdown",
   "metadata": {},
   "source": [
    "### A probablistic rule is a rule that contains uncertainty about reasoning\n",
    "Based on the guilt-by-association principle (e.g. Barabasi et al., 2011;\n",
    "Chiang and Butte, 2009), new disease–drug relationships can be inferred\n",
    "through existing relationships between similar diseases and similar drugs.\n",
    "#### Example: If drug ${dr}$ treats disease ${ds}$ and disease ${ds}$ is similar to disease ${ds'}$ then drug ${dr}$ treats disease ${ds'}$\n",
    "*  ${?dr}$ CtD ${?ds}$  ^ similar(${?ds}$,  ${?ds'}$)  => ${?dr}$ CtD ${?ds'}$"
   ]
  },
  {
   "cell_type": "code",
   "execution_count": 41,
   "metadata": {},
   "outputs": [],
   "source": [
    "from snorkel.labeling import labeling_function\n",
    "@labeling_function()\n",
    "def similar_diseases(x):\n",
    "    drug= x.DB_ID\n",
    "    disease = x.DO_ID\n",
    "    #print (drug, disease)\n",
    "    for (dr, ds) in indications_het:\n",
    "        if dr == drug and ds in word_vectors:\n",
    "            similarDiseases = word_vectors.most_similar(ds,topn=20)\n",
    "            for en,sim in similarDiseases:\n",
    "                if en == disease:\n",
    "                    return POSITIVE\n",
    "    return ABSTAIN \n",
    "\n",
    "\n",
    "@labeling_function()\n",
    "def similar_drugs(x):\n",
    "    drug= x.DB_ID\n",
    "    disease = x.DO_ID\n",
    "    #print (drug, disease)\n",
    "    # search all indications treating the same disease\n",
    "    # if the drug that is similar to the one in the known indication,\n",
    "    # return 'INDICATION' \n",
    "    for (dr, ds) in indications_het:\n",
    "        if ds == disease and dr in word_vectors:\n",
    "            similarDrugs = word_vectors.most_similar(dr,topn=20)\n",
    "            for en,sim in similarDrugs:\n",
    "                if en == drug:\n",
    "                    return POSITIVE\n",
    "    return ABSTAIN \n",
    "\n"
   ]
  },
  {
   "cell_type": "markdown",
   "metadata": {},
   "source": [
    "## Drug Repurposing Based on Edge Score\n",
    "We use following algorithm to calculate the edge score. Note, here we use logsigmiod to make all scores < 0. The larger the score is, the stronger the $h$ will have $r$ with $t$.\n",
    "\n",
    "$\\mathbf{d} = \\gamma - ||\\mathbf{h}+\\mathbf{r}-\\mathbf{t}||_{2}$\n",
    "\n",
    "$\\mathbf{score} = \\log\\left(\\frac{1}{1+\\exp(\\mathbf{-d})}\\right)$\n",
    "\n",
    "When doing drug repurposing, we only use the treatment related relations."
   ]
  },
  {
   "cell_type": "code",
   "execution_count": 42,
   "metadata": {},
   "outputs": [],
   "source": [
    "gamma = 12.0\n",
    "def transE_l2(head, rel, tail):\n",
    "    score = head + rel - tail\n",
    "    return gamma - th.norm(score, p=2, dim=-1)\n",
    "\n",
    "@labeling_function()\n",
    "def transe_l2(x):\n",
    "    drug= x.DB_ID\n",
    "    disease = x.DO_ID\n",
    "    #print (drug, disease)\n",
    "    # search all indications treating the same disease\n",
    "    # if the drug that is similar to the one in the known indication,\n",
    "    # return 'INDICATION' \n",
    "    score = 0.0\n",
    "    if drug in entity2id and disease in entity2id:\n",
    "        drug_id = entity2id[drug]\n",
    "        disease_id = entity2id[disease]\n",
    "        r_id = relation2id['Hetionet::CtD::Compound:Disease']\n",
    "        drug_emb = th.tensor(node_emb[drug_id])\n",
    "        treatment_emb =  th.tensor(relation_emb[r_id])\n",
    "        disease_emb =  th.tensor(node_emb[disease_id])\n",
    "        score = fn.logsigmoid(transE_l2(drug_emb, treatment_emb, disease_emb))\n",
    "        #print (score)\n",
    "        if score < -0.1:\n",
    "            return POSITIVE\n",
    "    return ABSTAIN \n"
   ]
  },
  {
   "cell_type": "markdown",
   "metadata": {},
   "source": [
    "### Translation based probablistic rule as labeling function\n",
    "$if (h, r, t) => h + r = t  $, vector norm of difference between head entity plus relation and tail entity in embedding space should be zero\n",
    "* we can simply assess the correctness of a triple (h, r, t) by\n",
    "checking the plausibility score of the embedding vectors of h, r and t."
   ]
  },
  {
   "cell_type": "code",
   "execution_count": 43,
   "metadata": {},
   "outputs": [],
   "source": [
    "@labeling_function()\n",
    "def transe_sim(x):\n",
    "    drug= x.DB_ID\n",
    "    disease = x.DO_ID\n",
    "    #print (drug, disease)\n",
    "    # search all indications treating the same disease\n",
    "    # if the drug that is similar to the one in the known indication,\n",
    "    # return 'INDICATION' \n",
    "    score = 0.0\n",
    "    if drug in entity2id and disease in entity2id:\n",
    "        dr_idx = entity2id[drug]\n",
    "        ds_idx = entity2id[disease]\n",
    "        sim = cosine_similarity((node_emb[dr_idx] + relation_emb[relation2id['Hetionet::CtD::Compound:Disease']]).reshape(1,-1), node_emb[ds_idx].reshape(1,-1))\n",
    "        score= sim[0][0]\n",
    "        #print (score)\n",
    "        if score > 0.65:\n",
    "            return POSITIVE\n",
    "    return ABSTAIN "
   ]
  },
  {
   "cell_type": "code",
   "execution_count": 44,
   "metadata": {},
   "outputs": [
    {
     "data": {
      "text/plain": [
       "{'bioarx::HumGenHumGen:Gene:Gene': 0,\n",
       " 'bioarx::VirGenHumGen:Gene:Gene': 1,\n",
       " 'bioarx::DrugVirGen:Compound:Gene': 2,\n",
       " 'bioarx::DrugHumGen:Compound:Gene': 3,\n",
       " 'bioarx::Covid2_acc_host_gene::Disease:Gene': 4,\n",
       " 'bioarx::Coronavirus_ass_host_gene::Disease:Gene': 5,\n",
       " 'DGIDB::INHIBITOR::Gene:Compound': 6,\n",
       " 'DGIDB::ANTAGONIST::Gene:Compound': 7,\n",
       " 'DGIDB::OTHER::Gene:Compound': 8,\n",
       " 'DGIDB::AGONIST::Gene:Compound': 9,\n",
       " 'DGIDB::BINDER::Gene:Compound': 10,\n",
       " 'DGIDB::MODULATOR::Gene:Compound': 11,\n",
       " 'DGIDB::BLOCKER::Gene:Compound': 12,\n",
       " 'DGIDB::CHANNEL BLOCKER::Gene:Compound': 13,\n",
       " 'DGIDB::ANTIBODY::Gene:Compound': 14,\n",
       " 'DGIDB::POSITIVE ALLOSTERIC MODULATOR::Gene:Compound': 15,\n",
       " 'DGIDB::ALLOSTERIC MODULATOR::Gene:Compound': 16,\n",
       " 'DGIDB::ACTIVATOR::Gene:Compound': 17,\n",
       " 'DGIDB::PARTIAL AGONIST::Gene:Compound': 18,\n",
       " 'DRUGBANK::x-atc::Compound:Atc': 19,\n",
       " 'DRUGBANK::ddi-interactor-in::Compound:Compound': 20,\n",
       " 'DRUGBANK::target::Compound:Gene': 21,\n",
       " 'DRUGBANK::enzyme::Compound:Gene': 22,\n",
       " 'DRUGBANK::carrier::Compound:Gene': 23,\n",
       " 'DRUGBANK::treats::Compound:Disease': 24,\n",
       " 'GNBR::E::Compound:Gene': 25,\n",
       " 'GNBR::A+::Compound:Gene': 26,\n",
       " 'GNBR::N::Compound:Gene': 27,\n",
       " 'GNBR::K::Compound:Gene': 28,\n",
       " 'GNBR::A-::Compound:Gene': 29,\n",
       " 'GNBR::E+::Compound:Gene': 30,\n",
       " 'GNBR::B::Compound:Gene': 31,\n",
       " 'GNBR::E-::Compound:Gene': 32,\n",
       " 'GNBR::O::Compound:Gene': 33,\n",
       " 'GNBR::Z::Compound:Gene': 34,\n",
       " 'GNBR::T::Compound:Disease': 35,\n",
       " 'GNBR::C::Compound:Disease': 36,\n",
       " 'GNBR::Sa::Compound:Disease': 37,\n",
       " 'GNBR::Pa::Compound:Disease': 38,\n",
       " 'GNBR::Mp::Compound:Disease': 39,\n",
       " 'GNBR::Pr::Compound:Disease': 40,\n",
       " 'GNBR::J::Compound:Disease': 41,\n",
       " 'GNBR::L::Gene:Disease': 42,\n",
       " 'GNBR::U::Gene:Disease': 43,\n",
       " 'GNBR::Y::Gene:Disease': 44,\n",
       " 'GNBR::J::Gene:Disease': 45,\n",
       " 'GNBR::Te::Gene:Disease': 46,\n",
       " 'GNBR::Md::Gene:Disease': 47,\n",
       " 'GNBR::G::Gene:Disease': 48,\n",
       " 'GNBR::D::Gene:Disease': 49,\n",
       " 'GNBR::X::Gene:Disease': 50,\n",
       " 'GNBR::Ud::Gene:Disease': 51,\n",
       " 'GNBR::V+::Gene:Gene': 52,\n",
       " 'GNBR::Q::Gene:Gene': 53,\n",
       " 'GNBR::Rg::Gene:Gene': 54,\n",
       " 'GNBR::B::Gene:Gene': 55,\n",
       " 'GNBR::I::Gene:Gene': 56,\n",
       " 'GNBR::E+::Gene:Gene': 57,\n",
       " 'GNBR::H::Gene:Gene': 58,\n",
       " 'GNBR::W::Gene:Gene': 59,\n",
       " 'GNBR::E::Gene:Gene': 60,\n",
       " 'GNBR::in_tax::Gene:Tax': 61,\n",
       " 'Hetionet::GpBP::Gene:Biological Process': 62,\n",
       " 'Hetionet::GiG::Gene:Gene': 63,\n",
       " 'Hetionet::CrC::Compound:Compound': 64,\n",
       " 'Hetionet::DdG::Disease:Gene': 65,\n",
       " 'Hetionet::DpS::Disease:Symptom': 66,\n",
       " 'Hetionet::DlA::Disease:Anatomy': 67,\n",
       " 'Hetionet::CtD::Compound:Disease': 68,\n",
       " 'Hetionet::CbG::Compound:Gene': 69,\n",
       " 'Hetionet::CuG::Compound:Gene': 70,\n",
       " 'Hetionet::DrD::Disease:Disease': 71,\n",
       " 'Hetionet::DaG::Disease:Gene': 72,\n",
       " 'Hetionet::CpD::Compound:Disease': 73,\n",
       " 'Hetionet::AdG::Anatomy:Gene': 74,\n",
       " 'Hetionet::AuG::Anatomy:Gene': 75,\n",
       " 'Hetionet::GcG::Gene:Gene': 76,\n",
       " 'Hetionet::GpMF::Gene:Molecular Function': 77,\n",
       " 'Hetionet::PCiC::Pharmacologic Class:Compound': 78,\n",
       " 'Hetionet::GpCC::Gene:Cellular Component': 79,\n",
       " 'Hetionet::Gr>G::Gene:Gene': 80,\n",
       " 'Hetionet::CdG::Compound:Gene': 81,\n",
       " 'Hetionet::DuG::Disease:Gene': 82,\n",
       " 'Hetionet::GpPW::Gene:Pathway': 83,\n",
       " 'Hetionet::CcSE::Compound:Side Effect': 84,\n",
       " 'Hetionet::AeG::Anatomy:Gene': 85,\n",
       " 'INTACT::PHYSICAL ASSOCIATION::Compound:Gene': 86,\n",
       " 'INTACT::DIRECT INTERACTION::Compound:Gene': 87,\n",
       " 'INTACT::ASSOCIATION::Compound:Gene': 88,\n",
       " 'INTACT::ASSOCIATION::Gene:Gene': 89,\n",
       " 'INTACT::PHYSICAL ASSOCIATION::Gene:Gene': 90,\n",
       " 'INTACT::COLOCALIZATION::Gene:Gene': 91,\n",
       " 'INTACT::DEPHOSPHORYLATION REACTION::Gene:Gene': 92,\n",
       " 'INTACT::CLEAVAGE REACTION::Gene:Gene': 93,\n",
       " 'INTACT::DIRECT INTERACTION::Gene:Gene': 94,\n",
       " 'INTACT::PHOSPHORYLATION REACTION::Gene:Gene': 95,\n",
       " 'INTACT::ADP RIBOSYLATION REACTION::Gene:Gene': 96,\n",
       " 'INTACT::UBIQUITINATION REACTION::Gene:Gene': 97,\n",
       " 'INTACT::PROTEIN CLEAVAGE::Gene:Gene': 98,\n",
       " 'STRING::REACTION::Gene:Gene': 99,\n",
       " 'STRING::CATALYSIS::Gene:Gene': 100,\n",
       " 'STRING::ACTIVATION::Gene:Gene': 101,\n",
       " 'STRING::INHIBITION::Gene:Gene': 102,\n",
       " 'STRING::OTHER::Gene:Gene': 103,\n",
       " 'STRING::BINDING::Gene:Gene': 104,\n",
       " 'STRING::PTMOD::Gene:Gene': 105,\n",
       " 'STRING::EXPRESSION::Gene:Gene': 106}"
      ]
     },
     "execution_count": 44,
     "metadata": {},
     "output_type": "execute_result"
    }
   ],
   "source": [
    "relation2id"
   ]
  },
  {
   "cell_type": "markdown",
   "metadata": {},
   "source": [
    "### Probablistic Rule using TransE Embedding:\n",
    "#### Rule1: \n",
    "If drug $?dr$ treats disease $?f$ and disease $?f$ resembles disease $?ds$ then drug $?dr$  treats  $?ds$  \n",
    "\n",
    "$$dr + r1 = f,   f + r2 = ds  => dr + r1 + r2 = ds, $$\n",
    "$$r1= treats , r2= resembles$$\n",
    "$$ sim = cosine (dr, ds) $$\n",
    "\n"
   ]
  },
  {
   "cell_type": "code",
   "execution_count": 45,
   "metadata": {},
   "outputs": [],
   "source": [
    "@labeling_function()\n",
    "def rule1_transe_sim(x):\n",
    "    drug= x.DB_ID\n",
    "    disease = x.DO_ID\n",
    "    #print (drug, disease)\n",
    "    # search all indications treating the same disease\n",
    "    # if the drug that is similar to the one in the known indication,\n",
    "    # return 'INDICATION' \n",
    "    score = 0.0\n",
    "    if drug in entity2id and disease in entity2id:\n",
    "        dr_idx = entity2id[drug]\n",
    "        ds_idx = entity2id[disease]\n",
    "        r1 = relation_emb[relation2id['Hetionet::CtD::Compound:Disease']]\n",
    "        r2 = relation_emb[relation2id['Hetionet::DrD::Disease:Disease']]\n",
    "        a = node_emb[dr_idx]\n",
    "        b = node_emb[ds_idx]\n",
    "        sim = cosine_similarity((a + r1 + r2).reshape(1,-1), b.reshape(1,-1))\n",
    "        score= sim[0][0]\n",
    "        #print (score)\n",
    "        if score > 0.65:\n",
    "            return POSITIVE\n",
    "    return ABSTAIN "
   ]
  },
  {
   "cell_type": "markdown",
   "metadata": {},
   "source": [
    "#### Rule 2:\n",
    "If drug $?dr$ binds gene $?g$ and disease $?ds$ associates gene $?g$ then drug $?dr$  treats  $?ds$  \n",
    " Compound–binds–Gene–associates–Disease => Compound–treats–Disease"
   ]
  },
  {
   "cell_type": "code",
   "execution_count": 46,
   "metadata": {},
   "outputs": [],
   "source": [
    "@labeling_function()\n",
    "def rule2_transe_sim(x):\n",
    "    drug= x.DB_ID\n",
    "    disease = x.DO_ID\n",
    "    #print (drug, disease)\n",
    "    # search all indications treating the same disease\n",
    "    # if the drug that is similar to the one in the known indication,\n",
    "    # return 'INDICATION' \n",
    "    score = 0.0\n",
    "    if drug in entity2id and disease in entity2id:\n",
    "        dr_idx = entity2id[drug]\n",
    "        ds_idx = entity2id[disease]\n",
    "        r1 = relation_emb[relation2id['Hetionet::CbG::Compound:Gene']]\n",
    "        r2 = relation_emb[relation2id['Hetionet::DaG::Disease:Gene']]\n",
    "        sim = cosine_similarity((node_emb[dr_idx] + r1 -r2).reshape(1,-1), (node_emb[ds_idx]).reshape(1,-1))\n",
    "        score= sim[0][0]\n",
    "        #print (score)\n",
    "        if score > 0.3:\n",
    "            return POSITIVE\n",
    "    return ABSTAIN "
   ]
  },
  {
   "cell_type": "code",
   "execution_count": 47,
   "metadata": {},
   "outputs": [
    {
     "name": "stderr",
     "output_type": "stream",
     "text": [
      "100%|██████████| 755/755 [00:02<00:00, 323.35it/s]\n"
     ]
    }
   ],
   "source": [
    "from snorkel.labeling import PandasLFApplier, LFAnalysis\n",
    "\n",
    "lfs = [similar_drugs, similar_diseases, transe_l2, transe_sim, rule1_transe_sim, rule2_transe_sim]\n",
    "\n",
    "applier = PandasLFApplier(lfs=lfs)\n",
    "L_train = applier.apply(df=df_het)"
   ]
  },
  {
   "cell_type": "code",
   "execution_count": 48,
   "metadata": {},
   "outputs": [
    {
     "name": "stdout",
     "output_type": "stream",
     "text": [
      "check_out similar_drugs: 68.1%\n",
      "check similar_diseases: 51.4%\n",
      "check trans_e_l2: 68.5%\n",
      "check trans_e_sim: 25.2%\n",
      "check rule1_transe_sim: 15.9%\n",
      "check rule2_transe_sim: 35.2%\n"
     ]
    }
   ],
   "source": [
    "coverage_similar_drugs, coverage_similar_diseases, coverage_trans_e_l2, \\\n",
    "coverage_transe_sim, coverage_rule1_transe_sim, coverage_rule2_transe_sim = (L_train != ABSTAIN).mean(axis=0)\n",
    "print(f\"check_out similar_drugs: {coverage_similar_drugs * 100:.1f}%\")\n",
    "print(f\"check similar_diseases: {coverage_similar_diseases * 100:.1f}%\")\n",
    "print(f\"check trans_e_l2: {coverage_trans_e_l2 * 100:.1f}%\")\n",
    "print(f\"check trans_e_sim: {coverage_transe_sim * 100:.1f}%\")\n",
    "print(f\"check rule1_transe_sim: {coverage_rule1_transe_sim * 100:.1f}%\")\n",
    "print(f\"check rule2_transe_sim: {coverage_rule2_transe_sim * 100:.1f}%\")"
   ]
  },
  {
   "cell_type": "code",
   "execution_count": 63,
   "metadata": {},
   "outputs": [],
   "source": [
    "experts['label']=experts.relation.replace({True:1,False:0})"
   ]
  },
  {
   "cell_type": "code",
   "execution_count": 64,
   "metadata": {},
   "outputs": [
    {
     "data": {
      "text/plain": [
       "array([[-1, -1, -1, -1, -1, -1],\n",
       "       [-1, -1, -1, -1, -1, -1],\n",
       "       [-1, -1, -1, -1, -1, -1],\n",
       "       ...,\n",
       "       [-1, -1, -1, -1, -1, -1],\n",
       "       [-1, -1, -1, -1, -1, -1],\n",
       "       [-1, -1, -1, -1, -1, -1]])"
      ]
     },
     "execution_count": 64,
     "metadata": {},
     "output_type": "execute_result"
    }
   ],
   "source": [
    "L_dev"
   ]
  },
  {
   "cell_type": "code",
   "execution_count": 66,
   "metadata": {},
   "outputs": [
    {
     "name": "stderr",
     "output_type": "stream",
     "text": [
      "/usr/local/lib/python3.9/site-packages/tqdm/std.py:699: FutureWarning: The Panel class is removed from pandas. Accessing it from the top-level namespace will also be removed in the next version\n",
      "  from pandas import Panel\n",
      "100%|██████████| 281/281 [00:00<00:00, 4434.21it/s]\n"
     ]
    },
    {
     "data": {
      "text/html": [
       "<div>\n",
       "<style scoped>\n",
       "    .dataframe tbody tr th:only-of-type {\n",
       "        vertical-align: middle;\n",
       "    }\n",
       "\n",
       "    .dataframe tbody tr th {\n",
       "        vertical-align: top;\n",
       "    }\n",
       "\n",
       "    .dataframe thead th {\n",
       "        text-align: right;\n",
       "    }\n",
       "</style>\n",
       "<table border=\"1\" class=\"dataframe\">\n",
       "  <thead>\n",
       "    <tr style=\"text-align: right;\">\n",
       "      <th></th>\n",
       "      <th>j</th>\n",
       "      <th>Polarity</th>\n",
       "      <th>Coverage</th>\n",
       "      <th>Overlaps</th>\n",
       "      <th>Conflicts</th>\n",
       "    </tr>\n",
       "  </thead>\n",
       "  <tbody>\n",
       "    <tr>\n",
       "      <th>similar_drugs</th>\n",
       "      <td>0</td>\n",
       "      <td>[]</td>\n",
       "      <td>0.0</td>\n",
       "      <td>0.0</td>\n",
       "      <td>0.0</td>\n",
       "    </tr>\n",
       "    <tr>\n",
       "      <th>similar_diseases</th>\n",
       "      <td>1</td>\n",
       "      <td>[]</td>\n",
       "      <td>0.0</td>\n",
       "      <td>0.0</td>\n",
       "      <td>0.0</td>\n",
       "    </tr>\n",
       "    <tr>\n",
       "      <th>transe_l2</th>\n",
       "      <td>2</td>\n",
       "      <td>[]</td>\n",
       "      <td>0.0</td>\n",
       "      <td>0.0</td>\n",
       "      <td>0.0</td>\n",
       "    </tr>\n",
       "    <tr>\n",
       "      <th>transe_sim</th>\n",
       "      <td>3</td>\n",
       "      <td>[]</td>\n",
       "      <td>0.0</td>\n",
       "      <td>0.0</td>\n",
       "      <td>0.0</td>\n",
       "    </tr>\n",
       "    <tr>\n",
       "      <th>rule1_transe_sim</th>\n",
       "      <td>4</td>\n",
       "      <td>[]</td>\n",
       "      <td>0.0</td>\n",
       "      <td>0.0</td>\n",
       "      <td>0.0</td>\n",
       "    </tr>\n",
       "    <tr>\n",
       "      <th>rule2_transe_sim</th>\n",
       "      <td>5</td>\n",
       "      <td>[]</td>\n",
       "      <td>0.0</td>\n",
       "      <td>0.0</td>\n",
       "      <td>0.0</td>\n",
       "    </tr>\n",
       "  </tbody>\n",
       "</table>\n",
       "</div>"
      ],
      "text/plain": [
       "                  j Polarity  Coverage  Overlaps  Conflicts\n",
       "similar_drugs     0       []       0.0       0.0        0.0\n",
       "similar_diseases  1       []       0.0       0.0        0.0\n",
       "transe_l2         2       []       0.0       0.0        0.0\n",
       "transe_sim        3       []       0.0       0.0        0.0\n",
       "rule1_transe_sim  4       []       0.0       0.0        0.0\n",
       "rule2_transe_sim  5       []       0.0       0.0        0.0"
      ]
     },
     "execution_count": 66,
     "metadata": {},
     "output_type": "execute_result"
    }
   ],
   "source": [
    "from snorkel.labeling import PandasLFApplier, LFAnalysis\n",
    "applier = PandasLFApplier(lfs)\n",
    "L_dev = applier.apply(experts)\n",
    "\n",
    "experts.relation=experts.relation.replace({True:1,False:0})\n",
    "\n",
    "LFAnalysis(L_dev, lfs).lf_summary()"
   ]
  },
  {
   "cell_type": "code",
   "execution_count": null,
   "metadata": {},
   "outputs": [],
   "source": []
  },
  {
   "cell_type": "code",
   "execution_count": null,
   "metadata": {},
   "outputs": [],
   "source": []
  },
  {
   "cell_type": "code",
   "execution_count": null,
   "metadata": {},
   "outputs": [],
   "source": []
  }
 ],
 "metadata": {
  "kernelspec": {
   "display_name": "Python 3",
   "language": "python",
   "name": "python3"
  },
  "language_info": {
   "codemirror_mode": {
    "name": "ipython",
    "version": 3
   },
   "file_extension": ".py",
   "mimetype": "text/x-python",
   "name": "python",
   "nbconvert_exporter": "python",
   "pygments_lexer": "ipython3",
   "version": "3.9.4"
  }
 },
 "nbformat": 4,
 "nbformat_minor": 5
}
