{
 "cells": [
  {
   "cell_type": "code",
   "execution_count": 1,
   "metadata": {},
   "outputs": [],
   "source": [
    "import pandas as pd\n",
    "\n",
    "\n",
    "DISPLAY_ALL_TEXT = False\n",
    "\n",
    "pd.set_option(\"display.max_colwidth\", 0 if DISPLAY_ALL_TEXT else 50)"
   ]
  },
  {
   "cell_type": "code",
   "execution_count": 2,
   "metadata": {},
   "outputs": [],
   "source": [
    "### Dataset contains text and disease and drug mentions which were extracted from the DailyMed drug lables"
   ]
  },
  {
   "cell_type": "markdown",
   "metadata": {},
   "source": [
    "### Dataset labelled by experts to be used as test data"
   ]
  },
  {
   "cell_type": "code",
   "execution_count": 3,
   "metadata": {},
   "outputs": [
    {
     "data": {
      "text/html": [
       "<div>\n",
       "<style scoped>\n",
       "    .dataframe tbody tr th:only-of-type {\n",
       "        vertical-align: middle;\n",
       "    }\n",
       "\n",
       "    .dataframe tbody tr th {\n",
       "        vertical-align: top;\n",
       "    }\n",
       "\n",
       "    .dataframe thead th {\n",
       "        text-align: right;\n",
       "    }\n",
       "</style>\n",
       "<table border=\"1\" class=\"dataframe\">\n",
       "  <thead>\n",
       "    <tr style=\"text-align: right;\">\n",
       "      <th></th>\n",
       "      <th>#</th>\n",
       "      <th>context</th>\n",
       "      <th>disease_name</th>\n",
       "      <th>drug_name</th>\n",
       "      <th>workers_answers</th>\n",
       "      <th>medical_expert1</th>\n",
       "      <th>medical_expert2</th>\n",
       "      <th>medical_expert3</th>\n",
       "      <th>do_id</th>\n",
       "      <th>drug_brand_name</th>\n",
       "      <th>drug_id</th>\n",
       "      <th>label_id</th>\n",
       "      <th>sheet</th>\n",
       "      <th>expert_consensus</th>\n",
       "      <th>inter_agree_experts</th>\n",
       "      <th>medical_expert4</th>\n",
       "      <th>Final \\n(closest option)</th>\n",
       "    </tr>\n",
       "  </thead>\n",
       "  <tbody>\n",
       "    <tr>\n",
       "      <th>27</th>\n",
       "      <td>30.0</td>\n",
       "      <td>Nadolol Tablets USP are indicated for the long...</td>\n",
       "      <td>HYPERTENSION</td>\n",
       "      <td>NADOLOL</td>\n",
       "      <td>indication_treatment\\nindication_treatment\\nin...</td>\n",
       "      <td>Indication: Treatment</td>\n",
       "      <td>Indication: Treatment</td>\n",
       "      <td>IDK</td>\n",
       "      <td>DOID_10763</td>\n",
       "      <td>NaN</td>\n",
       "      <td>DB01203</td>\n",
       "      <td>af5152c5-3641-4622-9295-02e9ac51b0d5.xml</td>\n",
       "      <td>Indication_treatment</td>\n",
       "      <td>Indication: Treatment</td>\n",
       "      <td>2</td>\n",
       "      <td>Indication: Treatment</td>\n",
       "      <td>NaN</td>\n",
       "    </tr>\n",
       "  </tbody>\n",
       "</table>\n",
       "</div>"
      ],
      "text/plain": [
       "       #                                            context  disease_name  \\\n",
       "27  30.0  Nadolol Tablets USP are indicated for the long...  HYPERTENSION   \n",
       "\n",
       "   drug_name                                    workers_answers  \\\n",
       "27   NADOLOL  indication_treatment\\nindication_treatment\\nin...   \n",
       "\n",
       "          medical_expert1        medical_expert2 medical_expert3       do_id  \\\n",
       "27  Indication: Treatment  Indication: Treatment             IDK  DOID_10763   \n",
       "\n",
       "   drug_brand_name  drug_id                                  label_id  \\\n",
       "27             NaN  DB01203  af5152c5-3641-4622-9295-02e9ac51b0d5.xml   \n",
       "\n",
       "                   sheet       expert_consensus  inter_agree_experts  \\\n",
       "27  Indication_treatment  Indication: Treatment                    2   \n",
       "\n",
       "          medical_expert4 Final \\n(closest option)  \n",
       "27  Indication: Treatment                      NaN  "
      ]
     },
     "execution_count": 3,
     "metadata": {},
     "output_type": "execute_result"
    }
   ],
   "source": [
    "experts = pd.read_csv('../data/input/expert_resolved_all.csv')\n",
    "experts.sample()"
   ]
  },
  {
   "cell_type": "code",
   "execution_count": 4,
   "metadata": {},
   "outputs": [],
   "source": [
    "experts = experts.rename(columns={'drug_name':'Drug_name',\n",
    "                        'disease_name':'disease', 'context':'Context',\n",
    "                        'do_id':'DO_ID','drug_id':'DB_ID',\n",
    "                        'label_id':'Label_ID', 'expert_consensus':'relation'})\n",
    "#experts[['DB_ID', 'DO_ID','disease', 'Label_ID', 'Set_ID','relation', 'Drug_name', 'Context','Section']]\n"
   ]
  },
  {
   "cell_type": "code",
   "execution_count": 5,
   "metadata": {},
   "outputs": [],
   "source": [
    "experts.DB_ID='Compound::'+experts.DB_ID\n",
    "experts.DO_ID= 'Disease::DOID:'+experts.DO_ID.str[5:]"
   ]
  },
  {
   "cell_type": "code",
   "execution_count": 6,
   "metadata": {},
   "outputs": [
    {
     "data": {
      "text/html": [
       "<div>\n",
       "<style scoped>\n",
       "    .dataframe tbody tr th:only-of-type {\n",
       "        vertical-align: middle;\n",
       "    }\n",
       "\n",
       "    .dataframe tbody tr th {\n",
       "        vertical-align: top;\n",
       "    }\n",
       "\n",
       "    .dataframe thead th {\n",
       "        text-align: right;\n",
       "    }\n",
       "</style>\n",
       "<table border=\"1\" class=\"dataframe\">\n",
       "  <thead>\n",
       "    <tr style=\"text-align: right;\">\n",
       "      <th></th>\n",
       "      <th>#</th>\n",
       "      <th>Context</th>\n",
       "      <th>disease</th>\n",
       "      <th>Drug_name</th>\n",
       "      <th>workers_answers</th>\n",
       "      <th>medical_expert1</th>\n",
       "      <th>medical_expert2</th>\n",
       "      <th>medical_expert3</th>\n",
       "      <th>DO_ID</th>\n",
       "      <th>drug_brand_name</th>\n",
       "      <th>DB_ID</th>\n",
       "      <th>Label_ID</th>\n",
       "      <th>sheet</th>\n",
       "      <th>relation</th>\n",
       "      <th>inter_agree_experts</th>\n",
       "      <th>medical_expert4</th>\n",
       "      <th>Final \\n(closest option)</th>\n",
       "    </tr>\n",
       "  </thead>\n",
       "  <tbody>\n",
       "    <tr>\n",
       "      <th>0</th>\n",
       "      <td>1.0</td>\n",
       "      <td>Nisoldipine extended-release tablets are indic...</td>\n",
       "      <td>HYPERTENSION</td>\n",
       "      <td>NISOLDIPINE</td>\n",
       "      <td>indication_treatment\\nindication_treatment\\nin...</td>\n",
       "      <td>Indication: Treatment</td>\n",
       "      <td>Indication: Treatment</td>\n",
       "      <td>Indication: Treatment</td>\n",
       "      <td>Disease::DOID:10763</td>\n",
       "      <td>NaN</td>\n",
       "      <td>Compound::DB00401</td>\n",
       "      <td>ce733b39-7857-4538-92d6-1c68a4e4eb75.xml</td>\n",
       "      <td>Indication_treatment</td>\n",
       "      <td>Indication: Treatment</td>\n",
       "      <td>3</td>\n",
       "      <td>NaN</td>\n",
       "      <td>NaN</td>\n",
       "    </tr>\n",
       "    <tr>\n",
       "      <th>1</th>\n",
       "      <td>2.0</td>\n",
       "      <td>[None, 'Bisoprolol fumarate tablets, USP are i...</td>\n",
       "      <td>HYPERTENSION</td>\n",
       "      <td>BISOPROLOL</td>\n",
       "      <td>indication_treatment\\nindication_treatment\\nin...</td>\n",
       "      <td>Indication: Treatment</td>\n",
       "      <td>Indication: Treatment</td>\n",
       "      <td>Indication: Treatment</td>\n",
       "      <td>Disease::DOID:10763</td>\n",
       "      <td>NaN</td>\n",
       "      <td>Compound::DB00612</td>\n",
       "      <td>c818c38d-ee37-4ceb-b078-611483b4f743.xml</td>\n",
       "      <td>Indication_treatment</td>\n",
       "      <td>Indication: Treatment</td>\n",
       "      <td>3</td>\n",
       "      <td>NaN</td>\n",
       "      <td>NaN</td>\n",
       "    </tr>\n",
       "    <tr>\n",
       "      <th>2</th>\n",
       "      <td>3.0</td>\n",
       "      <td>Pindolol tablets are indicated in the manageme...</td>\n",
       "      <td>HYPERTENSION</td>\n",
       "      <td>PINDOLOL</td>\n",
       "      <td>indication_treatment\\nindication_treatment\\nin...</td>\n",
       "      <td>Indication: Treatment</td>\n",
       "      <td>Indication: Treatment</td>\n",
       "      <td>Indication: Treatment</td>\n",
       "      <td>Disease::DOID:10763</td>\n",
       "      <td>NaN</td>\n",
       "      <td>Compound::DB00960</td>\n",
       "      <td>d4078b63-30ad-435b-a081-4d90562962b5.xml</td>\n",
       "      <td>Indication_treatment</td>\n",
       "      <td>Indication: Treatment</td>\n",
       "      <td>3</td>\n",
       "      <td>NaN</td>\n",
       "      <td>NaN</td>\n",
       "    </tr>\n",
       "    <tr>\n",
       "      <th>3</th>\n",
       "      <td>4.0</td>\n",
       "      <td>Eprosartan mesylate tablets are indicated for ...</td>\n",
       "      <td>HYPERTENSION</td>\n",
       "      <td>EPROSARTAN</td>\n",
       "      <td>indication_treatment\\nindication_treatment\\nin...</td>\n",
       "      <td>Indication: Treatment</td>\n",
       "      <td>Indication: Treatment</td>\n",
       "      <td>Indication: Treatment</td>\n",
       "      <td>Disease::DOID:10763</td>\n",
       "      <td>NaN</td>\n",
       "      <td>Compound::DB00876</td>\n",
       "      <td>ab531d28-345b-4113-9fde-00cd63ad5b1a.xml</td>\n",
       "      <td>Indication_treatment</td>\n",
       "      <td>Indication: Treatment</td>\n",
       "      <td>3</td>\n",
       "      <td>NaN</td>\n",
       "      <td>NaN</td>\n",
       "    </tr>\n",
       "    <tr>\n",
       "      <th>4</th>\n",
       "      <td>5.0</td>\n",
       "      <td>[None, 'Labetalol hydrochloride tablets, USP a...</td>\n",
       "      <td>HYPERTENSION</td>\n",
       "      <td>LABETALOL</td>\n",
       "      <td>indication_treatment\\nindication_treatment\\nin...</td>\n",
       "      <td>Indication: Treatment</td>\n",
       "      <td>Indication: Treatment</td>\n",
       "      <td>Indication: Treatment</td>\n",
       "      <td>Disease::DOID:10763</td>\n",
       "      <td>NaN</td>\n",
       "      <td>Compound::DB00598</td>\n",
       "      <td>78765cc3-27dc-0373-e053-2991aa0a7fe1.xml</td>\n",
       "      <td>Indication_treatment</td>\n",
       "      <td>Indication: Treatment</td>\n",
       "      <td>3</td>\n",
       "      <td>NaN</td>\n",
       "      <td>NaN</td>\n",
       "    </tr>\n",
       "  </tbody>\n",
       "</table>\n",
       "</div>"
      ],
      "text/plain": [
       "     #                                            Context       disease  \\\n",
       "0  1.0  Nisoldipine extended-release tablets are indic...  HYPERTENSION   \n",
       "1  2.0  [None, 'Bisoprolol fumarate tablets, USP are i...  HYPERTENSION   \n",
       "2  3.0  Pindolol tablets are indicated in the manageme...  HYPERTENSION   \n",
       "3  4.0  Eprosartan mesylate tablets are indicated for ...  HYPERTENSION   \n",
       "4  5.0  [None, 'Labetalol hydrochloride tablets, USP a...  HYPERTENSION   \n",
       "\n",
       "     Drug_name                                    workers_answers  \\\n",
       "0  NISOLDIPINE  indication_treatment\\nindication_treatment\\nin...   \n",
       "1   BISOPROLOL  indication_treatment\\nindication_treatment\\nin...   \n",
       "2     PINDOLOL  indication_treatment\\nindication_treatment\\nin...   \n",
       "3   EPROSARTAN  indication_treatment\\nindication_treatment\\nin...   \n",
       "4    LABETALOL  indication_treatment\\nindication_treatment\\nin...   \n",
       "\n",
       "         medical_expert1        medical_expert2        medical_expert3  \\\n",
       "0  Indication: Treatment  Indication: Treatment  Indication: Treatment   \n",
       "1  Indication: Treatment  Indication: Treatment  Indication: Treatment   \n",
       "2  Indication: Treatment  Indication: Treatment  Indication: Treatment   \n",
       "3  Indication: Treatment  Indication: Treatment  Indication: Treatment   \n",
       "4  Indication: Treatment  Indication: Treatment  Indication: Treatment   \n",
       "\n",
       "                 DO_ID drug_brand_name              DB_ID  \\\n",
       "0  Disease::DOID:10763             NaN  Compound::DB00401   \n",
       "1  Disease::DOID:10763             NaN  Compound::DB00612   \n",
       "2  Disease::DOID:10763             NaN  Compound::DB00960   \n",
       "3  Disease::DOID:10763             NaN  Compound::DB00876   \n",
       "4  Disease::DOID:10763             NaN  Compound::DB00598   \n",
       "\n",
       "                                   Label_ID                 sheet  \\\n",
       "0  ce733b39-7857-4538-92d6-1c68a4e4eb75.xml  Indication_treatment   \n",
       "1  c818c38d-ee37-4ceb-b078-611483b4f743.xml  Indication_treatment   \n",
       "2  d4078b63-30ad-435b-a081-4d90562962b5.xml  Indication_treatment   \n",
       "3  ab531d28-345b-4113-9fde-00cd63ad5b1a.xml  Indication_treatment   \n",
       "4  78765cc3-27dc-0373-e053-2991aa0a7fe1.xml  Indication_treatment   \n",
       "\n",
       "                relation  inter_agree_experts medical_expert4  \\\n",
       "0  Indication: Treatment                    3             NaN   \n",
       "1  Indication: Treatment                    3             NaN   \n",
       "2  Indication: Treatment                    3             NaN   \n",
       "3  Indication: Treatment                    3             NaN   \n",
       "4  Indication: Treatment                    3             NaN   \n",
       "\n",
       "  Final \\n(closest option)  \n",
       "0                      NaN  \n",
       "1                      NaN  \n",
       "2                      NaN  \n",
       "3                      NaN  \n",
       "4                      NaN  "
      ]
     },
     "execution_count": 6,
     "metadata": {},
     "output_type": "execute_result"
    }
   ],
   "source": [
    "experts.head()"
   ]
  },
  {
   "cell_type": "code",
   "execution_count": 7,
   "metadata": {},
   "outputs": [],
   "source": [
    "experts.relation = experts.relation =='Indication: Treatment'"
   ]
  },
  {
   "cell_type": "code",
   "execution_count": 8,
   "metadata": {},
   "outputs": [
    {
     "data": {
      "text/plain": [
       "109"
      ]
     },
     "execution_count": 8,
     "metadata": {},
     "output_type": "execute_result"
    }
   ],
   "source": [
    "experts.relation.sum()"
   ]
  },
  {
   "cell_type": "code",
   "execution_count": 9,
   "metadata": {},
   "outputs": [],
   "source": [
    "df_het = pd.read_csv('../data/input/hetionet_ground_truth.csv')"
   ]
  },
  {
   "cell_type": "code",
   "execution_count": 10,
   "metadata": {},
   "outputs": [
    {
     "data": {
      "text/html": [
       "<div>\n",
       "<style scoped>\n",
       "    .dataframe tbody tr th:only-of-type {\n",
       "        vertical-align: middle;\n",
       "    }\n",
       "\n",
       "    .dataframe tbody tr th {\n",
       "        vertical-align: top;\n",
       "    }\n",
       "\n",
       "    .dataframe thead th {\n",
       "        text-align: right;\n",
       "    }\n",
       "</style>\n",
       "<table border=\"1\" class=\"dataframe\">\n",
       "  <thead>\n",
       "    <tr style=\"text-align: right;\">\n",
       "      <th></th>\n",
       "      <th>DB_ID</th>\n",
       "      <th>DO_ID</th>\n",
       "    </tr>\n",
       "  </thead>\n",
       "  <tbody>\n",
       "    <tr>\n",
       "      <th>0</th>\n",
       "      <td>Compound::DB08906</td>\n",
       "      <td>Disease::DOID:2841</td>\n",
       "    </tr>\n",
       "    <tr>\n",
       "      <th>1</th>\n",
       "      <td>Compound::DB00282</td>\n",
       "      <td>Disease::DOID:11476</td>\n",
       "    </tr>\n",
       "    <tr>\n",
       "      <th>2</th>\n",
       "      <td>Compound::DB00958</td>\n",
       "      <td>Disease::DOID:184</td>\n",
       "    </tr>\n",
       "    <tr>\n",
       "      <th>3</th>\n",
       "      <td>Compound::DB00970</td>\n",
       "      <td>Disease::DOID:363</td>\n",
       "    </tr>\n",
       "    <tr>\n",
       "      <th>4</th>\n",
       "      <td>Compound::DB00530</td>\n",
       "      <td>Disease::DOID:1324</td>\n",
       "    </tr>\n",
       "  </tbody>\n",
       "</table>\n",
       "</div>"
      ],
      "text/plain": [
       "               DB_ID                DO_ID\n",
       "0  Compound::DB08906   Disease::DOID:2841\n",
       "1  Compound::DB00282  Disease::DOID:11476\n",
       "2  Compound::DB00958    Disease::DOID:184\n",
       "3  Compound::DB00970    Disease::DOID:363\n",
       "4  Compound::DB00530   Disease::DOID:1324"
      ]
     },
     "execution_count": 10,
     "metadata": {},
     "output_type": "execute_result"
    }
   ],
   "source": [
    "#df_het= df_het.append(experts[['DB_ID','DO_ID']])\n",
    "df_het.DB_ID='Compound::'+df_het.DB_ID\n",
    "df_het.DO_ID= 'Disease::'+df_het.DO_ID\n",
    "df_het.head()"
   ]
  },
  {
   "cell_type": "code",
   "execution_count": 11,
   "metadata": {},
   "outputs": [],
   "source": [
    "from sklearn.model_selection import train_test_split"
   ]
  },
  {
   "cell_type": "code",
   "execution_count": 12,
   "metadata": {},
   "outputs": [],
   "source": [
    "df_het_train, df_het_test =train_test_split(df_het, shuffle=False, test_size=0.2)"
   ]
  },
  {
   "cell_type": "code",
   "execution_count": 13,
   "metadata": {},
   "outputs": [
    {
     "data": {
      "text/plain": [
       "(604, 2)"
      ]
     },
     "execution_count": 13,
     "metadata": {},
     "output_type": "execute_result"
    }
   ],
   "source": [
    "df_het_train.shape"
   ]
  },
  {
   "cell_type": "code",
   "execution_count": 14,
   "metadata": {},
   "outputs": [
    {
     "data": {
      "text/plain": [
       "604"
      ]
     },
     "execution_count": 14,
     "metadata": {},
     "output_type": "execute_result"
    }
   ],
   "source": [
    "indications_het =set()\n",
    "experts_dict = {}\n",
    "for i,row in df_het_train.iterrows():\n",
    "    #print (row['a'], row['b'])\n",
    "    indications_het.add((str(row['DB_ID']),str(row['DO_ID'])))\n",
    "    #break\n",
    "len(indications_het)"
   ]
  },
  {
   "cell_type": "code",
   "execution_count": 15,
   "metadata": {},
   "outputs": [
    {
     "data": {
      "text/plain": [
       "True"
      ]
     },
     "execution_count": 15,
     "metadata": {},
     "output_type": "execute_result"
    }
   ],
   "source": [
    "('Compound::DB08906', 'Disease::DOID:2841') in indications_het"
   ]
  },
  {
   "cell_type": "code",
   "execution_count": 16,
   "metadata": {},
   "outputs": [],
   "source": [
    "whole_dr_di = []\n",
    "for dr in df_het.DB_ID.unique():\n",
    "    for di in df_het.DO_ID.unique():\n",
    "        if (dr, di) in indications_het:\n",
    "            #print ((dr, di))\n",
    "            whole_dr_di.append([dr, di, 1])\n",
    "        else:\n",
    "            whole_dr_di.append([dr, di, 0])"
   ]
  },
  {
   "cell_type": "code",
   "execution_count": 17,
   "metadata": {},
   "outputs": [],
   "source": [
    "df_train = pd.DataFrame(whole_dr_di, columns=['DB_ID', 'DO_ID','label'])"
   ]
  },
  {
   "cell_type": "markdown",
   "metadata": {},
   "source": [
    "### Define KG Rules as Labeling Functions in Snorkel\n",
    "Snorkel is data labeling framework where multiple heuristic and programatic rules can be combined to assign a label to training data "
   ]
  },
  {
   "cell_type": "code",
   "execution_count": 18,
   "metadata": {},
   "outputs": [],
   "source": [
    "# Labels to be assigned \n",
    "POSITIVE = 1 # positive that the drug indication is recommendable\n",
    "NEGATIVE = 0 # negative that the drug indication is recommendable\n",
    "ABSTAIN = -1 # not sure whether the drug indication is recommendable or not\n"
   ]
  },
  {
   "cell_type": "markdown",
   "metadata": {},
   "source": [
    "### Embedding"
   ]
  },
  {
   "cell_type": "markdown",
   "metadata": {},
   "source": [
    "### TransE Embeddings (Pre-Trained)"
   ]
  },
  {
   "cell_type": "code",
   "execution_count": 19,
   "metadata": {},
   "outputs": [
    {
     "name": "stdout",
     "output_type": "stream",
     "text": [
      "(97238, 400)\n",
      "(107, 400)\n"
     ]
    }
   ],
   "source": [
    "import numpy as np\n",
    "import csv\n",
    "from sklearn.metrics.pairwise import cosine_similarity\n",
    "\n",
    "import torch.nn.functional as fn\n",
    "import torch as th\n",
    "\n",
    "node_emb = np.load('../embed/DRKG_TransE_l2_entity.npy')\n",
    "relation_emb = np.load('../embed/DRKG_TransE_l2_relation.npy')\n",
    "\n",
    "print(node_emb.shape)\n",
    "print(relation_emb.shape)"
   ]
  },
  {
   "cell_type": "code",
   "execution_count": 20,
   "metadata": {},
   "outputs": [
    {
     "name": "stdout",
     "output_type": "stream",
     "text": [
      "Number of entities: 97238\n"
     ]
    }
   ],
   "source": [
    "entity2id = {}\n",
    "id2entity = {}\n",
    "with open(\"../embed/entities.tsv\", newline='', encoding='utf-8') as csvfile:\n",
    "    reader = csv.DictReader(csvfile, delimiter='\\t', fieldnames=['entity','id'])\n",
    "    for row_val in reader:\n",
    "        id = row_val['id']\n",
    "        entity = row_val['entity']\n",
    "\n",
    "        entity2id[entity] = int(id)\n",
    "        id2entity[int(id)] = entity\n",
    "\n",
    "print(\"Number of entities: {}\".format(len(entity2id)))"
   ]
  },
  {
   "cell_type": "code",
   "execution_count": 21,
   "metadata": {},
   "outputs": [
    {
     "name": "stdout",
     "output_type": "stream",
     "text": [
      "Number of relations: 107\n"
     ]
    }
   ],
   "source": [
    "relation2id = {}\n",
    "id2relation = {}\n",
    "with open(\"../embed/relations.tsv\", newline='', encoding='utf-8') as csvfile:\n",
    "    reader = csv.DictReader(csvfile, delimiter='\\t', fieldnames=['relation','id'])\n",
    "    for row_val in reader:\n",
    "        id = row_val['id']\n",
    "        relation = row_val['relation']\n",
    "        #print (relation, id)\n",
    "        relation2id[relation] = int(id)\n",
    "        id2relation[int(id)] = relation\n",
    "\n",
    "print(\"Number of relations: {}\".format(len(relation2id)))"
   ]
  },
  {
   "cell_type": "code",
   "execution_count": 22,
   "metadata": {},
   "outputs": [
    {
     "data": {
      "text/plain": [
       "array([-0.40771222, -0.5394161 , -0.05413219, -0.4154125 , -0.2909808 ,\n",
       "       -0.37861708,  0.5271472 , -0.4764343 , -0.68072844,  0.80214214],\n",
       "      dtype=float32)"
      ]
     },
     "execution_count": 22,
     "metadata": {},
     "output_type": "execute_result"
    }
   ],
   "source": [
    "node_emb[entity2id['Compound::DB00970']][:10]"
   ]
  },
  {
   "cell_type": "code",
   "execution_count": 23,
   "metadata": {},
   "outputs": [
    {
     "name": "stdout",
     "output_type": "stream",
     "text": [
      "10678\n"
     ]
    }
   ],
   "source": [
    "i =0\n",
    "for e in  entity2id:\n",
    "    if 'Compound::DB' in e or 'Disease::DOID:' in e:\n",
    "        i+=1\n",
    "print (i)\n",
    "\n",
    "with open('../embed/DRGK_entity_embedding.txt','w') as fw:\n",
    "    fw.write(str(i)+' '+str(node_emb.shape[1])+'\\n')\n",
    "    for e in  entity2id:\n",
    "        if 'Compound::DB' in e or 'Disease::DOID:' in e:\n",
    "            fw.write(e+' '+\" \".join( [str(v) for v in  node_emb[entity2id[e]]] )+'\\n')"
   ]
  },
  {
   "cell_type": "markdown",
   "metadata": {},
   "source": [
    "### RDF2VEC Emebdding"
   ]
  },
  {
   "cell_type": "code",
   "execution_count": 24,
   "metadata": {},
   "outputs": [],
   "source": [
    "from gensim.models import KeyedVectors"
   ]
  },
  {
   "cell_type": "code",
   "execution_count": 25,
   "metadata": {},
   "outputs": [],
   "source": [
    "word_vectors = KeyedVectors.load_word2vec_format('../embed/DRGK_entity_embedding.txt', binary=False)"
   ]
  },
  {
   "cell_type": "code",
   "execution_count": 26,
   "metadata": {},
   "outputs": [
    {
     "data": {
      "text/plain": [
       "[('Disease::DOID:4481', 0.7617197632789612),\n",
       " ('Disease::DOID:3083', 0.688909113407135),\n",
       " ('Disease::DOID:3310', 0.63420170545578),\n",
       " ('Disease::DOID:7148', 0.5728758573532104),\n",
       " ('Disease::DOID:8893', 0.5591062307357788),\n",
       " ('Disease::DOID:9074', 0.5585140585899353),\n",
       " ('Disease::DOID:8577', 0.552219033241272),\n",
       " ('Disease::DOID:8778', 0.5235368609428406),\n",
       " ('Disease::DOID:418', 0.5231932401657104),\n",
       " ('Disease::DOID:9008', 0.5188432931900024)]"
      ]
     },
     "execution_count": 26,
     "metadata": {},
     "output_type": "execute_result"
    }
   ],
   "source": [
    "word_vectors.most_similar('Disease::DOID:2841')"
   ]
  },
  {
   "cell_type": "code",
   "execution_count": 27,
   "metadata": {},
   "outputs": [
    {
     "data": {
      "text/plain": [
       "[('Compound::DB00970', 1.0),\n",
       " ('Compound::DB00694', 0.8634293079376221),\n",
       " ('Compound::DB01204', 0.8496915102005005),\n",
       " ('Compound::DB00997', 0.8147120475769043),\n",
       " ('Compound::DB01042', 0.7971892356872559),\n",
       " ('Compound::DB00305', 0.7745863199234009),\n",
       " ('Compound::DB00987', 0.7593553066253662),\n",
       " ('Compound::DB01005', 0.7480059862136841),\n",
       " ('Compound::DB00445', 0.7352684140205383),\n",
       " ('Compound::DB01030', 0.7341449856758118)]"
      ]
     },
     "execution_count": 27,
     "metadata": {},
     "output_type": "execute_result"
    }
   ],
   "source": [
    "word_vectors.similar_by_vector(word_vectors['Compound::DB00970'])"
   ]
  },
  {
   "cell_type": "code",
   "execution_count": 28,
   "metadata": {},
   "outputs": [],
   "source": [
    "# Use Embedding model in the labeling function  "
   ]
  },
  {
   "cell_type": "markdown",
   "metadata": {},
   "source": [
    "### A probablistic rule is a rule that contains uncertainty about reasoning\n",
    "Based on the guilt-by-association principle (e.g. Barabasi et al., 2011;\n",
    "Chiang and Butte, 2009), new disease–drug relationships can be inferred\n",
    "through existing relationships between similar diseases and similar drugs.\n",
    "#### Example: If drug ${dr}$ treats disease ${ds}$ and disease ${ds}$ is similar to disease ${ds'}$ then drug ${dr}$ treats disease ${ds'}$\n",
    "*  ${?dr}$ CtD ${?ds}$   ^  ${?ds}$  DrD ${?ds'}$  => ${?dr}$ CtD ${?ds'}$"
   ]
  },
  {
   "cell_type": "code",
   "execution_count": 29,
   "metadata": {},
   "outputs": [],
   "source": [
    "from snorkel.labeling import labeling_function\n",
    "def rule1_transe_sim(x):\n",
    "    drug= x.DB_ID\n",
    "    disease = x.DO_ID\n",
    "    #print (drug, disease)\n",
    "    # search all indications treating the same disease\n",
    "    # if the drug that is similar to the one in the known indication,\n",
    "    # return 'INDICATION' \n",
    "    score = 0.0\n",
    "    if drug in entity2id and disease in entity2id:\n",
    "        dr_idx = entity2id[drug]\n",
    "        ds_idx = entity2id[disease]\n",
    "        r1 = relation_emb[relation2id['Hetionet::CtD::Compound:Disease']]\n",
    "        r2 = relation_emb[relation2id['Hetionet::DrD::Disease:Disease']]\n",
    "        a = node_emb[dr_idx]\n",
    "        b = node_emb[ds_idx]\n",
    "        similarEntity = word_vectors.similar_by_vector(a + r1 + r2)\n",
    "        for en,sim in similarEntity:\n",
    "            if en == disease:\n",
    "                return POSITIVE\n",
    "    return ABSTAIN \n",
    "\n"
   ]
  },
  {
   "cell_type": "markdown",
   "metadata": {},
   "source": [
    "### Translation based probablistic rule as labeling function\n",
    "$if (h, r, t) => h + r = t  $, vector norm of difference between head entity plus relation and tail entity in embedding space should be zero\n",
    "* we can simply assess the correctness of a triple (h, r, t) by\n",
    "checking the plausibility score of the embedding vectors of h, r and t."
   ]
  },
  {
   "cell_type": "code",
   "execution_count": 30,
   "metadata": {},
   "outputs": [],
   "source": [
    "@labeling_function()\n",
    "def transe_sim(x):\n",
    "    drug= x.DB_ID\n",
    "    disease = x.DO_ID\n",
    "    #print (drug, disease)\n",
    "    # search all indications treating the same disease\n",
    "    # if the drug that is similar to the one in the known indication,\n",
    "    # return 'INDICATION' \n",
    "    score = 0.0\n",
    "    if drug in entity2id and disease in entity2id:\n",
    "        dr_idx = entity2id[drug]\n",
    "        ds_idx = entity2id[disease]\n",
    "        r = relation_emb[relation2id['Hetionet::CtD::Compound:Disease']]\n",
    "        similarEntity = word_vectors.similar_by_vector((node_emb[dr_idx] + r), topn=10)\n",
    "        for en,sim in similarEntity:\n",
    "            if en == disease:\n",
    "                return POSITIVE\n",
    "    return ABSTAIN "
   ]
  },
  {
   "cell_type": "code",
   "execution_count": 31,
   "metadata": {},
   "outputs": [
    {
     "data": {
      "text/plain": [
       "{'bioarx::HumGenHumGen:Gene:Gene': 0,\n",
       " 'bioarx::VirGenHumGen:Gene:Gene': 1,\n",
       " 'bioarx::DrugVirGen:Compound:Gene': 2,\n",
       " 'bioarx::DrugHumGen:Compound:Gene': 3,\n",
       " 'bioarx::Covid2_acc_host_gene::Disease:Gene': 4,\n",
       " 'bioarx::Coronavirus_ass_host_gene::Disease:Gene': 5,\n",
       " 'DGIDB::INHIBITOR::Gene:Compound': 6,\n",
       " 'DGIDB::ANTAGONIST::Gene:Compound': 7,\n",
       " 'DGIDB::OTHER::Gene:Compound': 8,\n",
       " 'DGIDB::AGONIST::Gene:Compound': 9,\n",
       " 'DGIDB::BINDER::Gene:Compound': 10,\n",
       " 'DGIDB::MODULATOR::Gene:Compound': 11,\n",
       " 'DGIDB::BLOCKER::Gene:Compound': 12,\n",
       " 'DGIDB::CHANNEL BLOCKER::Gene:Compound': 13,\n",
       " 'DGIDB::ANTIBODY::Gene:Compound': 14,\n",
       " 'DGIDB::POSITIVE ALLOSTERIC MODULATOR::Gene:Compound': 15,\n",
       " 'DGIDB::ALLOSTERIC MODULATOR::Gene:Compound': 16,\n",
       " 'DGIDB::ACTIVATOR::Gene:Compound': 17,\n",
       " 'DGIDB::PARTIAL AGONIST::Gene:Compound': 18,\n",
       " 'DRUGBANK::x-atc::Compound:Atc': 19,\n",
       " 'DRUGBANK::ddi-interactor-in::Compound:Compound': 20,\n",
       " 'DRUGBANK::target::Compound:Gene': 21,\n",
       " 'DRUGBANK::enzyme::Compound:Gene': 22,\n",
       " 'DRUGBANK::carrier::Compound:Gene': 23,\n",
       " 'DRUGBANK::treats::Compound:Disease': 24,\n",
       " 'GNBR::E::Compound:Gene': 25,\n",
       " 'GNBR::A+::Compound:Gene': 26,\n",
       " 'GNBR::N::Compound:Gene': 27,\n",
       " 'GNBR::K::Compound:Gene': 28,\n",
       " 'GNBR::A-::Compound:Gene': 29,\n",
       " 'GNBR::E+::Compound:Gene': 30,\n",
       " 'GNBR::B::Compound:Gene': 31,\n",
       " 'GNBR::E-::Compound:Gene': 32,\n",
       " 'GNBR::O::Compound:Gene': 33,\n",
       " 'GNBR::Z::Compound:Gene': 34,\n",
       " 'GNBR::T::Compound:Disease': 35,\n",
       " 'GNBR::C::Compound:Disease': 36,\n",
       " 'GNBR::Sa::Compound:Disease': 37,\n",
       " 'GNBR::Pa::Compound:Disease': 38,\n",
       " 'GNBR::Mp::Compound:Disease': 39,\n",
       " 'GNBR::Pr::Compound:Disease': 40,\n",
       " 'GNBR::J::Compound:Disease': 41,\n",
       " 'GNBR::L::Gene:Disease': 42,\n",
       " 'GNBR::U::Gene:Disease': 43,\n",
       " 'GNBR::Y::Gene:Disease': 44,\n",
       " 'GNBR::J::Gene:Disease': 45,\n",
       " 'GNBR::Te::Gene:Disease': 46,\n",
       " 'GNBR::Md::Gene:Disease': 47,\n",
       " 'GNBR::G::Gene:Disease': 48,\n",
       " 'GNBR::D::Gene:Disease': 49,\n",
       " 'GNBR::X::Gene:Disease': 50,\n",
       " 'GNBR::Ud::Gene:Disease': 51,\n",
       " 'GNBR::V+::Gene:Gene': 52,\n",
       " 'GNBR::Q::Gene:Gene': 53,\n",
       " 'GNBR::Rg::Gene:Gene': 54,\n",
       " 'GNBR::B::Gene:Gene': 55,\n",
       " 'GNBR::I::Gene:Gene': 56,\n",
       " 'GNBR::E+::Gene:Gene': 57,\n",
       " 'GNBR::H::Gene:Gene': 58,\n",
       " 'GNBR::W::Gene:Gene': 59,\n",
       " 'GNBR::E::Gene:Gene': 60,\n",
       " 'GNBR::in_tax::Gene:Tax': 61,\n",
       " 'Hetionet::GpBP::Gene:Biological Process': 62,\n",
       " 'Hetionet::GiG::Gene:Gene': 63,\n",
       " 'Hetionet::CrC::Compound:Compound': 64,\n",
       " 'Hetionet::DdG::Disease:Gene': 65,\n",
       " 'Hetionet::DpS::Disease:Symptom': 66,\n",
       " 'Hetionet::DlA::Disease:Anatomy': 67,\n",
       " 'Hetionet::CtD::Compound:Disease': 68,\n",
       " 'Hetionet::CbG::Compound:Gene': 69,\n",
       " 'Hetionet::CuG::Compound:Gene': 70,\n",
       " 'Hetionet::DrD::Disease:Disease': 71,\n",
       " 'Hetionet::DaG::Disease:Gene': 72,\n",
       " 'Hetionet::CpD::Compound:Disease': 73,\n",
       " 'Hetionet::AdG::Anatomy:Gene': 74,\n",
       " 'Hetionet::AuG::Anatomy:Gene': 75,\n",
       " 'Hetionet::GcG::Gene:Gene': 76,\n",
       " 'Hetionet::GpMF::Gene:Molecular Function': 77,\n",
       " 'Hetionet::PCiC::Pharmacologic Class:Compound': 78,\n",
       " 'Hetionet::GpCC::Gene:Cellular Component': 79,\n",
       " 'Hetionet::Gr>G::Gene:Gene': 80,\n",
       " 'Hetionet::CdG::Compound:Gene': 81,\n",
       " 'Hetionet::DuG::Disease:Gene': 82,\n",
       " 'Hetionet::GpPW::Gene:Pathway': 83,\n",
       " 'Hetionet::CcSE::Compound:Side Effect': 84,\n",
       " 'Hetionet::AeG::Anatomy:Gene': 85,\n",
       " 'INTACT::PHYSICAL ASSOCIATION::Compound:Gene': 86,\n",
       " 'INTACT::DIRECT INTERACTION::Compound:Gene': 87,\n",
       " 'INTACT::ASSOCIATION::Compound:Gene': 88,\n",
       " 'INTACT::ASSOCIATION::Gene:Gene': 89,\n",
       " 'INTACT::PHYSICAL ASSOCIATION::Gene:Gene': 90,\n",
       " 'INTACT::COLOCALIZATION::Gene:Gene': 91,\n",
       " 'INTACT::DEPHOSPHORYLATION REACTION::Gene:Gene': 92,\n",
       " 'INTACT::CLEAVAGE REACTION::Gene:Gene': 93,\n",
       " 'INTACT::DIRECT INTERACTION::Gene:Gene': 94,\n",
       " 'INTACT::PHOSPHORYLATION REACTION::Gene:Gene': 95,\n",
       " 'INTACT::ADP RIBOSYLATION REACTION::Gene:Gene': 96,\n",
       " 'INTACT::UBIQUITINATION REACTION::Gene:Gene': 97,\n",
       " 'INTACT::PROTEIN CLEAVAGE::Gene:Gene': 98,\n",
       " 'STRING::REACTION::Gene:Gene': 99,\n",
       " 'STRING::CATALYSIS::Gene:Gene': 100,\n",
       " 'STRING::ACTIVATION::Gene:Gene': 101,\n",
       " 'STRING::INHIBITION::Gene:Gene': 102,\n",
       " 'STRING::OTHER::Gene:Gene': 103,\n",
       " 'STRING::BINDING::Gene:Gene': 104,\n",
       " 'STRING::PTMOD::Gene:Gene': 105,\n",
       " 'STRING::EXPRESSION::Gene:Gene': 106}"
      ]
     },
     "execution_count": 31,
     "metadata": {},
     "output_type": "execute_result"
    }
   ],
   "source": [
    "relation2id"
   ]
  },
  {
   "cell_type": "markdown",
   "metadata": {},
   "source": [
    "### Probablistic Rule using TransE Embedding:\n",
    "#### Rule1: \n",
    "If drug $?dr$ treats disease $?f$ and disease $?f$ resembles disease $?ds$ then drug $?dr$  treats  $?ds$  \n",
    "\n",
    "$$dr + r1 = f,   f + r2 = ds  => dr + r1 + r2 = ds, $$\n",
    "$$r1= treats , r2= resembles$$\n",
    "$$ sim = cosine (dr, ds) $$\n",
    "\n"
   ]
  },
  {
   "cell_type": "code",
   "execution_count": 32,
   "metadata": {},
   "outputs": [],
   "source": [
    "@labeling_function()\n",
    "def rule1_transe_sim(x):\n",
    "    drug= x.DB_ID\n",
    "    disease = x.DO_ID\n",
    "    #print (drug, disease)\n",
    "    # search all indications treating the same disease\n",
    "    # if the drug that is similar to the one in the known indication,\n",
    "    # return 'INDICATION' \n",
    "    score = 0.0\n",
    "    if drug in entity2id and disease in entity2id:\n",
    "        dr_idx = entity2id[drug]\n",
    "        ds_idx = entity2id[disease]\n",
    "        r1 = relation_emb[relation2id['Hetionet::CtD::Compound:Disease']]\n",
    "        r2 = relation_emb[relation2id['Hetionet::DrD::Disease:Disease']]\n",
    "        a = node_emb[dr_idx]\n",
    "        b = node_emb[ds_idx]\n",
    "        similarEntity = word_vectors.similar_by_vector(a + r1 + r2)\n",
    "        for en,sim in similarEntity:\n",
    "            if en == disease:\n",
    "                return POSITIVE\n",
    "    return ABSTAIN "
   ]
  },
  {
   "cell_type": "markdown",
   "metadata": {},
   "source": [
    "#### Rule 2:\n",
    "If drug $?dr$ binds gene $?g$ and disease $?ds$ associates gene $?g$ then drug $?dr$  treats  $?ds$  \n",
    " Compound–binds–Gene–associates–Disease => Compound–treats–Disease"
   ]
  },
  {
   "cell_type": "code",
   "execution_count": 33,
   "metadata": {},
   "outputs": [],
   "source": [
    "@labeling_function()\n",
    "def rule2_transe_sim(x):\n",
    "    drug= x.DB_ID\n",
    "    disease = x.DO_ID\n",
    "    #print (drug, disease)\n",
    "    # search all indications treating the same disease\n",
    "    # if the drug that is similar to the one in the known indication,\n",
    "    # return 'INDICATION' \n",
    "    score = 0.0\n",
    "    if drug in entity2id and disease in entity2id:\n",
    "        dr_idx = entity2id[drug]\n",
    "        ds_idx = entity2id[disease]\n",
    "        r1 = relation_emb[relation2id['Hetionet::CbG::Compound:Gene']]\n",
    "        r2 = relation_emb[relation2id['Hetionet::DaG::Disease:Gene']]\n",
    "        a = node_emb[dr_idx]\n",
    "        similarEntity = word_vectors.similar_by_vector(a + r1 -r2)\n",
    "        for en,sim in similarEntity:\n",
    "            if en == disease:\n",
    "                return POSITIVE\n",
    "    return ABSTAIN "
   ]
  },
  {
   "cell_type": "markdown",
   "metadata": {},
   "source": [
    "#### Rule 3: \n",
    " Compound–resemble–Compound–Treat–Disease => Compound–treats–Disease"
   ]
  },
  {
   "cell_type": "code",
   "execution_count": 34,
   "metadata": {},
   "outputs": [],
   "source": [
    "@labeling_function()\n",
    "def rule3_transe_sim(x):\n",
    "    drug= x.DB_ID\n",
    "    disease = x.DO_ID\n",
    "    #print (drug, disease)\n",
    "    # search all indications treating the same disease\n",
    "    # if the drug that is similar to the one in the known indication,\n",
    "    # return 'INDICATION' \n",
    "    score = 0.0\n",
    "    if drug in entity2id and disease in entity2id:\n",
    "        dr_idx = entity2id[drug]\n",
    "        ds_idx = entity2id[disease]\n",
    "        r1 = relation_emb[relation2id['Hetionet::CtD::Compound:Disease']]\n",
    "        r2 = relation_emb[relation2id['Hetionet::CrC::Compound:Compound']]\n",
    "        a = node_emb[dr_idx]\n",
    "        b = node_emb[ds_idx]\n",
    "        similarEntity = word_vectors.similar_by_vector(a + r2 + r1)\n",
    "        for en,sim in similarEntity:\n",
    "            if en == disease:\n",
    "                return POSITIVE\n",
    "    return ABSTAIN "
   ]
  },
  {
   "cell_type": "markdown",
   "metadata": {},
   "source": [
    "#### Rule 4\n",
    "Compound-include(-1)-Pharmacologic Class-include-Compound--treat-disease"
   ]
  },
  {
   "cell_type": "code",
   "execution_count": 35,
   "metadata": {},
   "outputs": [],
   "source": [
    "\n",
    "@labeling_function()\n",
    "def rule4_transe_sim(x):\n",
    "    drug= x.DB_ID\n",
    "    disease = x.DO_ID\n",
    "    score = 0.0\n",
    "    if drug in entity2id and disease in entity2id:\n",
    "        dr_idx = entity2id[drug]\n",
    "        ds_idx = entity2id[disease]\n",
    "        r1 = relation_emb[relation2id['Hetionet::PCiC::Pharmacologic Class:Compound']]\n",
    "        r2 = relation_emb[relation2id['Hetionet::PCiC::Pharmacologic Class:Compound']]\n",
    "        r3 = relation_emb[relation2id['Hetionet::CtD::Compound:Disease']]\n",
    "        similarEntity = word_vectors.similar_by_vector((node_emb[dr_idx] -r1 + r2 +r3))\n",
    "        for en,sim in similarEntity:\n",
    "            if en == disease:\n",
    "                return POSITIVE\n",
    "    return ABSTAIN \n"
   ]
  },
  {
   "cell_type": "markdown",
   "metadata": {},
   "source": [
    "#### Rule 5\n",
    "Compound-resembles-Compound-resembles-Compound-treats-Disease"
   ]
  },
  {
   "cell_type": "code",
   "execution_count": 36,
   "metadata": {},
   "outputs": [],
   "source": [
    "@labeling_function()\n",
    "def rule5_transe_sim(x):\n",
    "    drug= x.DB_ID\n",
    "    disease = x.DO_ID\n",
    "    score = 0.0\n",
    "    if drug in entity2id and disease in entity2id:\n",
    "        dr_idx = entity2id[drug]\n",
    "        ds_idx = entity2id[disease]\n",
    "        r1 = relation_emb[relation2id['Hetionet::CrC::Compound:Compound']]\n",
    "        r2 = relation_emb[relation2id['Hetionet::CrC::Compound:Compound']]\n",
    "        r3 = relation_emb[relation2id['Hetionet::CtD::Compound:Disease']]\n",
    "        similarEntity = word_vectors.similar_by_vector((node_emb[dr_idx] + r1 + r2 +r3))\n",
    "        for en,sim in similarEntity:\n",
    "            if en == disease:\n",
    "                return POSITIVE\n",
    "    return ABSTAIN "
   ]
  },
  {
   "cell_type": "markdown",
   "metadata": {},
   "source": [
    "#### Rule 6\n",
    "Compound-palliates-Disease-palliates(-1)-Compound-treats-Disease\n"
   ]
  },
  {
   "cell_type": "code",
   "execution_count": 37,
   "metadata": {},
   "outputs": [],
   "source": [
    "@labeling_function()\n",
    "def rule6_transe_sim(x):\n",
    "    drug= x.DB_ID\n",
    "    disease = x.DO_ID\n",
    "    score = 0.0\n",
    "    if drug in entity2id and disease in entity2id:\n",
    "        dr_idx = entity2id[drug]\n",
    "        ds_idx = entity2id[disease]\n",
    "        r1 = relation_emb[relation2id['Hetionet::CpD::Compound:Disease']]\n",
    "        r2 = relation_emb[relation2id['Hetionet::CpD::Compound:Disease']]\n",
    "        r3 = relation_emb[relation2id['Hetionet::CtD::Compound:Disease']]\n",
    "        similarEntity = word_vectors.similar_by_vector((node_emb[dr_idx] + r1 - r2 +r3))\n",
    "        for en,sim in similarEntity:\n",
    "            if en == disease:\n",
    "                return POSITIVE\n",
    "    return ABSTAIN "
   ]
  },
  {
   "cell_type": "markdown",
   "metadata": {},
   "source": [
    "#### Rule 7\n",
    "Compound-binds-Gene-binds(-1)-Compound-treats-Disease"
   ]
  },
  {
   "cell_type": "code",
   "execution_count": 38,
   "metadata": {},
   "outputs": [],
   "source": [
    "@labeling_function()\n",
    "def rule7_transe_sim(x):\n",
    "    drug= x.DB_ID\n",
    "    disease = x.DO_ID\n",
    "    score = 0.0\n",
    "    if drug in entity2id and disease in entity2id:\n",
    "        dr_idx = entity2id[drug]\n",
    "        ds_idx = entity2id[disease]\n",
    "        r1 = relation_emb[relation2id['Hetionet::CbG::Compound:Gene']]\n",
    "        r2 = relation_emb[relation2id['Hetionet::CbG::Compound:Gene']]\n",
    "        r3 = relation_emb[relation2id['Hetionet::CtD::Compound:Disease']]\n",
    "        similarEntity = word_vectors.similar_by_vector((node_emb[dr_idx] + r1 - r2 +r3))\n",
    "        for en,sim in similarEntity:\n",
    "            if en == disease:\n",
    "                return POSITIVE\n",
    "    return ABSTAIN "
   ]
  },
  {
   "cell_type": "markdown",
   "metadata": {},
   "source": [
    "#### Rule 8\n",
    "Compound-causes-Side Effect-causes(1)-Compound-treats-Disease\n"
   ]
  },
  {
   "cell_type": "code",
   "execution_count": 39,
   "metadata": {},
   "outputs": [],
   "source": [
    "@labeling_function()\n",
    "def rule8_transe_sim(x):\n",
    "    drug= x.DB_ID\n",
    "    disease = x.DO_ID\n",
    "    score = 0.0\n",
    "    if drug in entity2id and disease in entity2id:\n",
    "        dr_idx = entity2id[drug]\n",
    "        ds_idx = entity2id[disease]\n",
    "        r1 = relation_emb[relation2id['Hetionet::CcSE::Compound:Side Effect']] \n",
    "        r2 = relation_emb[relation2id['Hetionet::CcSE::Compound:Side Effect']] \n",
    "        r3 = relation_emb[relation2id['Hetionet::CtD::Compound:Disease']]\n",
    "        similarEntity = word_vectors.similar_by_vector((node_emb[dr_idx] + r1 - r2 +r3))\n",
    "        for en,sim in similarEntity:\n",
    "            if en == disease:\n",
    "                return POSITIVE\n",
    "    return ABSTAIN "
   ]
  },
  {
   "cell_type": "markdown",
   "metadata": {},
   "source": [
    "#### Rule 9 \n",
    "Compound-resembles-Compound-binds-Gene-associates(-1)-Disease\n",
    "\n"
   ]
  },
  {
   "cell_type": "code",
   "execution_count": 40,
   "metadata": {},
   "outputs": [],
   "source": [
    "\n",
    "@labeling_function()\n",
    "def rule9_transe_sim(x):\n",
    "    drug= x.DB_ID\n",
    "    disease = x.DO_ID\n",
    "    score = 0.0\n",
    "    if drug in entity2id and disease in entity2id:\n",
    "        dr_idx = entity2id[drug]\n",
    "        ds_idx = entity2id[disease]\n",
    "        r1 = relation_emb[relation2id['Hetionet::CrC::Compound:Compound']] \n",
    "        r2 = relation_emb[relation2id['Hetionet::CbG::Compound:Gene']] \n",
    "        r3 = relation_emb[relation2id['Hetionet::DaG::Disease:Gene']]\n",
    "        similarEntity = word_vectors.similar_by_vector((node_emb[dr_idx] + r1 + r2 - r3))\n",
    "        for en,sim in similarEntity:\n",
    "            if en == disease:\n",
    "                return POSITIVE\n",
    "    return ABSTAIN "
   ]
  },
  {
   "cell_type": "markdown",
   "metadata": {},
   "source": [
    "#### Rule 10\n",
    "Compound-binds-Gene-expresses(1)-Anatomy-localizes(1)-Disease\n",
    "\n",
    "cosine_similarity(dr+r1-r2-r3, ds)"
   ]
  },
  {
   "cell_type": "code",
   "execution_count": 41,
   "metadata": {},
   "outputs": [],
   "source": [
    "@labeling_function()\n",
    "def rule10_transe_sim(x):\n",
    "    drug= x.DB_ID\n",
    "    disease = x.DO_ID\n",
    "    score = 0.0\n",
    "    if drug in entity2id and disease in entity2id:\n",
    "        dr_idx = entity2id[drug]\n",
    "        ds_idx = entity2id[disease]\n",
    "        r1 = relation_emb[relation2id['Hetionet::CbG::Compound:Gene']] \n",
    "        r2 = relation_emb[relation2id['Hetionet::AeG::Anatomy:Gene']] \n",
    "        r3 = relation_emb[relation2id['Hetionet::DlA::Disease:Anatomy']]\n",
    "        similarEntity = word_vectors.similar_by_vector((node_emb[dr_idx] + r1 - r2 - r3))\n",
    "        for en,sim in similarEntity:\n",
    "            if en == disease:\n",
    "                return POSITIVE\n",
    "    return ABSTAIN "
   ]
  },
  {
   "cell_type": "code",
   "execution_count": 42,
   "metadata": {},
   "outputs": [],
   "source": [
    "@labeling_function()\n",
    "def transe_sim(x):\n",
    "    drug= x.DB_ID\n",
    "    disease = x.DO_ID\n",
    "    #print (drug, disease)\n",
    "    # search all indications treating the same disease\n",
    "    # if the drug that is similar to the one in the known indication,\n",
    "    # return 'INDICATION' \n",
    "    score = 0.0\n",
    "    if drug in entity2id and disease in entity2id:\n",
    "        dr_idx = entity2id[drug]\n",
    "        ds_idx = entity2id[disease]\n",
    "        r = relation_emb[relation2id['Hetionet::CtD::Compound:Disease']]\n",
    "        similarEntity = word_vectors.similar_by_vector((node_emb[dr_idx] + r), topn=10)\n",
    "        for en,sim in similarEntity:\n",
    "            if en == disease:\n",
    "                return POSITIVE\n",
    "    return ABSTAIN "
   ]
  },
  {
   "cell_type": "code",
   "execution_count": null,
   "metadata": {},
   "outputs": [
    {
     "name": "stderr",
     "output_type": "stream",
     "text": [
      "/opt/conda/lib/python3.7/site-packages/tqdm/std.py:666: FutureWarning: The Panel class is removed from pandas. Accessing it from the top-level namespace will also be removed in the next version\n",
      "  from pandas import Panel\n",
      " 74%|███████▍  | 22022/29799 [03:37<01:00, 127.57it/s]"
     ]
    }
   ],
   "source": [
    "from snorkel.labeling import PandasLFApplier, LFAnalysis\n",
    "\n",
    "lfs = [transe_sim, rule1_transe_sim, rule2_transe_sim,rule3_transe_sim,rule4_transe_sim, rule5_transe_sim, rule6_transe_sim,rule7_transe_sim,rule8_transe_sim,rule9_transe_sim, rule10_transe_sim]\n",
    "\n",
    "\n",
    "applier = PandasLFApplier(lfs=lfs)\n",
    "L_train = applier.apply(df=df_train)"
   ]
  },
  {
   "cell_type": "code",
   "execution_count": null,
   "metadata": {},
   "outputs": [],
   "source": [
    "from snorkel.labeling.model import LabelModel\n",
    "\n",
    "label_model = LabelModel(cardinality=2, verbose=True)\n",
    "label_model.fit(L_train=L_train, n_epochs=500, log_freq=100, seed=123)"
   ]
  },
  {
   "cell_type": "code",
   "execution_count": null,
   "metadata": {},
   "outputs": [],
   "source": [
    "preds_train = label_model.predict(L=L_train)"
   ]
  },
  {
   "cell_type": "code",
   "execution_count": null,
   "metadata": {},
   "outputs": [],
   "source": [
    "probs_train =label_model.predict_proba(L=L_train)"
   ]
  },
  {
   "cell_type": "code",
   "execution_count": null,
   "metadata": {},
   "outputs": [],
   "source": [
    "probs_train[:, 1]"
   ]
  },
  {
   "cell_type": "code",
   "execution_count": null,
   "metadata": {},
   "outputs": [],
   "source": [
    "sum(probs_train[:, 1] > 0.5)"
   ]
  },
  {
   "cell_type": "code",
   "execution_count": null,
   "metadata": {},
   "outputs": [],
   "source": [
    "df_train['prob'] = probs_train[:, 1]"
   ]
  },
  {
   "cell_type": "code",
   "execution_count": null,
   "metadata": {},
   "outputs": [],
   "source": [
    "df_het_test['label'] =1"
   ]
  },
  {
   "cell_type": "code",
   "execution_count": null,
   "metadata": {},
   "outputs": [],
   "source": [
    "from snorkel.labeling import PandasLFApplier, LFAnalysis\n",
    "applier = PandasLFApplier(lfs)\n",
    "L_dev = applier.apply(df_het_test)\n",
    "LFAnalysis(L_dev, lfs).lf_summary(df_het_test.label.values)"
   ]
  },
  {
   "cell_type": "code",
   "execution_count": null,
   "metadata": {},
   "outputs": [],
   "source": [
    "df_rank = {}\n",
    "df_train.index = df_train.DB_ID\n",
    "for i,drug in enumerate(df_train.DB_ID.unique()):\n",
    "    x =  df_train[df_train.DB_ID==drug]\n",
    "    x['Rank'] = x['prob'].rank(method='first',ascending=False)\n",
    "    x.index = x.DO_ID\n",
    "    df_rank[drug]= x['Rank'].to_dict()\n",
    "    "
   ]
  },
  {
   "cell_type": "code",
   "execution_count": null,
   "metadata": {},
   "outputs": [],
   "source": [
    "pos_pair_dict = {}\n",
    "for i,row in df_het_test.iterrows():\n",
    "    if row['DB_ID'] not in pos_pair_dict:\n",
    "        pos_pair_dict[row['DB_ID']] =[]\n",
    "    pos_pair_dict[row['DB_ID']].append( row['DO_ID'])"
   ]
  },
  {
   "cell_type": "code",
   "execution_count": null,
   "metadata": {},
   "outputs": [],
   "source": [
    "list(pos_pair_dict.items())[:10]"
   ]
  },
  {
   "cell_type": "code",
   "execution_count": null,
   "metadata": {},
   "outputs": [],
   "source": [
    "def mrr_map_new(pos_pair_dict, df_rank):\n",
    "    rank_scores = []\n",
    "    ave_p = []\n",
    "    in_top_5 = 0\n",
    "    in_top_10 = 0\n",
    "    print('number of positives: ',len(pos_pair_dict.keys()))\n",
    "\n",
    "    for fromt in pos_pair_dict.keys():\n",
    "        relevant_ranks = []\n",
    "        min_rank = 9999999999999999\n",
    "        for asdf in pos_pair_dict[fromt]:\n",
    "            rank = df_rank[fromt][asdf]\n",
    "            relevant_ranks.append(rank)\n",
    "            if rank < min_rank:\n",
    "                min_rank = rank\n",
    "        rank = min_rank\n",
    "\n",
    "        rank_scores.append(1.0/rank)\n",
    "        if min_rank <= 5:\n",
    "            in_top_5 += 1\n",
    "        if min_rank <= 10:\n",
    "            in_top_10 += 1\n",
    "\n",
    "        precisions = []\n",
    "        for rank in relevant_ranks:\n",
    "            good_docs = len([r for r in relevant_ranks if r <= rank])\n",
    "            precisions.append(good_docs/rank)\n",
    "        if len(precisions) == 0:\n",
    "            precisions = [0]\n",
    "        ave_p.append(np.mean(precisions))\n",
    "\n",
    "    print('mean average precision: ', np.mean(ave_p))\n",
    "    print('mean reciprocal rank: ', np.mean(rank_scores))\n",
    "    print('recallrate at 5: ', in_top_5/len(pos_pair_dict.keys()))\n",
    "    print('recallrate at 10: ', in_top_10/len(pos_pair_dict.keys()))\n",
    "    print('formatted')\n",
    "    print(round(np.mean(ave_p), 3),' & ',round(np.mean(rank_scores), 3),' & ',round(in_top_5/len(pos_pair_dict.keys()), 3),' & ',round(in_top_10/len(pos_pair_dict.keys()), 3))\n",
    "    return round(np.mean(ave_p), 3)"
   ]
  },
  {
   "cell_type": "code",
   "execution_count": null,
   "metadata": {},
   "outputs": [],
   "source": [
    "mrr_map_new(pos_pair_dict, df_rank)"
   ]
  },
  {
   "cell_type": "code",
   "execution_count": null,
   "metadata": {},
   "outputs": [],
   "source": []
  }
 ],
 "metadata": {
  "kernelspec": {
   "display_name": "Python 3",
   "language": "python",
   "name": "python3"
  },
  "language_info": {
   "codemirror_mode": {
    "name": "ipython",
    "version": 3
   },
   "file_extension": ".py",
   "mimetype": "text/x-python",
   "name": "python",
   "nbconvert_exporter": "python",
   "pygments_lexer": "ipython3",
   "version": "3.7.6"
  }
 },
 "nbformat": 4,
 "nbformat_minor": 5
}
