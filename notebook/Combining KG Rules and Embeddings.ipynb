{
 "cells": [
  {
   "cell_type": "code",
   "execution_count": 1,
   "id": "b3b69073",
   "metadata": {},
   "outputs": [],
   "source": [
    "import pandas as pd\n",
    "\n",
    "\n",
    "DISPLAY_ALL_TEXT = False\n",
    "\n",
    "pd.set_option(\"display.max_colwidth\", 0 if DISPLAY_ALL_TEXT else 50)"
   ]
  },
  {
   "cell_type": "code",
   "execution_count": 2,
   "id": "5df33ebb",
   "metadata": {},
   "outputs": [
    {
     "name": "stdout",
     "output_type": "stream",
     "text": [
      "Collecting rdflib\n",
      "  Downloading rdflib-5.0.0-py3-none-any.whl (231 kB)\n",
      "\u001b[K     |████████████████████████████████| 231 kB 6.7 MB/s eta 0:00:01\n",
      "\u001b[?25hRequirement already satisfied: pyparsing in /usr/local/lib/python3.6/site-packages (from rdflib) (2.4.7)\n",
      "Requirement already satisfied: six in /usr/local/lib/python3.6/site-packages (from rdflib) (1.15.0)\n",
      "Collecting isodate\n",
      "  Downloading isodate-0.6.0-py2.py3-none-any.whl (45 kB)\n",
      "\u001b[K     |████████████████████████████████| 45 kB 3.0 MB/s  eta 0:00:01\n",
      "\u001b[?25hInstalling collected packages: isodate, rdflib\n",
      "Successfully installed isodate-0.6.0 rdflib-5.0.0\n"
     ]
    }
   ],
   "source": [
    "!pip install rdflib"
   ]
  },
  {
   "cell_type": "code",
   "execution_count": 3,
   "id": "0b0883b9",
   "metadata": {},
   "outputs": [],
   "source": [
    "from rdflib import Namespace\n",
    "from rdflib import Graph, URIRef, Literal, RDF, ConjunctiveGraph"
   ]
  },
  {
   "cell_type": "markdown",
   "id": "4c5f5e88",
   "metadata": {},
   "source": [
    "### Dataset contains text and disease and drug mentions which were extracted from the DailyMed drug lables"
   ]
  },
  {
   "cell_type": "code",
   "execution_count": 8,
   "id": "74bbb782",
   "metadata": {},
   "outputs": [
    {
     "data": {
      "text/plain": [
       "54040"
      ]
     },
     "execution_count": 8,
     "metadata": {},
     "output_type": "execute_result"
    }
   ],
   "source": [
    "\n",
    "unlabeled_df  = pd.read_csv('../data/input/raw_cleaned.csv.zip',  compression='zip')\n",
    "unlabeled_df = unlabeled_df[['DB_ID', 'DO_ID','disease', 'Label_ID', 'DrugName', 'Context','Section' ]]\n",
    "len(unlabeled_df)"
   ]
  },
  {
   "cell_type": "code",
   "execution_count": 9,
   "id": "1cd691e8",
   "metadata": {},
   "outputs": [
    {
     "data": {
      "text/html": [
       "<div>\n",
       "<style scoped>\n",
       "    .dataframe tbody tr th:only-of-type {\n",
       "        vertical-align: middle;\n",
       "    }\n",
       "\n",
       "    .dataframe tbody tr th {\n",
       "        vertical-align: top;\n",
       "    }\n",
       "\n",
       "    .dataframe thead th {\n",
       "        text-align: right;\n",
       "    }\n",
       "</style>\n",
       "<table border=\"1\" class=\"dataframe\">\n",
       "  <thead>\n",
       "    <tr style=\"text-align: right;\">\n",
       "      <th></th>\n",
       "      <th>DB_ID</th>\n",
       "      <th>DO_ID</th>\n",
       "      <th>disease</th>\n",
       "      <th>Label_ID</th>\n",
       "      <th>DrugName</th>\n",
       "      <th>Context</th>\n",
       "      <th>Section</th>\n",
       "    </tr>\n",
       "  </thead>\n",
       "  <tbody>\n",
       "    <tr>\n",
       "      <th>0</th>\n",
       "      <td>DB00752</td>\n",
       "      <td>DOID_0050773</td>\n",
       "      <td>paraganglioma</td>\n",
       "      <td>9f3ad5aa-8e9d-4512-88a5-15cfd50293f9.xml</td>\n",
       "      <td>TRANYLCYPROMINE</td>\n",
       "      <td>concomitant use or use in rapid succession wit...</td>\n",
       "      <td>Contraindication</td>\n",
       "    </tr>\n",
       "    <tr>\n",
       "      <th>1</th>\n",
       "      <td>DB00752</td>\n",
       "      <td>DOID_225</td>\n",
       "      <td>syndrome</td>\n",
       "      <td>9f3ad5aa-8e9d-4512-88a5-15cfd50293f9.xml</td>\n",
       "      <td>TRANYLCYPROMINE</td>\n",
       "      <td>concomitant use or use in rapid succession wit...</td>\n",
       "      <td>Contraindication</td>\n",
       "    </tr>\n",
       "    <tr>\n",
       "      <th>2</th>\n",
       "      <td>DB00752</td>\n",
       "      <td>DOID_4481</td>\n",
       "      <td>hay fever</td>\n",
       "      <td>9f3ad5aa-8e9d-4512-88a5-15cfd50293f9.xml</td>\n",
       "      <td>TRANYLCYPROMINE</td>\n",
       "      <td>concomitant use or use in rapid succession wit...</td>\n",
       "      <td>Contraindication</td>\n",
       "    </tr>\n",
       "    <tr>\n",
       "      <th>3</th>\n",
       "      <td>DB00752</td>\n",
       "      <td>DOID_0050773</td>\n",
       "      <td>paraganglioma</td>\n",
       "      <td>4de045ff-f76c-48dd-9e5f-4a4f859eec8f.xml</td>\n",
       "      <td>TRANYLCYPROMINE</td>\n",
       "      <td>concomitant use or use in rapid succession wit...</td>\n",
       "      <td>Contraindication</td>\n",
       "    </tr>\n",
       "    <tr>\n",
       "      <th>4</th>\n",
       "      <td>DB00752</td>\n",
       "      <td>DOID_225</td>\n",
       "      <td>syndrome</td>\n",
       "      <td>4de045ff-f76c-48dd-9e5f-4a4f859eec8f.xml</td>\n",
       "      <td>TRANYLCYPROMINE</td>\n",
       "      <td>concomitant use or use in rapid succession wit...</td>\n",
       "      <td>Contraindication</td>\n",
       "    </tr>\n",
       "  </tbody>\n",
       "</table>\n",
       "</div>"
      ],
      "text/plain": [
       "     DB_ID         DO_ID        disease  \\\n",
       "0  DB00752  DOID_0050773  paraganglioma   \n",
       "1  DB00752      DOID_225       syndrome   \n",
       "2  DB00752     DOID_4481      hay fever   \n",
       "3  DB00752  DOID_0050773  paraganglioma   \n",
       "4  DB00752      DOID_225       syndrome   \n",
       "\n",
       "                                   Label_ID         DrugName  \\\n",
       "0  9f3ad5aa-8e9d-4512-88a5-15cfd50293f9.xml  TRANYLCYPROMINE   \n",
       "1  9f3ad5aa-8e9d-4512-88a5-15cfd50293f9.xml  TRANYLCYPROMINE   \n",
       "2  9f3ad5aa-8e9d-4512-88a5-15cfd50293f9.xml  TRANYLCYPROMINE   \n",
       "3  4de045ff-f76c-48dd-9e5f-4a4f859eec8f.xml  TRANYLCYPROMINE   \n",
       "4  4de045ff-f76c-48dd-9e5f-4a4f859eec8f.xml  TRANYLCYPROMINE   \n",
       "\n",
       "                                             Context           Section  \n",
       "0  concomitant use or use in rapid succession wit...  Contraindication  \n",
       "1  concomitant use or use in rapid succession wit...  Contraindication  \n",
       "2  concomitant use or use in rapid succession wit...  Contraindication  \n",
       "3  concomitant use or use in rapid succession wit...  Contraindication  \n",
       "4  concomitant use or use in rapid succession wit...  Contraindication  "
      ]
     },
     "execution_count": 9,
     "metadata": {},
     "output_type": "execute_result"
    }
   ],
   "source": [
    "unlabeled_df.head()"
   ]
  },
  {
   "cell_type": "code",
   "execution_count": 10,
   "id": "7d400010",
   "metadata": {},
   "outputs": [
    {
     "data": {
      "text/plain": [
       "39810"
      ]
     },
     "execution_count": 10,
     "metadata": {},
     "output_type": "execute_result"
    }
   ],
   "source": [
    "unlabeled_df= unlabeled_df.rename(columns={'DrugName':'Drug_name'})\n",
    "unlabeled_df.drop_duplicates(subset=['Context','DO_ID'], keep='first', inplace=True)\n",
    "len(unlabeled_df)"
   ]
  },
  {
   "cell_type": "code",
   "execution_count": 11,
   "id": "28ddf6f6",
   "metadata": {},
   "outputs": [
    {
     "data": {
      "text/plain": [
       "Index(['DB_ID', 'DO_ID', 'disease', 'Label_ID', 'Drug_name', 'Context',\n",
       "       'Section'],\n",
       "      dtype='object')"
      ]
     },
     "execution_count": 11,
     "metadata": {},
     "output_type": "execute_result"
    }
   ],
   "source": [
    "unlabeled_df.columns"
   ]
  },
  {
   "cell_type": "code",
   "execution_count": 12,
   "id": "98712a5a",
   "metadata": {},
   "outputs": [],
   "source": [
    "unlabeled_df.DB_ID= 'http://bio2rdf.org/drugbank:'+unlabeled_df.DB_ID"
   ]
  },
  {
   "cell_type": "code",
   "execution_count": 13,
   "id": "88ffd244",
   "metadata": {},
   "outputs": [],
   "source": [
    "unlabeled_df.DO_ID= 'http://bio2rdf.org/doid:'+unlabeled_df.DO_ID.str[5:]"
   ]
  },
  {
   "cell_type": "markdown",
   "id": "033b64f2",
   "metadata": {},
   "source": [
    "### Dataset labelled by experts to be used as test data"
   ]
  },
  {
   "cell_type": "code",
   "execution_count": 14,
   "id": "670cb141",
   "metadata": {},
   "outputs": [
    {
     "data": {
      "text/html": [
       "<div>\n",
       "<style scoped>\n",
       "    .dataframe tbody tr th:only-of-type {\n",
       "        vertical-align: middle;\n",
       "    }\n",
       "\n",
       "    .dataframe tbody tr th {\n",
       "        vertical-align: top;\n",
       "    }\n",
       "\n",
       "    .dataframe thead th {\n",
       "        text-align: right;\n",
       "    }\n",
       "</style>\n",
       "<table border=\"1\" class=\"dataframe\">\n",
       "  <thead>\n",
       "    <tr style=\"text-align: right;\">\n",
       "      <th></th>\n",
       "      <th>#</th>\n",
       "      <th>context</th>\n",
       "      <th>disease_name</th>\n",
       "      <th>drug_name</th>\n",
       "      <th>workers_answers</th>\n",
       "      <th>medical_expert1</th>\n",
       "      <th>medical_expert2</th>\n",
       "      <th>medical_expert3</th>\n",
       "      <th>do_id</th>\n",
       "      <th>drug_brand_name</th>\n",
       "      <th>drug_id</th>\n",
       "      <th>label_id</th>\n",
       "      <th>sheet</th>\n",
       "      <th>expert_consensus</th>\n",
       "      <th>inter_agree_experts</th>\n",
       "      <th>medical_expert4</th>\n",
       "      <th>Final \\n(closest option)</th>\n",
       "    </tr>\n",
       "  </thead>\n",
       "  <tbody>\n",
       "    <tr>\n",
       "      <th>36</th>\n",
       "      <td>42.0</td>\n",
       "      <td>ENTYVIO is an integrin receptor antagonist ind...</td>\n",
       "      <td>ULCERATIVE COLITIS</td>\n",
       "      <td>VEDOLIZUMAB</td>\n",
       "      <td>indication_treatment\\nindication_treatment\\nin...</td>\n",
       "      <td>Indication: Treatment</td>\n",
       "      <td>Indication: Treatment</td>\n",
       "      <td>IDK</td>\n",
       "      <td>DOID_8577</td>\n",
       "      <td>NaN</td>\n",
       "      <td>DB09033</td>\n",
       "      <td>0af85cb3-13fa-44ab-bda2-ad0219abd933.xml</td>\n",
       "      <td>Indication_treatment</td>\n",
       "      <td>Indication: Treatment</td>\n",
       "      <td>2</td>\n",
       "      <td>Indication: Treatment</td>\n",
       "      <td>NaN</td>\n",
       "    </tr>\n",
       "  </tbody>\n",
       "</table>\n",
       "</div>"
      ],
      "text/plain": [
       "       #                                            context  \\\n",
       "36  42.0  ENTYVIO is an integrin receptor antagonist ind...   \n",
       "\n",
       "          disease_name    drug_name  \\\n",
       "36  ULCERATIVE COLITIS  VEDOLIZUMAB   \n",
       "\n",
       "                                      workers_answers        medical_expert1  \\\n",
       "36  indication_treatment\\nindication_treatment\\nin...  Indication: Treatment   \n",
       "\n",
       "          medical_expert2 medical_expert3      do_id drug_brand_name  drug_id  \\\n",
       "36  Indication: Treatment             IDK  DOID_8577             NaN  DB09033   \n",
       "\n",
       "                                    label_id                 sheet  \\\n",
       "36  0af85cb3-13fa-44ab-bda2-ad0219abd933.xml  Indication_treatment   \n",
       "\n",
       "         expert_consensus  inter_agree_experts        medical_expert4  \\\n",
       "36  Indication: Treatment                    2  Indication: Treatment   \n",
       "\n",
       "   Final \\n(closest option)  \n",
       "36                      NaN  "
      ]
     },
     "execution_count": 14,
     "metadata": {},
     "output_type": "execute_result"
    }
   ],
   "source": [
    "experts = pd.read_csv('../data/input/expert_resolved_all.csv')\n",
    "experts.sample()"
   ]
  },
  {
   "cell_type": "code",
   "execution_count": 15,
   "id": "339e26cf",
   "metadata": {},
   "outputs": [],
   "source": [
    "experts = experts.rename(columns={'drug_name':'Drug_name',\n",
    "                        'disease_name':'disease', 'context':'Context',\n",
    "                        'do_id':'DO_ID','drug_id':'DB_ID',\n",
    "                        'label_id':'Label_ID', 'expert_consensus':'relation'})\n",
    "#experts[['DB_ID', 'DO_ID','disease', 'Label_ID', 'Set_ID','relation', 'Drug_name', 'Context','Section']]\n"
   ]
  },
  {
   "cell_type": "markdown",
   "id": "a789c781",
   "metadata": {},
   "source": [
    "### Defininig a rule as a SPARQL query\n",
    "\n",
    "If drug ?a treats disease ?f and disease ?f and ?b, then drug ?a can treat disease ?b.\n",
    "```\n",
    "Rule : ?a CtD ?f ^ ?f DrD ?b => ?a CtD ?b \n",
    "```\n",
    "\n",
    "```\n",
    "SELECT DISTINCT ?a ?b where \n",
    "{ \n",
    "    ?a <http://bio2rdf.org/hetionet:CtD> ?f .\n",
    "    ?f <http://bio2rdf.org/hetionet:DrD> ?b .\n",
    "    MINUS { ?a  <http://bio2rdf.org/hetionet:CtD>  ?b .\n",
    "}\n",
    "\n",
    "```"
   ]
  },
  {
   "cell_type": "code",
   "execution_count": 18,
   "id": "de1c33db",
   "metadata": {},
   "outputs": [
    {
     "data": {
      "text/plain": [
       "'\\nMINUS { ?a  <http://bio2rdf.org/hetionet:CtD>  ?b .}\\n    }'"
      ]
     },
     "execution_count": 18,
     "metadata": {},
     "output_type": "execute_result"
    }
   ],
   "source": [
    "query='SELECT DISTINCT ?a ?b where { ?a <http://bio2rdf.org/hetionet:CtD> ?f .'\n",
    "' \\n ?f <http://bio2rdf.org/hetionet:DrD> ?b . '\n",
    "'\\nMINUS { ?a  <http://bio2rdf.org/hetionet:CtD>  ?b .}\\n    }'"
   ]
  },
  {
   "cell_type": "code",
   "execution_count": 19,
   "id": "602b3370",
   "metadata": {},
   "outputs": [],
   "source": [
    "query='SELECT DISTINCT ?a ?b where { ?a <http://bio2rdf.org/hetionet:CtD> ?f . \\n ?f <http://bio2rdf.org/hetionet:DrD> ?b . \\n    }'"
   ]
  },
  {
   "cell_type": "code",
   "execution_count": 20,
   "id": "4195c44f",
   "metadata": {},
   "outputs": [],
   "source": [
    "g= Graph()"
   ]
  },
  {
   "cell_type": "code",
   "execution_count": null,
   "id": "224f802a",
   "metadata": {},
   "outputs": [],
   "source": [
    "!gunzip ../data/rdf/hetionet.ttl.gz"
   ]
  },
  {
   "cell_type": "code",
   "execution_count": 24,
   "id": "18fa622e",
   "metadata": {},
   "outputs": [
    {
     "data": {
      "text/plain": [
       "<Graph identifier=N2a2689ad18f54eb4a10196c285bf3474 (<class 'rdflib.graph.Graph'>)>"
      ]
     },
     "execution_count": 24,
     "metadata": {},
     "output_type": "execute_result"
    }
   ],
   "source": [
    "## We used Hetionet KG: https://het.io/about/ \n",
    "g.parse('../data/rdf/hetionet.ttl',format=\"ttl\")"
   ]
  },
  {
   "cell_type": "code",
   "execution_count": 25,
   "id": "7f666a6c",
   "metadata": {},
   "outputs": [],
   "source": [
    "qres= g.query(query)"
   ]
  },
  {
   "cell_type": "code",
   "execution_count": 28,
   "id": "1a865a3b",
   "metadata": {},
   "outputs": [
    {
     "name": "stdout",
     "output_type": "stream",
     "text": [
      "http://bio2rdf.org/drugbank:DB05389 http://bio2rdf.org/doid:3083\n"
     ]
    }
   ],
   "source": [
    "for row in qres:\n",
    "    print (row['a'], row['b'])\n",
    "    break"
   ]
  },
  {
   "cell_type": "markdown",
   "id": "796b33be",
   "metadata": {},
   "source": [
    "### Define KG Rules as Labeling Functions in Snorkel\n",
    "Snorkel is data labeling framework where multiple heuristic and programatic rules can be combined to assign a label to training data "
   ]
  },
  {
   "cell_type": "code",
   "execution_count": 29,
   "id": "35423bd9",
   "metadata": {},
   "outputs": [],
   "source": [
    "# Labels to be assigned \n",
    "ABSTAIN = -1\n",
    "INDICATION = 1\n"
   ]
  },
  {
   "cell_type": "code",
   "execution_count": 30,
   "id": "d9881e96",
   "metadata": {},
   "outputs": [],
   "source": [
    "from snorkel.labeling import labeling_function\n",
    "\n",
    "\n",
    "@labeling_function()\n",
    "def check_rule(x):\n",
    "    drug= x.DB_ID\n",
    "    disease = x.DO_ID\n",
    "    for row in qres:\n",
    "        #print (row['a'], row['b'], drug, disease)\n",
    "        if str(row['a']) == drug and str(row['b']) == disease:\n",
    "            print (row['a'], row['b'])\n",
    "            return INDICATION\n",
    "    else:\n",
    "        return ABSTAIN"
   ]
  },
  {
   "cell_type": "markdown",
   "id": "4882773d",
   "metadata": {},
   "source": [
    "### Define heuristics as Labeling Functions in Snorkel\n",
    "One common approach to define a rule to label text data is use of phrase, we define a list of phrases to look for in the text\n"
   ]
  },
  {
   "cell_type": "code",
   "execution_count": 31,
   "id": "662ab144",
   "metadata": {},
   "outputs": [],
   "source": [
    "treatment_phrases= [\" indicated for the treatment of\",\n",
    "\" indicated in the management of\",\n",
    "\" indicated for the management of\",\n",
    "\"for the management of\",\n",
    "\"management of\",\n",
    "\" indicated for the maintenance of remission\", \n",
    "\"or the treatment of\",\n",
    "\"in the treatment of\",\n",
    "\" indicated as\",\n",
    "\" indicated in\",\n",
    "\"be effective\",\n",
    "\"active treatment of\",\n",
    "\" indicated for\",\n",
    "\"treatment of\",\n",
    "\" indicated as an adjunct\",\n",
    "\" indicated for use in the treatment of\", \n",
    "\" indicated for the intermittent treatment\", \n",
    "\" indicated to reduce the rate of\",\n",
    "\" indicated for the rapid control\",\n",
    "\" indicated for the control\",\n",
    "\"reduce the risk of\",\n",
    "\" indicated as adjunctive treatment\",\n",
    "\"for the treatment of\"]"
   ]
  },
  {
   "cell_type": "code",
   "execution_count": 32,
   "id": "d613e163",
   "metadata": {},
   "outputs": [],
   "source": [
    "@labeling_function()\n",
    "def check_phrase(x):\n",
    "    if str(x.Context) !='nan':\n",
    "        text = x.Context.lower()\n",
    "        #print ('text')\n",
    "        for phr in treatment_phrases:\n",
    "            if phr in text:\n",
    "                return INDICATION\n",
    "    return ABSTAIN        "
   ]
  },
  {
   "cell_type": "code",
   "execution_count": 33,
   "id": "28365d34",
   "metadata": {},
   "outputs": [
    {
     "name": "stderr",
     "output_type": "stream",
     "text": [
      " 32%|███▏      | 32/100 [00:01<00:02, 27.45it/s]"
     ]
    },
    {
     "name": "stdout",
     "output_type": "stream",
     "text": [
      "http://bio2rdf.org/drugbank:DB01234 http://bio2rdf.org/doid:9074\n"
     ]
    },
    {
     "name": "stderr",
     "output_type": "stream",
     "text": [
      "100%|██████████| 100/100 [00:03<00:00, 25.10it/s]\n"
     ]
    }
   ],
   "source": [
    "from snorkel.labeling import PandasLFApplier\n",
    "\n",
    "lfs = [check_rule, check_phrase]\n",
    "\n",
    "applier = PandasLFApplier(lfs=lfs)\n",
    "L_train = applier.apply(df=unlabeled_df.sample(100))"
   ]
  },
  {
   "cell_type": "code",
   "execution_count": 34,
   "id": "2d05e3af",
   "metadata": {},
   "outputs": [
    {
     "name": "stdout",
     "output_type": "stream",
     "text": [
      "check_out coverage: 1.0%\n",
      "check coverage: 79.0%\n"
     ]
    }
   ],
   "source": [
    "coverage_check_out, coverage_check = (L_train != ABSTAIN).mean(axis=0)\n",
    "print(f\"check_out coverage: {coverage_check_out * 100:.1f}%\")\n",
    "print(f\"check coverage: {coverage_check * 100:.1f}%\")"
   ]
  },
  {
   "cell_type": "markdown",
   "id": "44a6ee77",
   "metadata": {},
   "source": [
    "### Defining labeling function for each rule"
   ]
  },
  {
   "cell_type": "code",
   "execution_count": 35,
   "id": "71076bf1",
   "metadata": {},
   "outputs": [
    {
     "data": {
      "text/html": [
       "<div>\n",
       "<style scoped>\n",
       "    .dataframe tbody tr th:only-of-type {\n",
       "        vertical-align: middle;\n",
       "    }\n",
       "\n",
       "    .dataframe tbody tr th {\n",
       "        vertical-align: top;\n",
       "    }\n",
       "\n",
       "    .dataframe thead th {\n",
       "        text-align: right;\n",
       "    }\n",
       "</style>\n",
       "<table border=\"1\" class=\"dataframe\">\n",
       "  <thead>\n",
       "    <tr style=\"text-align: right;\">\n",
       "      <th></th>\n",
       "      <th>Rule</th>\n",
       "      <th>Head Coverage</th>\n",
       "      <th>Std Confidence</th>\n",
       "      <th>PCA Confidence</th>\n",
       "      <th>Positive Examples</th>\n",
       "      <th>Body size</th>\n",
       "      <th>PCA Body size</th>\n",
       "      <th>Functional variable</th>\n",
       "      <th>Std. Lower Bound</th>\n",
       "      <th>PCA Lower Bound</th>\n",
       "      <th>PCA Conf estimation</th>\n",
       "    </tr>\n",
       "  </thead>\n",
       "  <tbody>\n",
       "    <tr>\n",
       "      <th>0</th>\n",
       "      <td>?a  CpD  ?f  ?f  DrD  ?b   =&gt; ?a  CpD  ?b</td>\n",
       "      <td>0.235897</td>\n",
       "      <td>0.105747</td>\n",
       "      <td>0.105747</td>\n",
       "      <td>92</td>\n",
       "      <td>870</td>\n",
       "      <td>870</td>\n",
       "      <td>?a</td>\n",
       "      <td>0.0</td>\n",
       "      <td>0.0</td>\n",
       "      <td>0.0</td>\n",
       "    </tr>\n",
       "    <tr>\n",
       "      <th>1</th>\n",
       "      <td>?f  CpD  ?b  ?a  CrC  ?f   =&gt; ?a  CpD  ?b</td>\n",
       "      <td>0.338462</td>\n",
       "      <td>0.080097</td>\n",
       "      <td>0.279070</td>\n",
       "      <td>132</td>\n",
       "      <td>1648</td>\n",
       "      <td>473</td>\n",
       "      <td>?a</td>\n",
       "      <td>0.0</td>\n",
       "      <td>0.0</td>\n",
       "      <td>0.0</td>\n",
       "    </tr>\n",
       "    <tr>\n",
       "      <th>2</th>\n",
       "      <td>?e  CpD  ?b  ?e  CrC  ?a   =&gt; ?a  CpD  ?b</td>\n",
       "      <td>0.317949</td>\n",
       "      <td>0.067982</td>\n",
       "      <td>0.227106</td>\n",
       "      <td>124</td>\n",
       "      <td>1824</td>\n",
       "      <td>546</td>\n",
       "      <td>?a</td>\n",
       "      <td>0.0</td>\n",
       "      <td>0.0</td>\n",
       "      <td>0.0</td>\n",
       "    </tr>\n",
       "    <tr>\n",
       "      <th>3</th>\n",
       "      <td>?a  DrD  ?f  ?b  DrD  ?f   =&gt; ?a  DrD  ?b</td>\n",
       "      <td>0.644567</td>\n",
       "      <td>0.150215</td>\n",
       "      <td>0.150215</td>\n",
       "      <td>350</td>\n",
       "      <td>2330</td>\n",
       "      <td>2330</td>\n",
       "      <td>?a</td>\n",
       "      <td>0.0</td>\n",
       "      <td>0.0</td>\n",
       "      <td>0.0</td>\n",
       "    </tr>\n",
       "    <tr>\n",
       "      <th>4</th>\n",
       "      <td>?f  DrD  ?b  ?a  DrD  ?f   =&gt; ?a  DrD  ?b</td>\n",
       "      <td>0.631676</td>\n",
       "      <td>0.286789</td>\n",
       "      <td>0.286789</td>\n",
       "      <td>343</td>\n",
       "      <td>1196</td>\n",
       "      <td>1196</td>\n",
       "      <td>?a</td>\n",
       "      <td>0.0</td>\n",
       "      <td>0.0</td>\n",
       "      <td>0.0</td>\n",
       "    </tr>\n",
       "  </tbody>\n",
       "</table>\n",
       "</div>"
      ],
      "text/plain": [
       "                                        Rule  Head Coverage  Std Confidence  \\\n",
       "0  ?a  CpD  ?f  ?f  DrD  ?b   => ?a  CpD  ?b       0.235897        0.105747   \n",
       "1  ?f  CpD  ?b  ?a  CrC  ?f   => ?a  CpD  ?b       0.338462        0.080097   \n",
       "2  ?e  CpD  ?b  ?e  CrC  ?a   => ?a  CpD  ?b       0.317949        0.067982   \n",
       "3  ?a  DrD  ?f  ?b  DrD  ?f   => ?a  DrD  ?b       0.644567        0.150215   \n",
       "4  ?f  DrD  ?b  ?a  DrD  ?f   => ?a  DrD  ?b       0.631676        0.286789   \n",
       "\n",
       "   PCA Confidence  Positive Examples  Body size  PCA Body size  \\\n",
       "0        0.105747                 92        870            870   \n",
       "1        0.279070                132       1648            473   \n",
       "2        0.227106                124       1824            546   \n",
       "3        0.150215                350       2330           2330   \n",
       "4        0.286789                343       1196           1196   \n",
       "\n",
       "  Functional variable  Std. Lower Bound  PCA Lower Bound  PCA Conf estimation  \n",
       "0                  ?a               0.0              0.0                  0.0  \n",
       "1                  ?a               0.0              0.0                  0.0  \n",
       "2                  ?a               0.0              0.0                  0.0  \n",
       "3                  ?a               0.0              0.0                  0.0  \n",
       "4                  ?a               0.0              0.0                  0.0  "
      ]
     },
     "execution_count": 35,
     "metadata": {},
     "output_type": "execute_result"
    }
   ],
   "source": [
    "# This table is the output of the rule mining tool AIME+ using Hetnet KG\n",
    "df_rules = pd.read_csv('../data/input/rules-hetionet-edges-20-04-2020.tsv',sep='\\t')\n",
    "df_rules.head()"
   ]
  },
  {
   "cell_type": "markdown",
   "id": "d56694c1",
   "metadata": {},
   "source": [
    "### Extract the rules that are related to Compound and Disease (CtD relation)"
   ]
  },
  {
   "cell_type": "code",
   "execution_count": 36,
   "id": "6e02c2ec",
   "metadata": {},
   "outputs": [
    {
     "name": "stdout",
     "output_type": "stream",
     "text": [
      "CtD\n",
      "?a  <http://bio2rdf.org/hetionet:CtD>  ?f  ?f  <http://bio2rdf.org/hetionet:DrD>  ?b    ?a  <http://bio2rdf.org/hetionet:CtD>  ?b\n",
      "CtD\n",
      "?a  <http://bio2rdf.org/hetionet:CtD>  ?f  ?b  <http://bio2rdf.org/hetionet:DrD>  ?f    ?a  <http://bio2rdf.org/hetionet:CtD>  ?b\n",
      "CtD\n",
      "?a  <http://bio2rdf.org/hetionet:CrC>  ?f  ?f  <http://bio2rdf.org/hetionet:CtD>  ?b    ?a  <http://bio2rdf.org/hetionet:CtD>  ?b\n",
      "CtD\n",
      "?e  <http://bio2rdf.org/hetionet:CrC>  ?a  ?e  <http://bio2rdf.org/hetionet:CtD>  ?b    ?a  <http://bio2rdf.org/hetionet:CtD>  ?b\n"
     ]
    }
   ],
   "source": [
    "rules = []\n",
    "for rule in df_rules.Rule:\n",
    "    #print(rule)\n",
    "    body,head = rule.split(' =>')\n",
    "    \n",
    "    #print(head)\n",
    "    relation = head.split('  ')[1].replace('>','')\n",
    "    if relation == 'CtD':\n",
    "        body = body.replace('CtD','<http://bio2rdf.org/hetionet:CtD>').\\\n",
    "        replace('CrC','<http://bio2rdf.org/hetionet:CrC>').\\\n",
    "        replace('DrD','<http://bio2rdf.org/hetionet:DrD>')\n",
    "        \n",
    "        head = head.replace('CtD','<http://bio2rdf.org/hetionet:CtD>').\\\n",
    "        replace('CrC','<http://bio2rdf.org/hetionet:CrC>').\\\n",
    "        replace('DrD','<http://bio2rdf.org/hetionet:DrD>')\n",
    "        print (relation)\n",
    "        print(body, head)\n",
    "        rules.append({'head':head, 'body':body, 'relation':'CtD'})"
   ]
  },
  {
   "cell_type": "code",
   "execution_count": 37,
   "id": "cdb85c44",
   "metadata": {},
   "outputs": [
    {
     "data": {
      "text/plain": [
       "[{'head': ' ?a  <http://bio2rdf.org/hetionet:CtD>  ?b',\n",
       "  'body': '?a  <http://bio2rdf.org/hetionet:CtD>  ?f  ?f  <http://bio2rdf.org/hetionet:DrD>  ?b  ',\n",
       "  'relation': 'CtD'},\n",
       " {'head': ' ?a  <http://bio2rdf.org/hetionet:CtD>  ?b',\n",
       "  'body': '?a  <http://bio2rdf.org/hetionet:CtD>  ?f  ?b  <http://bio2rdf.org/hetionet:DrD>  ?f  ',\n",
       "  'relation': 'CtD'},\n",
       " {'head': ' ?a  <http://bio2rdf.org/hetionet:CtD>  ?b',\n",
       "  'body': '?a  <http://bio2rdf.org/hetionet:CrC>  ?f  ?f  <http://bio2rdf.org/hetionet:CtD>  ?b  ',\n",
       "  'relation': 'CtD'},\n",
       " {'head': ' ?a  <http://bio2rdf.org/hetionet:CtD>  ?b',\n",
       "  'body': '?e  <http://bio2rdf.org/hetionet:CrC>  ?a  ?e  <http://bio2rdf.org/hetionet:CtD>  ?b  ',\n",
       "  'relation': 'CtD'}]"
      ]
     },
     "execution_count": 37,
     "metadata": {},
     "output_type": "execute_result"
    }
   ],
   "source": [
    "rules"
   ]
  },
  {
   "cell_type": "markdown",
   "id": "a4a828bc",
   "metadata": {},
   "source": [
    "### Convert the rules to SPARQL queries"
   ]
  },
  {
   "cell_type": "code",
   "execution_count": 38,
   "id": "1b43101b",
   "metadata": {},
   "outputs": [],
   "source": [
    "def construct_query_for_rule(rule):\n",
    "    patterns = rule['body'].split('  ')\n",
    "    n_pattern = len(patterns)\n",
    "    triple_pattern = \"\"\"SELECT DISTINCT ?a ?b where { \n",
    "      \n",
    "    \"\"\"\n",
    "    k =3\n",
    "    for i in range(int(n_pattern/k)):\n",
    "        triple_pattern += patterns[i*k] + ' '+patterns[k*i+1] + ' '+patterns[k*i+2] +' . \\n'\n",
    "        #print (triple_pattern)\n",
    "\n",
    "    triple_pattern+= \"MINUS {\"+rule['head']+\" .}\"\n",
    "    triple_pattern+= \"\"\"\n",
    "    }\"\"\"\n",
    "    \n",
    "    return triple_pattern"
   ]
  },
  {
   "cell_type": "code",
   "execution_count": 20,
   "id": "5d49b8a7",
   "metadata": {},
   "outputs": [],
   "source": [
    "sparql0 = construct_query_for_rule(rules[0])\n",
    "sparql0\n",
    "qres0 = g.query(sparql0)"
   ]
  },
  {
   "cell_type": "code",
   "execution_count": 21,
   "id": "aa4a35e1",
   "metadata": {},
   "outputs": [
    {
     "data": {
      "text/plain": [
       "'SELECT DISTINCT ?a ?b where { \\n      \\n    ?a <http://bio2rdf.org/hetionet:CtD> ?f . \\n?b <http://bio2rdf.org/hetionet:DrD> ?f . \\nMINUS { ?a  <http://bio2rdf.org/hetionet:CtD>  ?b .}\\n    }'"
      ]
     },
     "execution_count": 21,
     "metadata": {},
     "output_type": "execute_result"
    }
   ],
   "source": [
    "sparql1 = construct_query_for_rule(rules[1])\n",
    "qres1 = g.query(sparql1)\n",
    "sparql1"
   ]
  },
  {
   "cell_type": "code",
   "execution_count": 22,
   "id": "ad663891",
   "metadata": {},
   "outputs": [
    {
     "data": {
      "text/plain": [
       "'SELECT DISTINCT ?a ?b where { \\n      \\n    ?a <http://bio2rdf.org/hetionet:CrC> ?f . \\n?f <http://bio2rdf.org/hetionet:CtD> ?b . \\nMINUS { ?a  <http://bio2rdf.org/hetionet:CtD>  ?b .}\\n    }'"
      ]
     },
     "execution_count": 22,
     "metadata": {},
     "output_type": "execute_result"
    }
   ],
   "source": [
    "sparql2 = construct_query_for_rule(rules[2])\n",
    "qres2 = g.query(sparql2)\n",
    "sparql2"
   ]
  },
  {
   "cell_type": "code",
   "execution_count": 23,
   "id": "02107f63",
   "metadata": {},
   "outputs": [
    {
     "data": {
      "text/plain": [
       "'SELECT DISTINCT ?a ?b where { \\n      \\n    ?e <http://bio2rdf.org/hetionet:CrC> ?a . \\n?e <http://bio2rdf.org/hetionet:CtD> ?b . \\nMINUS { ?a  <http://bio2rdf.org/hetionet:CtD>  ?b .}\\n    }'"
      ]
     },
     "execution_count": 23,
     "metadata": {},
     "output_type": "execute_result"
    }
   ],
   "source": [
    "sparql3 = construct_query_for_rule(rules[3])\n",
    "qres3 = g.query(sparql3)\n",
    "sparql3"
   ]
  },
  {
   "cell_type": "markdown",
   "id": "e15f5ac1",
   "metadata": {},
   "source": [
    "### Use the SPARQL query results in the labeling fuctions \n",
    "If the SPARQL results defined for a rule contain a drug and disease pair, it means this rule supports the fact that the drug treats the target"
   ]
  },
  {
   "cell_type": "code",
   "execution_count": 59,
   "id": "8a41bd57",
   "metadata": {},
   "outputs": [],
   "source": [
    "@labeling_function()\n",
    "def check_rule0(x):\n",
    "    drug= x.DB_ID\n",
    "    disease = x.DO_ID\n",
    "    for row in qres0:\n",
    "        #print (row['a'], row['b'], drug, disease)\n",
    "        if str(row['a']) == drug and str(row['b']) == disease:\n",
    "            return INDICATION\n",
    "    return ABSTAIN\n",
    "\n",
    "\n",
    "@labeling_function()\n",
    "def check_rule1(x):\n",
    "    drug= x.DB_ID\n",
    "    disease = x.DO_ID\n",
    "    for row in qres1:\n",
    "        #print (row['a'], row['b'], drug, disease)\n",
    "        if str(row['a']) == drug and str(row['b']) == disease:\n",
    "            return INDICATION\n",
    "    return ABSTAIN\n",
    "\n",
    "@labeling_function()\n",
    "def check_rule2(x):\n",
    "    drug= x.DB_ID\n",
    "    disease = x.DO_ID\n",
    "    for row in qres2:\n",
    "        #print (row['a'], row['b'], drug, disease)\n",
    "        if str(row['a']) == drug and str(row['b']) == disease:\n",
    "            return INDICATION\n",
    "    return ABSTAIN\n",
    "\n",
    "@labeling_function()\n",
    "def check_rule3(x):\n",
    "    drug= x.DB_ID\n",
    "    disease = x.DO_ID\n",
    "    for row in qres2:\n",
    "        #print (row['a'], row['b'], drug, disease)\n",
    "        if str(row['a']) == drug and str(row['b']) == disease:\n",
    "            return INDICATION\n",
    "    return ABSTAIN\n",
    "\n",
    "\n",
    "@labeling_function()\n",
    "def check_phrase(x):\n",
    "    if str(x.Context) !='nan':\n",
    "        text = x.Context.lower()\n",
    "        #print ('text')\n",
    "        for phr in treatment_phrases:\n",
    "            if phr in text:\n",
    "                return INDICATION\n",
    "    return ABSTAIN        "
   ]
  },
  {
   "cell_type": "code",
   "execution_count": 80,
   "id": "1aaaf85c",
   "metadata": {},
   "outputs": [],
   "source": [
    "# Use Embedding model in the labeling function  "
   ]
  },
  {
   "cell_type": "code",
   "execution_count": 81,
   "id": "f0563c78",
   "metadata": {},
   "outputs": [],
   "source": [
    "\n",
    "@labeling_function()\n",
    "def check_embedding(x):\n",
    "    return model_transe.predict(x)"
   ]
  },
  {
   "cell_type": "code",
   "execution_count": 60,
   "id": "c52b117e",
   "metadata": {},
   "outputs": [
    {
     "name": "stderr",
     "output_type": "stream",
     "text": [
      "100%|██████████| 500/500 [00:57<00:00,  8.69it/s]\n"
     ]
    }
   ],
   "source": [
    "from snorkel.labeling import PandasLFApplier\n",
    "\n",
    "lfs = [check_rule0, check_rule1, check_rule2, check_rule3, check_phrase]\n",
    "\n",
    "applier = PandasLFApplier(lfs=lfs)\n",
    "L_train = applier.apply(df=unlabeled_df.sample(500))"
   ]
  },
  {
   "cell_type": "code",
   "execution_count": 61,
   "id": "c72843aa",
   "metadata": {},
   "outputs": [
    {
     "name": "stdout",
     "output_type": "stream",
     "text": [
      "check_out coverage: 0.4%\n",
      "check coverage: 0.6%\n",
      "check_out coverage: 0.2%\n",
      "check coverage: 0.2%\n",
      "check coverage: 73.8%\n"
     ]
    }
   ],
   "source": [
    "coverage_check_rule0, coverage_check_rule1, coverage_check_rule2,coverage_check_rule3, coverage_check_phrase = (L_train != ABSTAIN).mean(axis=0)\n",
    "print(f\"check_out coverage: {coverage_check_rule0 * 100:.1f}%\")\n",
    "print(f\"check coverage: {coverage_check_rule1 * 100:.1f}%\")\n",
    "print(f\"check_out coverage: {coverage_check_rule2 * 100:.1f}%\")\n",
    "print(f\"check coverage: {coverage_check_rule3 * 100:.1f}%\")\n",
    "print(f\"check coverage: {coverage_check_phrase * 100:.1f}%\")\n"
   ]
  },
  {
   "cell_type": "code",
   "execution_count": null,
   "id": "872976f1",
   "metadata": {},
   "outputs": [],
   "source": []
  }
 ],
 "metadata": {
  "kernelspec": {
   "display_name": "Python 3",
   "language": "python",
   "name": "python3"
  },
  "language_info": {
   "codemirror_mode": {
    "name": "ipython",
    "version": 3
   },
   "file_extension": ".py",
   "mimetype": "text/x-python",
   "name": "python",
   "nbconvert_exporter": "python",
   "pygments_lexer": "ipython3",
   "version": "3.6.13"
  }
 },
 "nbformat": 4,
 "nbformat_minor": 5
}
