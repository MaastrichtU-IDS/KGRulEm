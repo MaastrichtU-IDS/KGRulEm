{
 "cells": [
  {
   "cell_type": "code",
   "execution_count": 150,
   "metadata": {},
   "outputs": [],
   "source": [
    "import pandas as pd\n",
    "\n",
    "\n",
    "DISPLAY_ALL_TEXT = False\n",
    "\n",
    "pd.set_option(\"display.max_colwidth\", 0 if DISPLAY_ALL_TEXT else 50)"
   ]
  },
  {
   "cell_type": "code",
   "execution_count": 2,
   "metadata": {},
   "outputs": [
    {
     "name": "stdout",
     "output_type": "stream",
     "text": [
      "Requirement already satisfied: rdflib in /opt/conda/lib/python3.7/site-packages (5.0.0)\n",
      "Requirement already satisfied: six in /opt/conda/lib/python3.7/site-packages (from rdflib) (1.14.0)\n",
      "Requirement already satisfied: isodate in /opt/conda/lib/python3.7/site-packages (from rdflib) (0.6.0)\n",
      "Requirement already satisfied: pyparsing in /opt/conda/lib/python3.7/site-packages (from rdflib) (2.4.7)\n",
      "\u001b[33mWARNING: You are using pip version 20.1.1; however, version 21.0.1 is available.\n",
      "You should consider upgrading via the '/opt/conda/bin/python3.7 -m pip install --upgrade pip' command.\u001b[0m\n"
     ]
    }
   ],
   "source": [
    "!pip install rdflib"
   ]
  },
  {
   "cell_type": "code",
   "execution_count": 3,
   "metadata": {},
   "outputs": [],
   "source": [
    "from rdflib import Namespace\n",
    "from rdflib import Graph, URIRef, Literal, RDF, ConjunctiveGraph"
   ]
  },
  {
   "cell_type": "markdown",
   "metadata": {},
   "source": [
    "### Dataset contains text and disease and drug mentions which were extracted from the DailyMed drug lables"
   ]
  },
  {
   "cell_type": "code",
   "execution_count": 4,
   "metadata": {},
   "outputs": [
    {
     "data": {
      "text/plain": [
       "54040"
      ]
     },
     "execution_count": 4,
     "metadata": {},
     "output_type": "execute_result"
    }
   ],
   "source": [
    "\n",
    "unlabeled_df  = pd.read_csv('../data/input/raw_cleaned.csv.zip',  compression='zip')\n",
    "unlabeled_df = unlabeled_df[['DB_ID', 'DO_ID','disease', 'Label_ID', 'DrugName', 'Context','Section' ]]\n",
    "len(unlabeled_df)"
   ]
  },
  {
   "cell_type": "code",
   "execution_count": 5,
   "metadata": {},
   "outputs": [
    {
     "data": {
      "text/html": [
       "<div>\n",
       "<style scoped>\n",
       "    .dataframe tbody tr th:only-of-type {\n",
       "        vertical-align: middle;\n",
       "    }\n",
       "\n",
       "    .dataframe tbody tr th {\n",
       "        vertical-align: top;\n",
       "    }\n",
       "\n",
       "    .dataframe thead th {\n",
       "        text-align: right;\n",
       "    }\n",
       "</style>\n",
       "<table border=\"1\" class=\"dataframe\">\n",
       "  <thead>\n",
       "    <tr style=\"text-align: right;\">\n",
       "      <th></th>\n",
       "      <th>DB_ID</th>\n",
       "      <th>DO_ID</th>\n",
       "      <th>disease</th>\n",
       "      <th>Label_ID</th>\n",
       "      <th>DrugName</th>\n",
       "      <th>Context</th>\n",
       "      <th>Section</th>\n",
       "    </tr>\n",
       "  </thead>\n",
       "  <tbody>\n",
       "    <tr>\n",
       "      <th>0</th>\n",
       "      <td>DB00752</td>\n",
       "      <td>DOID_0050773</td>\n",
       "      <td>paraganglioma</td>\n",
       "      <td>9f3ad5aa-8e9d-4512-88a5-15cfd50293f9.xml</td>\n",
       "      <td>TRANYLCYPROMINE</td>\n",
       "      <td>concomitant use or use in rapid succession wit...</td>\n",
       "      <td>Contraindication</td>\n",
       "    </tr>\n",
       "    <tr>\n",
       "      <th>1</th>\n",
       "      <td>DB00752</td>\n",
       "      <td>DOID_225</td>\n",
       "      <td>syndrome</td>\n",
       "      <td>9f3ad5aa-8e9d-4512-88a5-15cfd50293f9.xml</td>\n",
       "      <td>TRANYLCYPROMINE</td>\n",
       "      <td>concomitant use or use in rapid succession wit...</td>\n",
       "      <td>Contraindication</td>\n",
       "    </tr>\n",
       "    <tr>\n",
       "      <th>2</th>\n",
       "      <td>DB00752</td>\n",
       "      <td>DOID_4481</td>\n",
       "      <td>hay fever</td>\n",
       "      <td>9f3ad5aa-8e9d-4512-88a5-15cfd50293f9.xml</td>\n",
       "      <td>TRANYLCYPROMINE</td>\n",
       "      <td>concomitant use or use in rapid succession wit...</td>\n",
       "      <td>Contraindication</td>\n",
       "    </tr>\n",
       "    <tr>\n",
       "      <th>3</th>\n",
       "      <td>DB00752</td>\n",
       "      <td>DOID_0050773</td>\n",
       "      <td>paraganglioma</td>\n",
       "      <td>4de045ff-f76c-48dd-9e5f-4a4f859eec8f.xml</td>\n",
       "      <td>TRANYLCYPROMINE</td>\n",
       "      <td>concomitant use or use in rapid succession wit...</td>\n",
       "      <td>Contraindication</td>\n",
       "    </tr>\n",
       "    <tr>\n",
       "      <th>4</th>\n",
       "      <td>DB00752</td>\n",
       "      <td>DOID_225</td>\n",
       "      <td>syndrome</td>\n",
       "      <td>4de045ff-f76c-48dd-9e5f-4a4f859eec8f.xml</td>\n",
       "      <td>TRANYLCYPROMINE</td>\n",
       "      <td>concomitant use or use in rapid succession wit...</td>\n",
       "      <td>Contraindication</td>\n",
       "    </tr>\n",
       "  </tbody>\n",
       "</table>\n",
       "</div>"
      ],
      "text/plain": [
       "     DB_ID         DO_ID        disease  \\\n",
       "0  DB00752  DOID_0050773  paraganglioma   \n",
       "1  DB00752      DOID_225       syndrome   \n",
       "2  DB00752     DOID_4481      hay fever   \n",
       "3  DB00752  DOID_0050773  paraganglioma   \n",
       "4  DB00752      DOID_225       syndrome   \n",
       "\n",
       "                                   Label_ID         DrugName  \\\n",
       "0  9f3ad5aa-8e9d-4512-88a5-15cfd50293f9.xml  TRANYLCYPROMINE   \n",
       "1  9f3ad5aa-8e9d-4512-88a5-15cfd50293f9.xml  TRANYLCYPROMINE   \n",
       "2  9f3ad5aa-8e9d-4512-88a5-15cfd50293f9.xml  TRANYLCYPROMINE   \n",
       "3  4de045ff-f76c-48dd-9e5f-4a4f859eec8f.xml  TRANYLCYPROMINE   \n",
       "4  4de045ff-f76c-48dd-9e5f-4a4f859eec8f.xml  TRANYLCYPROMINE   \n",
       "\n",
       "                                             Context           Section  \n",
       "0  concomitant use or use in rapid succession wit...  Contraindication  \n",
       "1  concomitant use or use in rapid succession wit...  Contraindication  \n",
       "2  concomitant use or use in rapid succession wit...  Contraindication  \n",
       "3  concomitant use or use in rapid succession wit...  Contraindication  \n",
       "4  concomitant use or use in rapid succession wit...  Contraindication  "
      ]
     },
     "execution_count": 5,
     "metadata": {},
     "output_type": "execute_result"
    }
   ],
   "source": [
    "unlabeled_df.head()"
   ]
  },
  {
   "cell_type": "code",
   "execution_count": 6,
   "metadata": {},
   "outputs": [
    {
     "data": {
      "text/plain": [
       "39810"
      ]
     },
     "execution_count": 6,
     "metadata": {},
     "output_type": "execute_result"
    }
   ],
   "source": [
    "unlabeled_df= unlabeled_df.rename(columns={'DrugName':'Drug_name'})\n",
    "unlabeled_df.drop_duplicates(subset=['Context','DO_ID'], keep='first', inplace=True)\n",
    "len(unlabeled_df)"
   ]
  },
  {
   "cell_type": "code",
   "execution_count": 7,
   "metadata": {},
   "outputs": [
    {
     "data": {
      "text/plain": [
       "Index(['DB_ID', 'DO_ID', 'disease', 'Label_ID', 'Drug_name', 'Context',\n",
       "       'Section'],\n",
       "      dtype='object')"
      ]
     },
     "execution_count": 7,
     "metadata": {},
     "output_type": "execute_result"
    }
   ],
   "source": [
    "unlabeled_df.columns"
   ]
  },
  {
   "cell_type": "code",
   "execution_count": 8,
   "metadata": {},
   "outputs": [],
   "source": [
    "unlabeled_df.DB_ID= 'http://bio2rdf.org/drugbank:'+unlabeled_df.DB_ID"
   ]
  },
  {
   "cell_type": "code",
   "execution_count": 9,
   "metadata": {},
   "outputs": [],
   "source": [
    "unlabeled_df.DO_ID= 'http://bio2rdf.org/doid:'+unlabeled_df.DO_ID.str[5:]"
   ]
  },
  {
   "cell_type": "markdown",
   "metadata": {},
   "source": [
    "### Dataset labelled by experts to be used as test data"
   ]
  },
  {
   "cell_type": "code",
   "execution_count": 10,
   "metadata": {},
   "outputs": [
    {
     "data": {
      "text/html": [
       "<div>\n",
       "<style scoped>\n",
       "    .dataframe tbody tr th:only-of-type {\n",
       "        vertical-align: middle;\n",
       "    }\n",
       "\n",
       "    .dataframe tbody tr th {\n",
       "        vertical-align: top;\n",
       "    }\n",
       "\n",
       "    .dataframe thead th {\n",
       "        text-align: right;\n",
       "    }\n",
       "</style>\n",
       "<table border=\"1\" class=\"dataframe\">\n",
       "  <thead>\n",
       "    <tr style=\"text-align: right;\">\n",
       "      <th></th>\n",
       "      <th>#</th>\n",
       "      <th>context</th>\n",
       "      <th>disease_name</th>\n",
       "      <th>drug_name</th>\n",
       "      <th>workers_answers</th>\n",
       "      <th>medical_expert1</th>\n",
       "      <th>medical_expert2</th>\n",
       "      <th>medical_expert3</th>\n",
       "      <th>do_id</th>\n",
       "      <th>drug_brand_name</th>\n",
       "      <th>drug_id</th>\n",
       "      <th>label_id</th>\n",
       "      <th>sheet</th>\n",
       "      <th>expert_consensus</th>\n",
       "      <th>inter_agree_experts</th>\n",
       "      <th>medical_expert4</th>\n",
       "      <th>Final \\n(closest option)</th>\n",
       "    </tr>\n",
       "  </thead>\n",
       "  <tbody>\n",
       "    <tr>\n",
       "      <th>23</th>\n",
       "      <td>26.0</td>\n",
       "      <td>Hydrochlorothiazide Tablets are indicated as a...</td>\n",
       "      <td>HYPERTENSION</td>\n",
       "      <td>HYDROCHLOROTHIAZIDE</td>\n",
       "      <td>indication_treatment\\nindication_treatment\\nin...</td>\n",
       "      <td>Indication: Treatment</td>\n",
       "      <td>Indication: Treatment</td>\n",
       "      <td>IDK</td>\n",
       "      <td>DOID_10763</td>\n",
       "      <td>NaN</td>\n",
       "      <td>DB00999</td>\n",
       "      <td>414a7bf2-7435-0d18-e054-00144ff8d46c.xml</td>\n",
       "      <td>Indication_treatment</td>\n",
       "      <td>Indication: Treatment</td>\n",
       "      <td>2</td>\n",
       "      <td>Indication: Treatment</td>\n",
       "      <td>NaN</td>\n",
       "    </tr>\n",
       "  </tbody>\n",
       "</table>\n",
       "</div>"
      ],
      "text/plain": [
       "       #                                            context  disease_name  \\\n",
       "23  26.0  Hydrochlorothiazide Tablets are indicated as a...  HYPERTENSION   \n",
       "\n",
       "              drug_name                                    workers_answers  \\\n",
       "23  HYDROCHLOROTHIAZIDE  indication_treatment\\nindication_treatment\\nin...   \n",
       "\n",
       "          medical_expert1        medical_expert2 medical_expert3       do_id  \\\n",
       "23  Indication: Treatment  Indication: Treatment             IDK  DOID_10763   \n",
       "\n",
       "   drug_brand_name  drug_id                                  label_id  \\\n",
       "23             NaN  DB00999  414a7bf2-7435-0d18-e054-00144ff8d46c.xml   \n",
       "\n",
       "                   sheet       expert_consensus  inter_agree_experts  \\\n",
       "23  Indication_treatment  Indication: Treatment                    2   \n",
       "\n",
       "          medical_expert4 Final \\n(closest option)  \n",
       "23  Indication: Treatment                      NaN  "
      ]
     },
     "execution_count": 10,
     "metadata": {},
     "output_type": "execute_result"
    }
   ],
   "source": [
    "experts = pd.read_csv('../data/input/expert_resolved_all.csv')\n",
    "experts.sample()"
   ]
  },
  {
   "cell_type": "code",
   "execution_count": 11,
   "metadata": {},
   "outputs": [],
   "source": [
    "experts = experts.rename(columns={'drug_name':'Drug_name',\n",
    "                        'disease_name':'disease', 'context':'Context',\n",
    "                        'do_id':'DO_ID','drug_id':'DB_ID',\n",
    "                        'label_id':'Label_ID', 'expert_consensus':'relation'})\n",
    "#experts[['DB_ID', 'DO_ID','disease', 'Label_ID', 'Set_ID','relation', 'Drug_name', 'Context','Section']]\n"
   ]
  },
  {
   "cell_type": "markdown",
   "metadata": {},
   "source": [
    "### Defininig a rule as a SPARQL query\n",
    "\n",
    "If drug ?a treats disease ?f and disease ?f and ?b, then drug ?a can treat disease ?b.\n",
    "```\n",
    "Rule : ?a CtD ?f ^ ?f DrD ?b => ?a CtD ?b \n",
    "```\n",
    "\n",
    "```\n",
    "SELECT DISTINCT ?a ?b where \n",
    "{ \n",
    "    ?a <http://bio2rdf.org/hetionet:CtD> ?f .\n",
    "    ?f <http://bio2rdf.org/hetionet:DrD> ?b .\n",
    "    MINUS { ?a  <http://bio2rdf.org/hetionet:CtD>  ?b .\n",
    "}\n",
    "\n",
    "```"
   ]
  },
  {
   "cell_type": "code",
   "execution_count": 12,
   "metadata": {},
   "outputs": [
    {
     "data": {
      "text/plain": [
       "'\\nMINUS { ?a  <http://bio2rdf.org/hetionet:CtD>  ?b .}\\n    }'"
      ]
     },
     "execution_count": 12,
     "metadata": {},
     "output_type": "execute_result"
    }
   ],
   "source": [
    "query='SELECT DISTINCT ?a ?b where { ?a <http://bio2rdf.org/hetionet:CtD> ?f .'\n",
    "' \\n ?f <http://bio2rdf.org/hetionet:DrD> ?b . '\n",
    "'\\nMINUS { ?a  <http://bio2rdf.org/hetionet:CtD>  ?b .}\\n    }'"
   ]
  },
  {
   "cell_type": "code",
   "execution_count": 73,
   "metadata": {},
   "outputs": [],
   "source": [
    "query='SELECT DISTINCT ?a ?b where { ?a <http://bio2rdf.org/hetionet:CtD> ?f . \\n ?f <http://bio2rdf.org/hetionet:DrD> ?b . \\n    }'"
   ]
  },
  {
   "cell_type": "code",
   "execution_count": 74,
   "metadata": {},
   "outputs": [],
   "source": [
    "g= Graph()"
   ]
  },
  {
   "cell_type": "code",
   "execution_count": 15,
   "metadata": {},
   "outputs": [],
   "source": [
    "!gunzip ../data/rdf/hetionet.ttl.gz"
   ]
  },
  {
   "cell_type": "code",
   "execution_count": 81,
   "metadata": {},
   "outputs": [
    {
     "data": {
      "text/plain": [
       "<Graph identifier=Ne491d8461b1b40eba9f1633fbf8c534e (<class 'rdflib.graph.Graph'>)>"
      ]
     },
     "execution_count": 81,
     "metadata": {},
     "output_type": "execute_result"
    }
   ],
   "source": [
    "## We used Hetionet KG: https://het.io/about/ \n",
    "g.parse('../data/rdf/hetionet.ttl',format=\"ttl\")"
   ]
  },
  {
   "cell_type": "code",
   "execution_count": 82,
   "metadata": {},
   "outputs": [],
   "source": [
    "query='SELECT DISTINCT ?a ?b where { ?a  <http://bio2rdf.org/hetionet:CtD>  ?b   }'"
   ]
  },
  {
   "cell_type": "code",
   "execution_count": 88,
   "metadata": {},
   "outputs": [],
   "source": [
    "qres= g.query(query)"
   ]
  },
  {
   "cell_type": "code",
   "execution_count": 183,
   "metadata": {},
   "outputs": [
    {
     "data": {
      "text/plain": [
       "755"
      ]
     },
     "execution_count": 183,
     "metadata": {},
     "output_type": "execute_result"
    }
   ],
   "source": [
    "indications_het =set()\n",
    "for row in qres:\n",
    "    #print (row['a'], row['b'])\n",
    "    indications_het.add((str(row['a']),str(row['b'])))\n",
    "    #break\n",
    "len(indications_het)"
   ]
  },
  {
   "cell_type": "code",
   "execution_count": 184,
   "metadata": {},
   "outputs": [
    {
     "data": {
      "text/plain": [
       "False"
      ]
     },
     "execution_count": 184,
     "metadata": {},
     "output_type": "execute_result"
    }
   ],
   "source": [
    "('http://bio2rdf.org/drugbank:DB00858', 'http://bio2rdf.org/doid:1612') in indications_het"
   ]
  },
  {
   "cell_type": "markdown",
   "metadata": {},
   "source": [
    "### Define KG Rules as Labeling Functions in Snorkel\n",
    "Snorkel is data labeling framework where multiple heuristic and programatic rules can be combined to assign a label to training data "
   ]
  },
  {
   "cell_type": "code",
   "execution_count": 19,
   "metadata": {},
   "outputs": [],
   "source": [
    "# Labels to be assigned \n",
    "ABSTAIN = -1\n",
    "INDICATION = 1\n"
   ]
  },
  {
   "cell_type": "code",
   "execution_count": 40,
   "metadata": {},
   "outputs": [],
   "source": [
    "#!pip install snorkel"
   ]
  },
  {
   "cell_type": "code",
   "execution_count": 22,
   "metadata": {},
   "outputs": [],
   "source": [
    "from snorkel.labeling import labeling_function\n",
    "\n",
    "\n",
    "@labeling_function()\n",
    "def check_rule(x):\n",
    "    drug= x.DB_ID\n",
    "    disease = x.DO_ID\n",
    "    for row in qres:\n",
    "        #print (row['a'], row['b'], drug, disease)\n",
    "        if str(row['a']) == drug and str(row['b']) == disease:\n",
    "            print (row['a'], row['b'])\n",
    "            return INDICATION\n",
    "    else:\n",
    "        return ABSTAIN"
   ]
  },
  {
   "cell_type": "markdown",
   "metadata": {},
   "source": [
    "### Define heuristics as Labeling Functions in Snorkel\n",
    "One common approach to define a rule to label text data is use of phrase, we define a list of phrases to look for in the text\n"
   ]
  },
  {
   "cell_type": "code",
   "execution_count": 23,
   "metadata": {},
   "outputs": [],
   "source": [
    "treatment_phrases= [\" indicated for the treatment of\",\n",
    "\" indicated in the management of\",\n",
    "\" indicated for the management of\",\n",
    "\"for the management of\",\n",
    "\"management of\",\n",
    "\" indicated for the maintenance of remission\", \n",
    "\"or the treatment of\",\n",
    "\"in the treatment of\",\n",
    "\" indicated as\",\n",
    "\" indicated in\",\n",
    "\"be effective\",\n",
    "\"active treatment of\",\n",
    "\" indicated for\",\n",
    "\"treatment of\",\n",
    "\" indicated as an adjunct\",\n",
    "\" indicated for use in the treatment of\", \n",
    "\" indicated for the intermittent treatment\", \n",
    "\" indicated to reduce the rate of\",\n",
    "\" indicated for the rapid control\",\n",
    "\" indicated for the control\",\n",
    "\"reduce the risk of\",\n",
    "\" indicated as adjunctive treatment\",\n",
    "\"for the treatment of\"]"
   ]
  },
  {
   "cell_type": "code",
   "execution_count": 24,
   "metadata": {},
   "outputs": [],
   "source": [
    "@labeling_function()\n",
    "def check_phrase(x):\n",
    "    if str(x.Context) !='nan':\n",
    "        text = x.Context.lower()\n",
    "        #print ('text')\n",
    "        for phr in treatment_phrases:\n",
    "            if phr in text:\n",
    "                return INDICATION\n",
    "    return ABSTAIN        "
   ]
  },
  {
   "cell_type": "code",
   "execution_count": 25,
   "metadata": {},
   "outputs": [
    {
     "name": "stderr",
     "output_type": "stream",
     "text": [
      "/opt/conda/lib/python3.7/site-packages/tqdm/std.py:666: FutureWarning: The Panel class is removed from pandas. Accessing it from the top-level namespace will also be removed in the next version\n",
      "  from pandas import Panel\n",
      " 12%|█▏        | 12/100 [00:02<00:45,  1.95it/s]"
     ]
    },
    {
     "name": "stdout",
     "output_type": "stream",
     "text": [
      "http://bio2rdf.org/drugbank:DB00563 http://bio2rdf.org/doid:8893\n"
     ]
    },
    {
     "name": "stderr",
     "output_type": "stream",
     "text": [
      " 37%|███▋      | 37/100 [00:02<00:06,  9.58it/s]"
     ]
    },
    {
     "name": "stdout",
     "output_type": "stream",
     "text": [
      "http://bio2rdf.org/drugbank:DB00635 http://bio2rdf.org/doid:3310\n"
     ]
    },
    {
     "name": "stderr",
     "output_type": "stream",
     "text": [
      " 58%|█████▊    | 58/100 [00:03<00:01, 24.00it/s]"
     ]
    },
    {
     "name": "stdout",
     "output_type": "stream",
     "text": [
      "http://bio2rdf.org/drugbank:DB00563 http://bio2rdf.org/doid:7148\n"
     ]
    },
    {
     "name": "stderr",
     "output_type": "stream",
     "text": [
      "100%|██████████| 100/100 [00:04<00:00, 23.36it/s]\n"
     ]
    }
   ],
   "source": [
    "from snorkel.labeling import PandasLFApplier\n",
    "\n",
    "lfs = [check_rule, check_phrase]\n",
    "\n",
    "applier = PandasLFApplier(lfs=lfs)\n",
    "L_train = applier.apply(df=unlabeled_df.sample(100))"
   ]
  },
  {
   "cell_type": "code",
   "execution_count": 26,
   "metadata": {},
   "outputs": [
    {
     "name": "stdout",
     "output_type": "stream",
     "text": [
      "check_out coverage: 3.0%\n",
      "check coverage: 64.0%\n"
     ]
    }
   ],
   "source": [
    "coverage_check_out, coverage_check = (L_train != ABSTAIN).mean(axis=0)\n",
    "print(f\"check_out coverage: {coverage_check_out * 100:.1f}%\")\n",
    "print(f\"check coverage: {coverage_check * 100:.1f}%\")"
   ]
  },
  {
   "cell_type": "markdown",
   "metadata": {},
   "source": [
    "### Defining labeling function for each rule"
   ]
  },
  {
   "cell_type": "code",
   "execution_count": 27,
   "metadata": {},
   "outputs": [
    {
     "data": {
      "text/html": [
       "<div>\n",
       "<style scoped>\n",
       "    .dataframe tbody tr th:only-of-type {\n",
       "        vertical-align: middle;\n",
       "    }\n",
       "\n",
       "    .dataframe tbody tr th {\n",
       "        vertical-align: top;\n",
       "    }\n",
       "\n",
       "    .dataframe thead th {\n",
       "        text-align: right;\n",
       "    }\n",
       "</style>\n",
       "<table border=\"1\" class=\"dataframe\">\n",
       "  <thead>\n",
       "    <tr style=\"text-align: right;\">\n",
       "      <th></th>\n",
       "      <th>Rule</th>\n",
       "      <th>Head Coverage</th>\n",
       "      <th>Std Confidence</th>\n",
       "      <th>PCA Confidence</th>\n",
       "      <th>Positive Examples</th>\n",
       "      <th>Body size</th>\n",
       "      <th>PCA Body size</th>\n",
       "      <th>Functional variable</th>\n",
       "      <th>Std. Lower Bound</th>\n",
       "      <th>PCA Lower Bound</th>\n",
       "      <th>PCA Conf estimation</th>\n",
       "    </tr>\n",
       "  </thead>\n",
       "  <tbody>\n",
       "    <tr>\n",
       "      <th>0</th>\n",
       "      <td>?a  CpD  ?f  ?f  DrD  ?b   =&gt; ?a  CpD  ?b</td>\n",
       "      <td>0.235897</td>\n",
       "      <td>0.105747</td>\n",
       "      <td>0.105747</td>\n",
       "      <td>92</td>\n",
       "      <td>870</td>\n",
       "      <td>870</td>\n",
       "      <td>?a</td>\n",
       "      <td>0.0</td>\n",
       "      <td>0.0</td>\n",
       "      <td>0.0</td>\n",
       "    </tr>\n",
       "    <tr>\n",
       "      <th>1</th>\n",
       "      <td>?f  CpD  ?b  ?a  CrC  ?f   =&gt; ?a  CpD  ?b</td>\n",
       "      <td>0.338462</td>\n",
       "      <td>0.080097</td>\n",
       "      <td>0.279070</td>\n",
       "      <td>132</td>\n",
       "      <td>1648</td>\n",
       "      <td>473</td>\n",
       "      <td>?a</td>\n",
       "      <td>0.0</td>\n",
       "      <td>0.0</td>\n",
       "      <td>0.0</td>\n",
       "    </tr>\n",
       "    <tr>\n",
       "      <th>2</th>\n",
       "      <td>?e  CpD  ?b  ?e  CrC  ?a   =&gt; ?a  CpD  ?b</td>\n",
       "      <td>0.317949</td>\n",
       "      <td>0.067982</td>\n",
       "      <td>0.227106</td>\n",
       "      <td>124</td>\n",
       "      <td>1824</td>\n",
       "      <td>546</td>\n",
       "      <td>?a</td>\n",
       "      <td>0.0</td>\n",
       "      <td>0.0</td>\n",
       "      <td>0.0</td>\n",
       "    </tr>\n",
       "    <tr>\n",
       "      <th>3</th>\n",
       "      <td>?a  DrD  ?f  ?b  DrD  ?f   =&gt; ?a  DrD  ?b</td>\n",
       "      <td>0.644567</td>\n",
       "      <td>0.150215</td>\n",
       "      <td>0.150215</td>\n",
       "      <td>350</td>\n",
       "      <td>2330</td>\n",
       "      <td>2330</td>\n",
       "      <td>?a</td>\n",
       "      <td>0.0</td>\n",
       "      <td>0.0</td>\n",
       "      <td>0.0</td>\n",
       "    </tr>\n",
       "    <tr>\n",
       "      <th>4</th>\n",
       "      <td>?f  DrD  ?b  ?a  DrD  ?f   =&gt; ?a  DrD  ?b</td>\n",
       "      <td>0.631676</td>\n",
       "      <td>0.286789</td>\n",
       "      <td>0.286789</td>\n",
       "      <td>343</td>\n",
       "      <td>1196</td>\n",
       "      <td>1196</td>\n",
       "      <td>?a</td>\n",
       "      <td>0.0</td>\n",
       "      <td>0.0</td>\n",
       "      <td>0.0</td>\n",
       "    </tr>\n",
       "  </tbody>\n",
       "</table>\n",
       "</div>"
      ],
      "text/plain": [
       "                                        Rule  Head Coverage  Std Confidence  \\\n",
       "0  ?a  CpD  ?f  ?f  DrD  ?b   => ?a  CpD  ?b       0.235897        0.105747   \n",
       "1  ?f  CpD  ?b  ?a  CrC  ?f   => ?a  CpD  ?b       0.338462        0.080097   \n",
       "2  ?e  CpD  ?b  ?e  CrC  ?a   => ?a  CpD  ?b       0.317949        0.067982   \n",
       "3  ?a  DrD  ?f  ?b  DrD  ?f   => ?a  DrD  ?b       0.644567        0.150215   \n",
       "4  ?f  DrD  ?b  ?a  DrD  ?f   => ?a  DrD  ?b       0.631676        0.286789   \n",
       "\n",
       "   PCA Confidence  Positive Examples  Body size  PCA Body size  \\\n",
       "0        0.105747                 92        870            870   \n",
       "1        0.279070                132       1648            473   \n",
       "2        0.227106                124       1824            546   \n",
       "3        0.150215                350       2330           2330   \n",
       "4        0.286789                343       1196           1196   \n",
       "\n",
       "  Functional variable  Std. Lower Bound  PCA Lower Bound  PCA Conf estimation  \n",
       "0                  ?a               0.0              0.0                  0.0  \n",
       "1                  ?a               0.0              0.0                  0.0  \n",
       "2                  ?a               0.0              0.0                  0.0  \n",
       "3                  ?a               0.0              0.0                  0.0  \n",
       "4                  ?a               0.0              0.0                  0.0  "
      ]
     },
     "execution_count": 27,
     "metadata": {},
     "output_type": "execute_result"
    }
   ],
   "source": [
    "# This table is the output of the rule mining tool AIME+ using Hetnet KG\n",
    "df_rules = pd.read_csv('../data/input/rules-hetionet-edges-20-04-2020.tsv',sep='\\t')\n",
    "df_rules.head()"
   ]
  },
  {
   "cell_type": "markdown",
   "metadata": {},
   "source": [
    "### Extract the rules that are related to Compound and Disease (CtD relation)"
   ]
  },
  {
   "cell_type": "code",
   "execution_count": 28,
   "metadata": {},
   "outputs": [
    {
     "name": "stdout",
     "output_type": "stream",
     "text": [
      "CtD\n",
      "?a  <http://bio2rdf.org/hetionet:CtD>  ?f  ?f  <http://bio2rdf.org/hetionet:DrD>  ?b    ?a  <http://bio2rdf.org/hetionet:CtD>  ?b\n",
      "CtD\n",
      "?a  <http://bio2rdf.org/hetionet:CtD>  ?f  ?b  <http://bio2rdf.org/hetionet:DrD>  ?f    ?a  <http://bio2rdf.org/hetionet:CtD>  ?b\n",
      "CtD\n",
      "?a  <http://bio2rdf.org/hetionet:CrC>  ?f  ?f  <http://bio2rdf.org/hetionet:CtD>  ?b    ?a  <http://bio2rdf.org/hetionet:CtD>  ?b\n",
      "CtD\n",
      "?e  <http://bio2rdf.org/hetionet:CrC>  ?a  ?e  <http://bio2rdf.org/hetionet:CtD>  ?b    ?a  <http://bio2rdf.org/hetionet:CtD>  ?b\n"
     ]
    }
   ],
   "source": [
    "rules = []\n",
    "for rule in df_rules.Rule:\n",
    "    #print(rule)\n",
    "    body,head = rule.split(' =>')\n",
    "    \n",
    "    #print(head)\n",
    "    relation = head.split('  ')[1].replace('>','')\n",
    "    if relation == 'CtD':\n",
    "        body = body.replace('CtD','<http://bio2rdf.org/hetionet:CtD>').\\\n",
    "        replace('CrC','<http://bio2rdf.org/hetionet:CrC>').\\\n",
    "        replace('DrD','<http://bio2rdf.org/hetionet:DrD>')\n",
    "        \n",
    "        head = head.replace('CtD','<http://bio2rdf.org/hetionet:CtD>').\\\n",
    "        replace('CrC','<http://bio2rdf.org/hetionet:CrC>').\\\n",
    "        replace('DrD','<http://bio2rdf.org/hetionet:DrD>')\n",
    "        print (relation)\n",
    "        print(body, head)\n",
    "        rules.append({'head':head, 'body':body, 'relation':'CtD'})"
   ]
  },
  {
   "cell_type": "code",
   "execution_count": 29,
   "metadata": {},
   "outputs": [
    {
     "data": {
      "text/plain": [
       "[{'head': ' ?a  <http://bio2rdf.org/hetionet:CtD>  ?b',\n",
       "  'body': '?a  <http://bio2rdf.org/hetionet:CtD>  ?f  ?f  <http://bio2rdf.org/hetionet:DrD>  ?b  ',\n",
       "  'relation': 'CtD'},\n",
       " {'head': ' ?a  <http://bio2rdf.org/hetionet:CtD>  ?b',\n",
       "  'body': '?a  <http://bio2rdf.org/hetionet:CtD>  ?f  ?b  <http://bio2rdf.org/hetionet:DrD>  ?f  ',\n",
       "  'relation': 'CtD'},\n",
       " {'head': ' ?a  <http://bio2rdf.org/hetionet:CtD>  ?b',\n",
       "  'body': '?a  <http://bio2rdf.org/hetionet:CrC>  ?f  ?f  <http://bio2rdf.org/hetionet:CtD>  ?b  ',\n",
       "  'relation': 'CtD'},\n",
       " {'head': ' ?a  <http://bio2rdf.org/hetionet:CtD>  ?b',\n",
       "  'body': '?e  <http://bio2rdf.org/hetionet:CrC>  ?a  ?e  <http://bio2rdf.org/hetionet:CtD>  ?b  ',\n",
       "  'relation': 'CtD'}]"
      ]
     },
     "execution_count": 29,
     "metadata": {},
     "output_type": "execute_result"
    }
   ],
   "source": [
    "rules"
   ]
  },
  {
   "cell_type": "markdown",
   "metadata": {},
   "source": [
    "### Embedding"
   ]
  },
  {
   "cell_type": "code",
   "execution_count": 185,
   "metadata": {},
   "outputs": [],
   "source": [
    "from gensim.models import KeyedVectors"
   ]
  },
  {
   "cell_type": "code",
   "execution_count": 187,
   "metadata": {},
   "outputs": [],
   "source": [
    "word_vectors = KeyedVectors.load('../embeddings/hetionet/w2v_vectors.kv')"
   ]
  },
  {
   "cell_type": "markdown",
   "metadata": {},
   "source": [
    "### Convert the rules to SPARQL queries"
   ]
  },
  {
   "cell_type": "code",
   "execution_count": 30,
   "metadata": {},
   "outputs": [],
   "source": [
    "def construct_query_for_rule(rule):\n",
    "    patterns = rule['body'].split('  ')\n",
    "    n_pattern = len(patterns)\n",
    "    triple_pattern = \"\"\"SELECT DISTINCT ?a ?b where { \n",
    "      \n",
    "    \"\"\"\n",
    "    k =3\n",
    "    for i in range(int(n_pattern/k)):\n",
    "        triple_pattern += patterns[i*k] + ' '+patterns[k*i+1] + ' '+patterns[k*i+2] +' . \\n'\n",
    "        #print (triple_pattern)\n",
    "\n",
    "    triple_pattern+= \"MINUS {\"+rule['head']+\" .}\"\n",
    "    triple_pattern+= \"\"\"\n",
    "    }\"\"\"\n",
    "    \n",
    "    return triple_pattern"
   ]
  },
  {
   "cell_type": "code",
   "execution_count": 31,
   "metadata": {},
   "outputs": [],
   "source": [
    "sparql0 = construct_query_for_rule(rules[0])\n",
    "sparql0\n",
    "qres0 = g.query(sparql0)"
   ]
  },
  {
   "cell_type": "code",
   "execution_count": 32,
   "metadata": {},
   "outputs": [
    {
     "data": {
      "text/plain": [
       "'SELECT DISTINCT ?a ?b where { \\n      \\n    ?a <http://bio2rdf.org/hetionet:CtD> ?f . \\n?b <http://bio2rdf.org/hetionet:DrD> ?f . \\nMINUS { ?a  <http://bio2rdf.org/hetionet:CtD>  ?b .}\\n    }'"
      ]
     },
     "execution_count": 32,
     "metadata": {},
     "output_type": "execute_result"
    }
   ],
   "source": [
    "sparql1 = construct_query_for_rule(rules[1])\n",
    "qres1 = g.query(sparql1)\n",
    "sparql1"
   ]
  },
  {
   "cell_type": "code",
   "execution_count": 33,
   "metadata": {},
   "outputs": [
    {
     "data": {
      "text/plain": [
       "'SELECT DISTINCT ?a ?b where { \\n      \\n    ?a <http://bio2rdf.org/hetionet:CrC> ?f . \\n?f <http://bio2rdf.org/hetionet:CtD> ?b . \\nMINUS { ?a  <http://bio2rdf.org/hetionet:CtD>  ?b .}\\n    }'"
      ]
     },
     "execution_count": 33,
     "metadata": {},
     "output_type": "execute_result"
    }
   ],
   "source": [
    "sparql2 = construct_query_for_rule(rules[2])\n",
    "qres2 = g.query(sparql2)\n",
    "sparql2"
   ]
  },
  {
   "cell_type": "code",
   "execution_count": 34,
   "metadata": {},
   "outputs": [
    {
     "data": {
      "text/plain": [
       "'SELECT DISTINCT ?a ?b where { \\n      \\n    ?e <http://bio2rdf.org/hetionet:CrC> ?a . \\n?e <http://bio2rdf.org/hetionet:CtD> ?b . \\nMINUS { ?a  <http://bio2rdf.org/hetionet:CtD>  ?b .}\\n    }'"
      ]
     },
     "execution_count": 34,
     "metadata": {},
     "output_type": "execute_result"
    }
   ],
   "source": [
    "sparql3 = construct_query_for_rule(rules[3])\n",
    "qres3 = g.query(sparql3)\n",
    "sparql3"
   ]
  },
  {
   "cell_type": "markdown",
   "metadata": {},
   "source": [
    "### Use the SPARQL query results in the labeling fuctions \n",
    "If the SPARQL results defined for a rule contain a drug and disease pair, it means this rule supports the fact that the drug treats the target"
   ]
  },
  {
   "cell_type": "code",
   "execution_count": 35,
   "metadata": {},
   "outputs": [],
   "source": [
    "@labeling_function()\n",
    "def check_rule0(x):\n",
    "    drug= x.DB_ID\n",
    "    disease = x.DO_ID\n",
    "    for row in qres0:\n",
    "        #print (row['a'], row['b'], drug, disease)\n",
    "        if str(row['a']) == drug and str(row['b']) == disease:\n",
    "            return INDICATION\n",
    "    return ABSTAIN\n",
    "\n",
    "\n",
    "@labeling_function()\n",
    "def check_rule1(x):\n",
    "    drug= x.DB_ID\n",
    "    disease = x.DO_ID\n",
    "    for row in qres1:\n",
    "        #print (row['a'], row['b'], drug, disease)\n",
    "        if str(row['a']) == drug and str(row['b']) == disease:\n",
    "            return INDICATION\n",
    "    return ABSTAIN\n",
    "\n",
    "@labeling_function()\n",
    "def check_rule2(x):\n",
    "    drug= x.DB_ID\n",
    "    disease = x.DO_ID\n",
    "    for row in qres2:\n",
    "        #print (row['a'], row['b'], drug, disease)\n",
    "        if str(row['a']) == drug and str(row['b']) == disease:\n",
    "            return INDICATION\n",
    "    return ABSTAIN\n",
    "\n",
    "@labeling_function()\n",
    "def check_rule3(x):\n",
    "    drug= x.DB_ID\n",
    "    disease = x.DO_ID\n",
    "    for row in qres2:\n",
    "        #print (row['a'], row['b'], drug, disease)\n",
    "        if str(row['a']) == drug and str(row['b']) == disease:\n",
    "            return INDICATION\n",
    "    return ABSTAIN\n",
    "\n",
    "\n",
    "@labeling_function()\n",
    "def check_phrase(x):\n",
    "    if str(x.Context) !='nan':\n",
    "        text = x.Context.lower()\n",
    "        #print ('text')\n",
    "        for phr in treatment_phrases:\n",
    "            if phr in text:\n",
    "                return INDICATION\n",
    "    return ABSTAIN        "
   ]
  },
  {
   "cell_type": "code",
   "execution_count": 36,
   "metadata": {},
   "outputs": [],
   "source": [
    "# Use Embedding model in the labeling function  "
   ]
  },
  {
   "cell_type": "code",
   "execution_count": 188,
   "metadata": {},
   "outputs": [],
   "source": [
    "@labeling_function()\n",
    "def check_drug_sim(x):\n",
    "    drug= x.DB_ID\n",
    "    disease = x.DO_ID\n",
    "    #print (drug, disease)\n",
    "    # search all indications treating the same disease\n",
    "    # if the drug that is similar to the one in the known indication,\n",
    "    # return 'INDICATION' \n",
    "    for (dr, ds) in indications_het:\n",
    "        if ds == disease and dr in word_vectors:\n",
    "            similarDrugs = word_vectors.most_similar(dr,topn=20)\n",
    "            for en,sim in similarDrugs:\n",
    "                if en == drug:\n",
    "                    return INDICATION\n",
    "    return ABSTAIN \n",
    "\n",
    "@labeling_function()\n",
    "def check_disease_sim(x):\n",
    "    drug= x.DB_ID\n",
    "    disease = x.DO_ID\n",
    "    #print (drug, disease)\n",
    "    for (dr, ds) in indications_het:\n",
    "        if dr == drug and ds in word_vectors:\n",
    "            similarDiseases = word_vectors.most_similar(ds,topn=20)\n",
    "            for en,sim in similarDiseases:\n",
    "                if en == disease:\n",
    "                    return INDICATION\n",
    "    return ABSTAIN "
   ]
  },
  {
   "cell_type": "code",
   "execution_count": 189,
   "metadata": {},
   "outputs": [
    {
     "name": "stderr",
     "output_type": "stream",
     "text": [
      "/opt/conda/lib/python3.7/site-packages/tqdm/std.py:666: FutureWarning: The Panel class is removed from pandas. Accessing it from the top-level namespace will also be removed in the next version\n",
      "  from pandas import Panel\n",
      "100%|██████████| 100/100 [00:14<00:00,  6.95it/s]\n"
     ]
    }
   ],
   "source": [
    "from snorkel.labeling import PandasLFApplier\n",
    "\n",
    "lfs = [check_rule0, check_rule1, check_rule2, check_rule3, check_drug_sim, check_disease_sim]\n",
    "\n",
    "applier = PandasLFApplier(lfs=lfs)\n",
    "L_train = applier.apply(df=unlabeled_df.sample(100))"
   ]
  },
  {
   "cell_type": "code",
   "execution_count": 190,
   "metadata": {},
   "outputs": [
    {
     "name": "stdout",
     "output_type": "stream",
     "text": [
      "check_out coverage: 1.0%\n",
      "check coverage: 0.0%\n",
      "check_out coverage: 0.0%\n",
      "check coverage: 0.0%\n",
      "check coverage: 6.0%\n",
      "check coverage: 4.0%\n"
     ]
    }
   ],
   "source": [
    "coverage_check_rule0, coverage_check_rule1, coverage_check_rule2,coverage_check_rule3, coverage_check_drug_sim, coverage_check_disease_sim = (L_train != ABSTAIN).mean(axis=0)\n",
    "print(f\"check_out coverage: {coverage_check_rule0 * 100:.1f}%\")\n",
    "print(f\"check coverage: {coverage_check_rule1 * 100:.1f}%\")\n",
    "print(f\"check_out coverage: {coverage_check_rule2 * 100:.1f}%\")\n",
    "print(f\"check coverage: {coverage_check_rule3 * 100:.1f}%\")\n",
    "print(f\"check coverage: {coverage_check_drug_sim * 100:.1f}%\")\n",
    "print(f\"check coverage: {coverage_check_disease_sim * 100:.1f}%\")\n"
   ]
  },
  {
   "cell_type": "code",
   "execution_count": null,
   "metadata": {},
   "outputs": [],
   "source": []
  }
 ],
 "metadata": {
  "kernelspec": {
   "display_name": "Python 3",
   "language": "python",
   "name": "python3"
  },
  "language_info": {
   "codemirror_mode": {
    "name": "ipython",
    "version": 3
   },
   "file_extension": ".py",
   "mimetype": "text/x-python",
   "name": "python",
   "nbconvert_exporter": "python",
   "pygments_lexer": "ipython3",
   "version": "3.7.6"
  }
 },
 "nbformat": 4,
 "nbformat_minor": 5
}
