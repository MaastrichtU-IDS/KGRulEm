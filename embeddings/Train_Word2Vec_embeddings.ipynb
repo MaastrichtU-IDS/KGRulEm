{
 "cells": [
  {
   "cell_type": "code",
   "execution_count": 1,
   "metadata": {},
   "outputs": [],
   "source": [
    "import gensim\n",
    "import os\n",
    "class MySentences(object):\n",
    "    def __init__(self, dirname, filename):\n",
    "        self.dirname = dirname\n",
    "        self.filename = filename\n",
    "\n",
    "    def __iter__(self):\n",
    "        print ('Processing ',self.filename)\n",
    "        for subfname in os.listdir(self.dirname):\n",
    "            if not self.filename in subfname: continue\n",
    "            fpath = os.path.join(self.dirname, subfname)\n",
    "            for fname in os.listdir(fpath):\n",
    "                if not 'part' in fname: continue\n",
    "                if '.crc' in fname: continue\n",
    "                try:\n",
    "                    for line in open(os.path.join(fpath, fname), mode='r'):\n",
    "                        line = line.rstrip('\\n')\n",
    "                        words = line.split(\"->\")\n",
    "                        yield words\n",
    "                except Exception:\n",
    "                    print(\"Failed reading file:\")\n",
    "                    print(fname)"
   ]
  },
  {
   "cell_type": "code",
   "execution_count": 2,
   "metadata": {},
   "outputs": [],
   "source": [
    "datafilename = '../../pyRDF2Vec/walks/' \n",
    "pattern = 'uniform'\n",
    "sentences = MySentences(datafilename, filename=pattern) # a memory-friendly iterator\n",
    "model = gensim.models.Word2Vec(size=200, workers=5, window=5, sg=1, negative=15, iter=5)"
   ]
  },
  {
   "cell_type": "code",
   "execution_count": null,
   "metadata": {},
   "outputs": [],
   "source": [
    "model.build_vocab(sentences)\n",
    "corpus_count = model.corpus_count\n",
    "model.train(sentences, total_examples=corpus_count, epochs =5)"
   ]
  },
  {
   "cell_type": "code",
   "execution_count": null,
   "metadata": {},
   "outputs": [],
   "source": [
    "model.wv.most_similar('http://bio2rdf.org/drugbank:DB00858',topn=10)"
   ]
  },
  {
   "cell_type": "code",
   "execution_count": null,
   "metadata": {},
   "outputs": [],
   "source": [
    "model.wv.save('hetionet/w2v_vectors.kv')"
   ]
  }
 ],
 "metadata": {
  "kernelspec": {
   "display_name": "Python 3",
   "language": "python",
   "name": "python3"
  },
  "language_info": {
   "codemirror_mode": {
    "name": "ipython",
    "version": 3
   },
   "file_extension": ".py",
   "mimetype": "text/x-python",
   "name": "python",
   "nbconvert_exporter": "python",
   "pygments_lexer": "ipython3",
   "version": "3.7.6"
  }
 },
 "nbformat": 4,
 "nbformat_minor": 4
}
